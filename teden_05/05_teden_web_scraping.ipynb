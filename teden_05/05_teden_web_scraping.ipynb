{
 "cells": [
  {
   "cell_type": "code",
   "execution_count": 1,
   "metadata": {},
   "outputs": [],
   "source": [
    "import pandas as pd"
   ]
  },
  {
   "cell_type": "markdown",
   "metadata": {},
   "source": [
    "# Web scraping - pridobivanje podatkov s spleta\n"
   ]
  },
  {
   "cell_type": "markdown",
   "metadata": {},
   "source": [
    "## What Is Web Scraping?"
   ]
  },
  {
   "cell_type": "markdown",
   "metadata": {},
   "source": [
    "<img class=\"progressiveMedia-image js-progressiveMedia-image\" data-src=\"https://cdn-images-1.medium.com/max/1600/1*GOyqaID2x1N5lD_rhTDKVQ.png\" src=\"https://cdn-images-1.medium.com/max/1600/1*GOyqaID2x1N5lD_rhTDKVQ.png\">"
   ]
  },
  {
   "cell_type": "markdown",
   "metadata": {},
   "source": [
    "### Why Web Scraping for Data Science?"
   ]
  },
  {
   "cell_type": "markdown",
   "metadata": {},
   "source": [
    "## Network complexity"
   ]
  },
  {
   "cell_type": "markdown",
   "metadata": {},
   "source": [
    "## HTTP"
   ]
  },
  {
   "cell_type": "markdown",
   "metadata": {},
   "source": [
    "## HTTP in Python: The Requests Library"
   ]
  },
  {
   "cell_type": "markdown",
   "metadata": {},
   "source": [
    "[Requests: HTTP for Humans](https://2.python-requests.org/en/master/)"
   ]
  },
  {
   "cell_type": "code",
   "execution_count": null,
   "metadata": {},
   "outputs": [],
   "source": [
    "#web scraping: zgradimo skripto, ki preparsa spletno stran, organizira podatke in jih nekam shrani\n",
    "#v python prensemo html spletne strani in iz tega potem delamo dalje"
   ]
  },
  {
   "cell_type": "code",
   "execution_count": 2,
   "metadata": {},
   "outputs": [],
   "source": [
    "#request knjižnica\n",
    "import requests"
   ]
  },
  {
   "cell_type": "code",
   "execution_count": 3,
   "metadata": {},
   "outputs": [],
   "source": [
    "#parsali bomo example.com spletno stran\n",
    "url ='http://example.com'"
   ]
  },
  {
   "cell_type": "code",
   "execution_count": 4,
   "metadata": {},
   "outputs": [],
   "source": [
    "r = requests.get(url)"
   ]
  },
  {
   "cell_type": "code",
   "execution_count": 7,
   "metadata": {},
   "outputs": [
    {
     "data": {
      "text/plain": [
       "<Response [200]>"
      ]
     },
     "execution_count": 7,
     "metadata": {},
     "output_type": "execute_result"
    }
   ],
   "source": [
    "#r je Response objekt\n",
    "#200 pomeni, da je bil objekt uspešno narejen\n",
    "r"
   ]
  },
  {
   "cell_type": "code",
   "execution_count": 8,
   "metadata": {},
   "outputs": [
    {
     "data": {
      "text/plain": [
       "requests.models.Response"
      ]
     },
     "execution_count": 8,
     "metadata": {},
     "output_type": "execute_result"
    }
   ],
   "source": [
    "type(r)"
   ]
  },
  {
   "cell_type": "code",
   "execution_count": 9,
   "metadata": {},
   "outputs": [
    {
     "data": {
      "text/plain": [
       "'<!doctype html>\\n<html>\\n<head>\\n    <title>Example Domain</title>\\n\\n    <meta charset=\"utf-8\" />\\n    <meta http-equiv=\"Content-type\" content=\"text/html; charset=utf-8\" />\\n    <meta name=\"viewport\" content=\"width=device-width, initial-scale=1\" />\\n    <style type=\"text/css\">\\n    body {\\n        background-color: #f0f0f2;\\n        margin: 0;\\n        padding: 0;\\n        font-family: \"Open Sans\", \"Helvetica Neue\", Helvetica, Arial, sans-serif;\\n        \\n    }\\n    div {\\n        width: 600px;\\n        margin: 5em auto;\\n        padding: 50px;\\n        background-color: #fff;\\n        border-radius: 1em;\\n    }\\n    a:link, a:visited {\\n        color: #38488f;\\n        text-decoration: none;\\n    }\\n    @media (max-width: 700px) {\\n        body {\\n            background-color: #fff;\\n        }\\n        div {\\n            width: auto;\\n            margin: 0 auto;\\n            border-radius: 0;\\n            padding: 1em;\\n        }\\n    }\\n    </style>    \\n</head>\\n\\n<body>\\n<div>\\n    <h1>Example Domain</h1>\\n    <p>This domain is established to be used for illustrative examples in documents. You may use this\\n    domain in examples without prior coordination or asking for permission.</p>\\n    <p><a href=\"http://www.iana.org/domains/example\">More information...</a></p>\\n</div>\\n</body>\\n</html>\\n'"
      ]
     },
     "execution_count": 9,
     "metadata": {},
     "output_type": "execute_result"
    }
   ],
   "source": [
    "r.text"
   ]
  },
  {
   "cell_type": "code",
   "execution_count": 12,
   "metadata": {},
   "outputs": [
    {
     "data": {
      "text/plain": [
       "200"
      ]
     },
     "execution_count": 12,
     "metadata": {},
     "output_type": "execute_result"
    }
   ],
   "source": [
    "#izpišemo status code\n",
    "r.status_code"
   ]
  },
  {
   "cell_type": "code",
   "execution_count": 15,
   "metadata": {},
   "outputs": [
    {
     "data": {
      "text/plain": [
       "'OK'"
      ]
     },
     "execution_count": 15,
     "metadata": {},
     "output_type": "execute_result"
    }
   ],
   "source": [
    "#poleg status code, lahko izpipšemo tudi komentar\n",
    "r.reason"
   ]
  },
  {
   "cell_type": "code",
   "execution_count": 19,
   "metadata": {},
   "outputs": [
    {
     "data": {
      "text/plain": [
       "{'Content-Encoding': 'gzip', 'Cache-Control': 'max-age=604800', 'Content-Type': 'text/html; charset=UTF-8', 'Date': 'Wed, 22 May 2019 17:40:56 GMT', 'Etag': '\"1541025663+ident+gzip\"', 'Expires': 'Wed, 29 May 2019 17:40:56 GMT', 'Last-Modified': 'Fri, 09 Aug 2013 23:54:35 GMT', 'Server': 'ECS (dcb/7F3A)', 'Vary': 'Accept-Encoding', 'X-Cache': 'HIT', 'Content-Length': '606'}"
      ]
     },
     "execution_count": 19,
     "metadata": {},
     "output_type": "execute_result"
    }
   ],
   "source": [
    "r.headers"
   ]
  },
  {
   "cell_type": "code",
   "execution_count": 17,
   "metadata": {},
   "outputs": [
    {
     "data": {
      "text/plain": [
       "<PreparedRequest [GET]>"
      ]
     },
     "execution_count": 17,
     "metadata": {},
     "output_type": "execute_result"
    }
   ],
   "source": [
    "#pogledamo request: request je tipa GET \n",
    "r.request"
   ]
  },
  {
   "cell_type": "code",
   "execution_count": 18,
   "metadata": {},
   "outputs": [
    {
     "data": {
      "text/plain": [
       "{'User-Agent': 'python-requests/2.21.0', 'Accept-Encoding': 'gzip, deflate', 'Accept': '*/*', 'Connection': 'keep-alive'}"
      ]
     },
     "execution_count": 18,
     "metadata": {},
     "output_type": "execute_result"
    }
   ],
   "source": [
    "#kaj je bilo poslano na stran\n",
    "r.request.headers"
   ]
  },
  {
   "cell_type": "markdown",
   "metadata": {},
   "source": [
    "## HTML and CSS"
   ]
  },
  {
   "cell_type": "markdown",
   "metadata": {},
   "source": [
    "<img class=\"progressiveMedia-image js-progressiveMedia-image\" data-src=\"https://cdn-images-1.medium.com/max/1600/1*x9mxFBXnLU05iPy19dGj7g.png\" src=\"https://cdn-images-1.medium.com/max/1600/1*x9mxFBXnLU05iPy19dGj7g.png\">"
   ]
  },
  {
   "cell_type": "markdown",
   "metadata": {},
   "source": [
    "### Hypertext Markup Language: HTML"
   ]
  },
  {
   "cell_type": "markdown",
   "metadata": {},
   "source": [
    "Link strani: https://en.wikipedia.org/w/index.php?title=List_of_Game_of_Thrones_episodes&oldid=802553687"
   ]
  },
  {
   "cell_type": "code",
   "execution_count": 3,
   "metadata": {},
   "outputs": [],
   "source": [
    "import requests"
   ]
  },
  {
   "cell_type": "code",
   "execution_count": 10,
   "metadata": {},
   "outputs": [],
   "source": [
    "url_got = 'https://en.wikipedia.org/w/index.php?title=List_of_Game_of_Thrones_episodes&oldid=802553687'"
   ]
  },
  {
   "cell_type": "code",
   "execution_count": 11,
   "metadata": {},
   "outputs": [],
   "source": [
    "#prenesemo spletno stran\n",
    "r = requests.get(url_got)"
   ]
  },
  {
   "cell_type": "code",
   "execution_count": 9,
   "metadata": {},
   "outputs": [
    {
     "data": {
      "text/plain": [
       "'<!DOCTYPE html>\\n<html class=\"client-nojs\" lang=\"en\" dir=\"ltr\">\\n<head>\\n<meta charset=\"UTF-8\"/>\\n<title>List of Game of Thrones episodes - Wikipedia</title>\\n<script>document.documentElement.className=document.documentElement.className.replace(/(^|\\\\s)client-nojs(\\\\s|$)/,\"$1client-js$2\");RLCONF={\"wgCanonicalNamespace\":\"\",\"wgCanonicalSpecialPageName\":!1,\"wgNamespaceNumber\":0,\"wgPageName\":\"List_of_Game_of_Thrones_episodes\",\"wgTitle\":\"List of Game of Thrones episodes\",\"wgCurRevisionId\":898999050,\"wgRevisionId\":802553687,\"wgArticleId\":31120069,\"wgIsArticle\":!0,\"wgIsRedirect\":!1,\"wgAction\":\"view\",\"wgUserName\":null,\"wgUserGroups\":[\"*\"],\"wgCategories\":[\"Articles containing potentially dated statements from August 2017\",\"All articles containing potentially dated statements\",\"Official website not in Wikidata\",\"Featured lists\",\"Game of Thrones episodes\",\"Lists of American drama television series episodes\",\"Lists of fantasy television series episodes\"],\"wgBreakFrames\":!1,\"wgPageContentLanguage\":\"en\",\"w'"
      ]
     },
     "execution_count": 9,
     "metadata": {},
     "output_type": "execute_result"
    }
   ],
   "source": [
    "r.text[:1000]"
   ]
  },
  {
   "cell_type": "code",
   "execution_count": null,
   "metadata": {},
   "outputs": [],
   "source": []
  },
  {
   "cell_type": "markdown",
   "metadata": {},
   "source": [
    "- `<p>...</p>` to enclose a paragraph;\n",
    "- `<br>` to set a line break;\n",
    "- `<table>...</table>` to start a table block, inside; `<tr>...<tr/>` is used for the rows; and `<td>...</td>` cells;\n",
    "- `<img>` for images;\n",
    "- `<h1>...</h1> to <h6>...</h6>` for headers;\n",
    "- `<div>...</div>` to indicate a “division” in an HTML document, basically used to group a set of elements;\n",
    "- `<a>...</a>` for hyperlinks;\n",
    "- `<ul>...</ul>, <ol>...</ol>` for unordered and ordered lists respectively; inside of these, `<li>...</li>` is used for each list item."
   ]
  },
  {
   "cell_type": "markdown",
   "metadata": {},
   "source": [
    "## Using Your Browser as a Development Tool"
   ]
  },
  {
   "cell_type": "markdown",
   "metadata": {},
   "source": [
    "## The Beautiful Soup Library"
   ]
  },
  {
   "cell_type": "code",
   "execution_count": 13,
   "metadata": {},
   "outputs": [],
   "source": [
    "#shranimo html kodo\n",
    "html_content = r.text"
   ]
  },
  {
   "cell_type": "code",
   "execution_count": 14,
   "metadata": {},
   "outputs": [],
   "source": [
    "#importiramo Beautifl Soup\n",
    "from bs4 import BeautifulSoup"
   ]
  },
  {
   "cell_type": "code",
   "execution_count": 15,
   "metadata": {},
   "outputs": [],
   "source": [
    "#naredimo BeautifulSoup objekt in povemo, kateri parser naj uporabi\n",
    "#beautiful soup zažene parser in sparsa stran v beautiful soup obliko\n",
    "html_soup = BeautifulSoup(html_content, 'html.parser')\n"
   ]
  },
  {
   "cell_type": "code",
   "execution_count": null,
   "metadata": {},
   "outputs": [],
   "source": []
  },
  {
   "cell_type": "markdown",
   "metadata": {},
   "source": [
    "> **[beautifulsoup4](https://www.crummy.com/software/BeautifulSoup/bs4/doc/)**: Beautiful Soup tries to organize complexity: it helps to parse, structure and organize the oftentimes very messy web by fixing bad HTML and presenting us with an easy-to-work-with Python structure."
   ]
  },
  {
   "cell_type": "markdown",
   "metadata": {},
   "source": [
    "In Python, multiple parsers exist to do so:\n",
    "- `html.parser`: a built-in Python parser that is decent (especially when using recent versions of Python 3) and requires no extra installation.\n",
    "- `lxml`: which is very fast but requires an extra installation.\n",
    "- `html5lib`: which aims to parse web page in exactly the same way as a web browser does, but is a bit slower."
   ]
  },
  {
   "cell_type": "markdown",
   "metadata": {},
   "source": [
    "- `find(name, attrs, recursive, string, **keywords)`\n",
    "- `find_all(name, attrs, recursive, string, limit, **keywords)`"
   ]
  },
  {
   "cell_type": "code",
   "execution_count": 16,
   "metadata": {},
   "outputs": [
    {
     "data": {
      "text/plain": [
       "<h1 class=\"firstHeading\" id=\"firstHeading\" lang=\"en\">List of <i>Game of Thrones</i> episodes</h1>"
      ]
     },
     "execution_count": 16,
     "metadata": {},
     "output_type": "execute_result"
    }
   ],
   "source": [
    "#find: najdi prvi h1 element\n",
    "html_soup.find('h1')"
   ]
  },
  {
   "cell_type": "code",
   "execution_count": 17,
   "metadata": {},
   "outputs": [
    {
     "data": {
      "text/plain": [
       "<h1 class=\"firstHeading\" id=\"firstHeading\" lang=\"en\">List of <i>Game of Thrones</i> episodes</h1>"
      ]
     },
     "execution_count": 17,
     "metadata": {},
     "output_type": "execute_result"
    }
   ],
   "source": [
    "#išče vse tage, v  {} mu damo atribut\n",
    "#vrne tag, kjer se nahaja ta atribut\n",
    "html_soup.find('',{'id':'firstHeading'})"
   ]
  },
  {
   "cell_type": "code",
   "execution_count": 23,
   "metadata": {},
   "outputs": [],
   "source": [
    "#poiščemo vse tage h2\n",
    "#recursive: False vrne samo prvega, True išče tudi znotraj\n",
    "#limit: koliko naj jih poišče\n",
    "all_h2 = html_soup.find_all('h2')"
   ]
  },
  {
   "cell_type": "code",
   "execution_count": 24,
   "metadata": {},
   "outputs": [
    {
     "data": {
      "text/plain": [
       "8"
      ]
     },
     "execution_count": 24,
     "metadata": {},
     "output_type": "execute_result"
    }
   ],
   "source": [
    "len(all_h2)"
   ]
  },
  {
   "cell_type": "code",
   "execution_count": 25,
   "metadata": {},
   "outputs": [
    {
     "data": {
      "text/plain": [
       "[<h2>Contents</h2>,\n",
       " <h2><span class=\"mw-headline\" id=\"Series_overview\">Series overview</span></h2>,\n",
       " <h2><span class=\"mw-headline\" id=\"Episodes\">Episodes</span></h2>,\n",
       " <h2><span class=\"mw-headline\" id=\"Home_media_releases\">Home media releases</span></h2>,\n",
       " <h2><span class=\"mw-headline\" id=\"Ratings\">Ratings</span></h2>,\n",
       " <h2><span class=\"mw-headline\" id=\"References\">References</span></h2>,\n",
       " <h2><span class=\"mw-headline\" id=\"External_links\">External links</span></h2>,\n",
       " <h2>Navigation menu</h2>]"
      ]
     },
     "execution_count": 25,
     "metadata": {},
     "output_type": "execute_result"
    }
   ],
   "source": [
    "#h2 je list\n",
    "all_h2"
   ]
  },
  {
   "cell_type": "code",
   "execution_count": 26,
   "metadata": {},
   "outputs": [
    {
     "name": "stdout",
     "output_type": "stream",
     "text": [
      "<h2>Contents</h2>\n",
      "<h2><span class=\"mw-headline\" id=\"Series_overview\">Series overview</span></h2>\n",
      "<h2><span class=\"mw-headline\" id=\"Episodes\">Episodes</span></h2>\n",
      "<h2><span class=\"mw-headline\" id=\"Home_media_releases\">Home media releases</span></h2>\n",
      "<h2><span class=\"mw-headline\" id=\"Ratings\">Ratings</span></h2>\n",
      "<h2><span class=\"mw-headline\" id=\"References\">References</span></h2>\n",
      "<h2><span class=\"mw-headline\" id=\"External_links\">External links</span></h2>\n",
      "<h2>Navigation menu</h2>\n"
     ]
    }
   ],
   "source": [
    "#običajno delamo loop po tagih\n",
    "for found in html_soup.find_all('h2'):\n",
    "    print(found)"
   ]
  },
  {
   "cell_type": "code",
   "execution_count": 27,
   "metadata": {},
   "outputs": [
    {
     "data": {
      "text/plain": [
       "<h1 class=\"firstHeading\" id=\"firstHeading\" lang=\"en\">List of <i>Game of Thrones</i> episodes</h1>"
      ]
     },
     "execution_count": 27,
     "metadata": {},
     "output_type": "execute_result"
    }
   ],
   "source": [
    "first_h1 = html_soup.find('h1')\n",
    "first_h1"
   ]
  },
  {
   "cell_type": "code",
   "execution_count": 28,
   "metadata": {},
   "outputs": [
    {
     "data": {
      "text/plain": [
       "'h1'"
      ]
     },
     "execution_count": 28,
     "metadata": {},
     "output_type": "execute_result"
    }
   ],
   "source": [
    "#ime taga\n",
    "first_h1.name"
   ]
  },
  {
   "cell_type": "code",
   "execution_count": 30,
   "metadata": {},
   "outputs": [
    {
     "data": {
      "text/plain": [
       "['List of ', <i>Game of Thrones</i>, ' episodes']"
      ]
     },
     "execution_count": 30,
     "metadata": {},
     "output_type": "execute_result"
    }
   ],
   "source": [
    "#list, kaj se nahaja v first_h1\n",
    "first_h1.contents"
   ]
  },
  {
   "cell_type": "code",
   "execution_count": 31,
   "metadata": {},
   "outputs": [
    {
     "data": {
      "text/plain": [
       "'<h1 class=\"firstHeading\" id=\"firstHeading\" lang=\"en\">List of <i>Game of Thrones</i> episodes</h1>'"
      ]
     },
     "execution_count": 31,
     "metadata": {},
     "output_type": "execute_result"
    }
   ],
   "source": [
    "str(first_h1)"
   ]
  },
  {
   "cell_type": "code",
   "execution_count": 35,
   "metadata": {},
   "outputs": [
    {
     "data": {
      "text/plain": [
       "'List of --Game of Thrones-- episodes'"
      ]
     },
     "execution_count": 35,
     "metadata": {},
     "output_type": "execute_result"
    }
   ],
   "source": [
    "#tekst, ki je v h1 tagu\n",
    "first_h1.text\n",
    "\n",
    "#drugi način\n",
    "first_h1.get_text('--')"
   ]
  },
  {
   "cell_type": "code",
   "execution_count": 34,
   "metadata": {},
   "outputs": [
    {
     "data": {
      "text/plain": [
       "{'id': 'firstHeading', 'class': ['firstHeading'], 'lang': 'en'}"
      ]
     },
     "execution_count": 34,
     "metadata": {},
     "output_type": "execute_result"
    }
   ],
   "source": [
    "#dictionary atributov v tagu\n",
    "first_h1.attrs"
   ]
  },
  {
   "cell_type": "code",
   "execution_count": 39,
   "metadata": {},
   "outputs": [
    {
     "data": {
      "text/plain": [
       "'firstHeading'"
      ]
     },
     "execution_count": 39,
     "metadata": {},
     "output_type": "execute_result"
    }
   ],
   "source": [
    "#če želimo samo en določen atribut\n",
    "first_h1.attrs['id']\n",
    "\n",
    "#isto\n",
    "first_h1['id']\n",
    "\n",
    "#isto\n",
    "first_h1.get('id')"
   ]
  },
  {
   "cell_type": "code",
   "execution_count": null,
   "metadata": {},
   "outputs": [],
   "source": [
    "#class je rezervirana beseda, zato za  tag class uporabljamo class_"
   ]
  },
  {
   "cell_type": "code",
   "execution_count": 42,
   "metadata": {},
   "outputs": [
    {
     "data": {
      "text/plain": [
       "4"
      ]
     },
     "execution_count": 42,
     "metadata": {},
     "output_type": "execute_result"
    }
   ],
   "source": [
    "#želimo najti prve 4 tage \"cite\" in classe, ki so citation\n",
    "cites = html_soup.find_all('cite', class_ = 'citation' ,limit = 4)\n",
    "len(cites)"
   ]
  },
  {
   "cell_type": "code",
   "execution_count": 43,
   "metadata": {},
   "outputs": [
    {
     "data": {
      "text/plain": [
       "<cite class=\"citation web\">Fowler, Matt (April 8, 2011). <a class=\"external text\" href=\"http://tv.ign.com/articles/116/1160215p1.html\" rel=\"nofollow\">\"Game of Thrones: \"Winter is Coming\" Review\"</a>. <a href=\"/wiki/IGN\" title=\"IGN\">IGN</a>. <a class=\"external text\" href=\"https://web.archive.org/web/20120817073932/http://tv.ign.com/articles/116/1160215p1.html\" rel=\"nofollow\">Archived</a> from the original on August 17, 2012<span class=\"reference-accessdate\">. Retrieved <span class=\"nowrap\">September 22,</span> 2016</span>.</cite>"
      ]
     },
     "execution_count": 43,
     "metadata": {},
     "output_type": "execute_result"
    }
   ],
   "source": [
    "cites[0]"
   ]
  },
  {
   "cell_type": "code",
   "execution_count": 44,
   "metadata": {},
   "outputs": [
    {
     "data": {
      "text/plain": [
       "'Fowler, Matt (April 8, 2011). \"Game of Thrones: \"Winter is Coming\" Review\". IGN. Archived from the original on August 17, 2012. Retrieved September 22, 2016.'"
      ]
     },
     "execution_count": 44,
     "metadata": {},
     "output_type": "execute_result"
    }
   ],
   "source": [
    "#iz cites bi radi dobili vsebino in link, ki je notri\n",
    "#tekst\n",
    "cites[0].get_text()"
   ]
  },
  {
   "cell_type": "code",
   "execution_count": 47,
   "metadata": {},
   "outputs": [
    {
     "data": {
      "text/plain": [
       "'http://tv.ign.com/articles/116/1160215p1.html'"
      ]
     },
     "execution_count": 47,
     "metadata": {},
     "output_type": "execute_result"
    }
   ],
   "source": [
    "#link\n",
    "link = cites[0].find('a').get('href')\n",
    "link"
   ]
  },
  {
   "cell_type": "code",
   "execution_count": 50,
   "metadata": {},
   "outputs": [
    {
     "name": "stdout",
     "output_type": "stream",
     "text": [
      "---> Fowler, Matt (April 8, 2011). \"Game of Thrones: \"Winter is Coming\" Review\". IGN. Archived from the original on August 17, 2012. Retrieved September 22, 2016.\n",
      "http://tv.ign.com/articles/116/1160215p1.html\n",
      "\n",
      "---> Fleming, Michael (January 16, 2007). \"HBO turns Fire into fantasy series\". Variety. Archived from the original on May 16, 2012. Retrieved September 3, 2016.\n",
      "http://www.variety.com/article/VR1117957532.html?categoryid=14&cs=1\n",
      "\n",
      "---> \"Game of Thrones\". Emmys.com. Retrieved September 17, 2016.\n",
      "http://www.emmys.com/shows/game-thrones\n",
      "\n",
      "---> Roberts, Josh (April 1, 2012). \"Where HBO's hit 'Game of Thrones' was filmed\". USA Today. Archived from the original on April 1, 2012. Retrieved March 8, 2013.\n",
      "https://web.archive.org/web/20120401123724/http://travel.usatoday.com/destinations/story/2012-04-01/Where-the-HBO-hit-Game-of-Thrones-was-filmed/53876876/1\n",
      "\n"
     ]
    }
   ],
   "source": [
    "#naredimo to za vse\n",
    "for citation in cites:\n",
    "    print('--->' , citation.get_text())\n",
    "    print( citation.find('a').get('href'))\n",
    "    print()"
   ]
  },
  {
   "cell_type": "markdown",
   "metadata": {},
   "source": [
    "##### Parsanje tabel"
   ]
  },
  {
   "cell_type": "code",
   "execution_count": 51,
   "metadata": {},
   "outputs": [
    {
     "data": {
      "text/plain": [
       "'\\n\\n\\n\\nList of Game of Thrones episodes - Wikipedia\\ndocument.documentElement.className=document.documentElement.className.replace(/(^|\\\\s)client-nojs(\\\\s|$)/,\"$1client-js$2\");RLCONF={\"wgCanonicalNamespace\":\"\",\"wgCanonicalSpecialPageName\":!1,\"wgNamespaceNumber\":0,\"wgPageName\":\"List_of_Game_of_Thrones_episodes\",\"wgTitle\":\"List of Game of Thrones episodes\",\"wgCurRevisionId\":898999050,\"wgRevisionId\":802553687,\"wgArticleId\":31120069,\"wgIsArticle\":!0,\"wgIsRedirect\":!1,\"wgAction\":\"view\",\"wgUserName\":null,\"wgUserGroups\":[\"*\"],\"wgCategories\":[\"Articles containing potentially dated statements from August 2017\",\"All articles containing potentially dated statements\",\"Official website not in Wikidata\",\"Featured lists\",\"Game of Thrones episodes\",\"Lists of American drama television series episodes\",\"Lists of fantasy television series episodes\"],\"wgBreakFrames\":!1,\"wgPageContentLanguage\":\"en\",\"wgPageContentModel\":\"wikitext\",\"wgSeparatorTransformTable\":[\"\",\"\"],\"wgDigitTransformTable\":[\"\",\"\"],\"wgDefaultDateF'"
      ]
     },
     "execution_count": 51,
     "metadata": {},
     "output_type": "execute_result"
    }
   ],
   "source": [
    "#radi bi sparsali tabelo, ki je na strani\n",
    "html_soup.text[:1000]"
   ]
  },
  {
   "cell_type": "code",
   "execution_count": 52,
   "metadata": {},
   "outputs": [],
   "source": [
    "#poiščemo tag table, s katerim se začnejo tabele v html-ju\n",
    "episodes = []"
   ]
  },
  {
   "cell_type": "code",
   "execution_count": 56,
   "metadata": {},
   "outputs": [],
   "source": [
    "#vse tabele na strani so classa wikiepisodetable\n",
    "#vse tabele na strani\n",
    "ep_tables = html_soup.find_all('table', class_ = 'wikiepisodetable')"
   ]
  },
  {
   "cell_type": "code",
   "execution_count": 62,
   "metadata": {},
   "outputs": [
    {
     "ename": "IndexError",
     "evalue": "list index out of range",
     "output_type": "error",
     "traceback": [
      "\u001b[0;31m---------------------------------------------------------------------------\u001b[0m",
      "\u001b[0;31mIndexError\u001b[0m                                Traceback (most recent call last)",
      "\u001b[0;32m<ipython-input-62-8dec1a02501d>\u001b[0m in \u001b[0;36m<module>\u001b[0;34m\u001b[0m\n\u001b[1;32m     10\u001b[0m                 \u001b[0mvalues\u001b[0m\u001b[0;34m.\u001b[0m\u001b[0mappend\u001b[0m\u001b[0;34m(\u001b[0m\u001b[0mcol\u001b[0m\u001b[0;34m.\u001b[0m\u001b[0mtext\u001b[0m\u001b[0;34m)\u001b[0m\u001b[0;34m\u001b[0m\u001b[0;34m\u001b[0m\u001b[0m\n\u001b[1;32m     11\u001b[0m             \u001b[0;32mif\u001b[0m \u001b[0mvalues\u001b[0m\u001b[0;34m:\u001b[0m\u001b[0;34m\u001b[0m\u001b[0;34m\u001b[0m\u001b[0m\n\u001b[0;32m---> 12\u001b[0;31m                 \u001b[0mepisode_dict\u001b[0m \u001b[0;34m=\u001b[0m \u001b[0;34m{\u001b[0m\u001b[0mheaders\u001b[0m\u001b[0;34m[\u001b[0m\u001b[0mi\u001b[0m\u001b[0;34m]\u001b[0m\u001b[0;34m:\u001b[0m \u001b[0mvalues\u001b[0m\u001b[0;34m[\u001b[0m\u001b[0mi\u001b[0m\u001b[0;34m]\u001b[0m \u001b[0;32mfor\u001b[0m \u001b[0mi\u001b[0m \u001b[0;32min\u001b[0m \u001b[0mrange\u001b[0m\u001b[0;34m(\u001b[0m\u001b[0mlen\u001b[0m\u001b[0;34m(\u001b[0m\u001b[0mvalues\u001b[0m\u001b[0;34m)\u001b[0m\u001b[0;34m)\u001b[0m\u001b[0;34m}\u001b[0m\u001b[0;34m\u001b[0m\u001b[0;34m\u001b[0m\u001b[0m\n\u001b[0m\u001b[1;32m     13\u001b[0m                 \u001b[0mepisodes\u001b[0m\u001b[0;34m.\u001b[0m\u001b[0mappend\u001b[0m\u001b[0;34m(\u001b[0m\u001b[0mepisode_dict\u001b[0m\u001b[0;34m)\u001b[0m\u001b[0;34m\u001b[0m\u001b[0;34m\u001b[0m\u001b[0m\n\u001b[1;32m     14\u001b[0m \u001b[0;34m\u001b[0m\u001b[0m\n",
      "\u001b[0;32m<ipython-input-62-8dec1a02501d>\u001b[0m in \u001b[0;36m<dictcomp>\u001b[0;34m(.0)\u001b[0m\n\u001b[1;32m     10\u001b[0m                 \u001b[0mvalues\u001b[0m\u001b[0;34m.\u001b[0m\u001b[0mappend\u001b[0m\u001b[0;34m(\u001b[0m\u001b[0mcol\u001b[0m\u001b[0;34m.\u001b[0m\u001b[0mtext\u001b[0m\u001b[0;34m)\u001b[0m\u001b[0;34m\u001b[0m\u001b[0;34m\u001b[0m\u001b[0m\n\u001b[1;32m     11\u001b[0m             \u001b[0;32mif\u001b[0m \u001b[0mvalues\u001b[0m\u001b[0;34m:\u001b[0m\u001b[0;34m\u001b[0m\u001b[0;34m\u001b[0m\u001b[0m\n\u001b[0;32m---> 12\u001b[0;31m                 \u001b[0mepisode_dict\u001b[0m \u001b[0;34m=\u001b[0m \u001b[0;34m{\u001b[0m\u001b[0mheaders\u001b[0m\u001b[0;34m[\u001b[0m\u001b[0mi\u001b[0m\u001b[0;34m]\u001b[0m\u001b[0;34m:\u001b[0m \u001b[0mvalues\u001b[0m\u001b[0;34m[\u001b[0m\u001b[0mi\u001b[0m\u001b[0;34m]\u001b[0m \u001b[0;32mfor\u001b[0m \u001b[0mi\u001b[0m \u001b[0;32min\u001b[0m \u001b[0mrange\u001b[0m\u001b[0;34m(\u001b[0m\u001b[0mlen\u001b[0m\u001b[0;34m(\u001b[0m\u001b[0mvalues\u001b[0m\u001b[0;34m)\u001b[0m\u001b[0;34m)\u001b[0m\u001b[0;34m}\u001b[0m\u001b[0;34m\u001b[0m\u001b[0;34m\u001b[0m\u001b[0m\n\u001b[0m\u001b[1;32m     13\u001b[0m                 \u001b[0mepisodes\u001b[0m\u001b[0;34m.\u001b[0m\u001b[0mappend\u001b[0m\u001b[0;34m(\u001b[0m\u001b[0mepisode_dict\u001b[0m\u001b[0;34m)\u001b[0m\u001b[0;34m\u001b[0m\u001b[0;34m\u001b[0m\u001b[0m\n\u001b[1;32m     14\u001b[0m \u001b[0;34m\u001b[0m\u001b[0m\n",
      "\u001b[0;31mIndexError\u001b[0m: list index out of range"
     ]
    }
   ],
   "source": [
    "#za vsako tabelo poiščemo header in vsebino tabele\n",
    "for table in ep_tables[0]:\n",
    "    headers = [] #vsebina headerjev\n",
    "    #gremo po vrsticah: vsaka vrstica se začne s tr\n",
    "    rows = table.find_all('tr')\n",
    "    for header in table.find('tr').find_all('th'): #poiščemo naslovno vrstico: znotraj prve vrstice iščemo vse th-je\n",
    "        for row in rows[1:]: #poiščemo vsebino\n",
    "            values = [] #vsebina\n",
    "            for col in row.find_all(['th', 'td']):\n",
    "                values.append(col.text)\n",
    "            if values:\n",
    "                episode_dict = {headers[i]: values[i] for i in range(len(values))}\n",
    "                episodes.append(episode_dict)\n",
    "\n",
    "        \n",
    "        "
   ]
  },
  {
   "cell_type": "code",
   "execution_count": null,
   "metadata": {},
   "outputs": [],
   "source": [
    "for episode in episodes:\n",
    "    "
   ]
  },
  {
   "cell_type": "code",
   "execution_count": 64,
   "metadata": {},
   "outputs": [
    {
     "data": {
      "text/html": [
       "<div>\n",
       "<style scoped>\n",
       "    .dataframe tbody tr th:only-of-type {\n",
       "        vertical-align: middle;\n",
       "    }\n",
       "\n",
       "    .dataframe tbody tr th {\n",
       "        vertical-align: top;\n",
       "    }\n",
       "\n",
       "    .dataframe thead th {\n",
       "        text-align: right;\n",
       "    }\n",
       "</style>\n",
       "<table border=\"1\" class=\"dataframe\">\n",
       "  <thead>\n",
       "    <tr style=\"text-align: right;\">\n",
       "      <th></th>\n",
       "    </tr>\n",
       "  </thead>\n",
       "  <tbody>\n",
       "  </tbody>\n",
       "</table>\n",
       "</div>"
      ],
      "text/plain": [
       "Empty DataFrame\n",
       "Columns: []\n",
       "Index: []"
      ]
     },
     "execution_count": 64,
     "metadata": {},
     "output_type": "execute_result"
    }
   ],
   "source": [
    "#tabelo damo lahko v dataframe\n",
    "pd.DataFrame(episodes).head(5)"
   ]
  },
  {
   "cell_type": "code",
   "execution_count": null,
   "metadata": {},
   "outputs": [],
   "source": [
    "#včasih se tabele bolj splača uvažat v csv  ali skopirat v excel, kot pa parsat"
   ]
  },
  {
   "cell_type": "markdown",
   "metadata": {},
   "source": [
    "## Web APIs"
   ]
  },
  {
   "cell_type": "markdown",
   "metadata": {},
   "source": [
    "### Primer uporabe APIja"
   ]
  },
  {
   "cell_type": "markdown",
   "metadata": {},
   "source": [
    "https://github.com/HackerNews/API"
   ]
  },
  {
   "cell_type": "code",
   "execution_count": null,
   "metadata": {},
   "outputs": [],
   "source": [
    "#API je programski interface, ki nam podatke že vrne v urejenem formatu\n",
    "#narediš request na stran in dobiš podatke v JSONu\n",
    "#Če obstaja API, ni treba parsat strani"
   ]
  },
  {
   "cell_type": "code",
   "execution_count": 65,
   "metadata": {},
   "outputs": [],
   "source": [
    "articles = []"
   ]
  },
  {
   "cell_type": "code",
   "execution_count": null,
   "metadata": {},
   "outputs": [],
   "source": []
  },
  {
   "cell_type": "code",
   "execution_count": 66,
   "metadata": {},
   "outputs": [],
   "source": [
    "url = 'https://hacker-news.firebaseio.com/v0'"
   ]
  },
  {
   "cell_type": "code",
   "execution_count": 68,
   "metadata": {},
   "outputs": [
    {
     "data": {
      "text/plain": [
       "'[20019647,20019874,20019206,20019877,200'"
      ]
     },
     "execution_count": 68,
     "metadata": {},
     "output_type": "execute_result"
    }
   ],
   "source": [
    "#želimo dobiti ven top stories\n",
    "\n",
    "top_stories = requests.get(url + '/topstories.json') #pogledaš v dokumentacijo, kako kličeš\n",
    "top_stories.text[:40] #dobimo IDje zgodb"
   ]
  },
  {
   "cell_type": "code",
   "execution_count": null,
   "metadata": {},
   "outputs": [],
   "source": []
  },
  {
   "cell_type": "code",
   "execution_count": 69,
   "metadata": {},
   "outputs": [],
   "source": [
    "top_stories = top_stories.json()"
   ]
  },
  {
   "cell_type": "code",
   "execution_count": 72,
   "metadata": {},
   "outputs": [
    {
     "name": "stdout",
     "output_type": "stream",
     "text": [
      "Prenos:  https://hacker-news.firebaseio.com/v0/item/20019647.json\n",
      "Prenos:  https://hacker-news.firebaseio.com/v0/item/20019874.json\n",
      "Prenos:  https://hacker-news.firebaseio.com/v0/item/20019206.json\n",
      "Prenos:  https://hacker-news.firebaseio.com/v0/item/20019877.json\n",
      "Prenos:  https://hacker-news.firebaseio.com/v0/item/20021568.json\n"
     ]
    }
   ],
   "source": [
    "#preberemo prvih 5 zgodb\n",
    "for story_id in top_stories[:5]:\n",
    "    story_url = url + f'/item/{story_id}.json'\n",
    "    print('Prenos: ', story_url)\n",
    "    #request naredimo:\n",
    "    r = requests.get(story_url)\n",
    "    story_dict = r.json()\n",
    "    articles.append(story_dict)\n",
    "    \n",
    "    "
   ]
  },
  {
   "cell_type": "code",
   "execution_count": 73,
   "metadata": {},
   "outputs": [
    {
     "data": {
      "text/plain": [
       "{'by': 'ChuckMcM',\n",
       " 'descendants': 107,\n",
       " 'id': 20019647,\n",
       " 'kids': [20019656,\n",
       "  20021798,\n",
       "  20019813,\n",
       "  20021427,\n",
       "  20020785,\n",
       "  20020158,\n",
       "  20020261,\n",
       "  20020167,\n",
       "  20019727,\n",
       "  20021141,\n",
       "  20019699],\n",
       " 'score': 224,\n",
       " 'time': 1558934592,\n",
       " 'title': 'Arm announces its new premium CPU and GPU designs',\n",
       " 'type': 'story',\n",
       " 'url': 'https://techcrunch.com/2019/05/26/arm-announces-its-new-premium-cpu-and-gpu-designs/'}"
      ]
     },
     "execution_count": 73,
     "metadata": {},
     "output_type": "execute_result"
    }
   ],
   "source": [
    "articles[0]"
   ]
  },
  {
   "cell_type": "code",
   "execution_count": 76,
   "metadata": {},
   "outputs": [
    {
     "name": "stdout",
     "output_type": "stream",
     "text": [
      "Arm announces its new premium CPU and GPU designs\n",
      "On SQS\n",
      "AMD Ryzen 3000 announced\n",
      "Show HN: Interactively select the quality and format for youtube-dl\n",
      "Chinese developers fear the tech war will cost them access to GitHub\n"
     ]
    }
   ],
   "source": [
    "#naslovi zgodb\n",
    "for article in articles:\n",
    "    print(article['title'])"
   ]
  },
  {
   "cell_type": "code",
   "execution_count": null,
   "metadata": {},
   "outputs": [],
   "source": []
  },
  {
   "cell_type": "markdown",
   "metadata": {},
   "source": [
    "### Import data from web - pandas"
   ]
  },
  {
   "cell_type": "markdown",
   "metadata": {},
   "source": [
    "##### [Odprti podatki Slovenije](https://podatki.gov.si/)\n",
    "\n",
    "\n",
    "Na portalu OPSI boste našli vse od podatkov, orodij, do koristnih virov, s katerimi boste lahko razvijali spletne in mobilne aplikacije, oblikovali lastne infografike in drugo"
   ]
  },
  {
   "cell_type": "markdown",
   "metadata": {},
   "source": [
    "Primer: https://support.spatialkey.com/spatialkey-sample-csv-data/"
   ]
  },
  {
   "cell_type": "code",
   "execution_count": 78,
   "metadata": {},
   "outputs": [],
   "source": [
    "#direktno lahko prenesemo tabelo direktno v pandas\n",
    "data = pd.read_csv('http://samplecsvs.s3.amazonaws.com/Sacramentorealestatetransactions.csv')"
   ]
  },
  {
   "cell_type": "code",
   "execution_count": 79,
   "metadata": {},
   "outputs": [
    {
     "data": {
      "text/html": [
       "<div>\n",
       "<style scoped>\n",
       "    .dataframe tbody tr th:only-of-type {\n",
       "        vertical-align: middle;\n",
       "    }\n",
       "\n",
       "    .dataframe tbody tr th {\n",
       "        vertical-align: top;\n",
       "    }\n",
       "\n",
       "    .dataframe thead th {\n",
       "        text-align: right;\n",
       "    }\n",
       "</style>\n",
       "<table border=\"1\" class=\"dataframe\">\n",
       "  <thead>\n",
       "    <tr style=\"text-align: right;\">\n",
       "      <th></th>\n",
       "      <th>street</th>\n",
       "      <th>city</th>\n",
       "      <th>zip</th>\n",
       "      <th>state</th>\n",
       "      <th>beds</th>\n",
       "      <th>baths</th>\n",
       "      <th>sq__ft</th>\n",
       "      <th>type</th>\n",
       "      <th>sale_date</th>\n",
       "      <th>price</th>\n",
       "      <th>latitude</th>\n",
       "      <th>longitude</th>\n",
       "    </tr>\n",
       "  </thead>\n",
       "  <tbody>\n",
       "    <tr>\n",
       "      <th>0</th>\n",
       "      <td>3526 HIGH ST</td>\n",
       "      <td>SACRAMENTO</td>\n",
       "      <td>95838</td>\n",
       "      <td>CA</td>\n",
       "      <td>2</td>\n",
       "      <td>1</td>\n",
       "      <td>836</td>\n",
       "      <td>Residential</td>\n",
       "      <td>Wed May 21 00:00:00 EDT 2008</td>\n",
       "      <td>59222</td>\n",
       "      <td>38.631913</td>\n",
       "      <td>-121.434879</td>\n",
       "    </tr>\n",
       "    <tr>\n",
       "      <th>1</th>\n",
       "      <td>51 OMAHA CT</td>\n",
       "      <td>SACRAMENTO</td>\n",
       "      <td>95823</td>\n",
       "      <td>CA</td>\n",
       "      <td>3</td>\n",
       "      <td>1</td>\n",
       "      <td>1167</td>\n",
       "      <td>Residential</td>\n",
       "      <td>Wed May 21 00:00:00 EDT 2008</td>\n",
       "      <td>68212</td>\n",
       "      <td>38.478902</td>\n",
       "      <td>-121.431028</td>\n",
       "    </tr>\n",
       "    <tr>\n",
       "      <th>2</th>\n",
       "      <td>2796 BRANCH ST</td>\n",
       "      <td>SACRAMENTO</td>\n",
       "      <td>95815</td>\n",
       "      <td>CA</td>\n",
       "      <td>2</td>\n",
       "      <td>1</td>\n",
       "      <td>796</td>\n",
       "      <td>Residential</td>\n",
       "      <td>Wed May 21 00:00:00 EDT 2008</td>\n",
       "      <td>68880</td>\n",
       "      <td>38.618305</td>\n",
       "      <td>-121.443839</td>\n",
       "    </tr>\n",
       "    <tr>\n",
       "      <th>3</th>\n",
       "      <td>2805 JANETTE WAY</td>\n",
       "      <td>SACRAMENTO</td>\n",
       "      <td>95815</td>\n",
       "      <td>CA</td>\n",
       "      <td>2</td>\n",
       "      <td>1</td>\n",
       "      <td>852</td>\n",
       "      <td>Residential</td>\n",
       "      <td>Wed May 21 00:00:00 EDT 2008</td>\n",
       "      <td>69307</td>\n",
       "      <td>38.616835</td>\n",
       "      <td>-121.439146</td>\n",
       "    </tr>\n",
       "    <tr>\n",
       "      <th>4</th>\n",
       "      <td>6001 MCMAHON DR</td>\n",
       "      <td>SACRAMENTO</td>\n",
       "      <td>95824</td>\n",
       "      <td>CA</td>\n",
       "      <td>2</td>\n",
       "      <td>1</td>\n",
       "      <td>797</td>\n",
       "      <td>Residential</td>\n",
       "      <td>Wed May 21 00:00:00 EDT 2008</td>\n",
       "      <td>81900</td>\n",
       "      <td>38.519470</td>\n",
       "      <td>-121.435768</td>\n",
       "    </tr>\n",
       "    <tr>\n",
       "      <th>5</th>\n",
       "      <td>5828 PEPPERMILL CT</td>\n",
       "      <td>SACRAMENTO</td>\n",
       "      <td>95841</td>\n",
       "      <td>CA</td>\n",
       "      <td>3</td>\n",
       "      <td>1</td>\n",
       "      <td>1122</td>\n",
       "      <td>Condo</td>\n",
       "      <td>Wed May 21 00:00:00 EDT 2008</td>\n",
       "      <td>89921</td>\n",
       "      <td>38.662595</td>\n",
       "      <td>-121.327813</td>\n",
       "    </tr>\n",
       "    <tr>\n",
       "      <th>6</th>\n",
       "      <td>6048 OGDEN NASH WAY</td>\n",
       "      <td>SACRAMENTO</td>\n",
       "      <td>95842</td>\n",
       "      <td>CA</td>\n",
       "      <td>3</td>\n",
       "      <td>2</td>\n",
       "      <td>1104</td>\n",
       "      <td>Residential</td>\n",
       "      <td>Wed May 21 00:00:00 EDT 2008</td>\n",
       "      <td>90895</td>\n",
       "      <td>38.681659</td>\n",
       "      <td>-121.351705</td>\n",
       "    </tr>\n",
       "    <tr>\n",
       "      <th>7</th>\n",
       "      <td>2561 19TH AVE</td>\n",
       "      <td>SACRAMENTO</td>\n",
       "      <td>95820</td>\n",
       "      <td>CA</td>\n",
       "      <td>3</td>\n",
       "      <td>1</td>\n",
       "      <td>1177</td>\n",
       "      <td>Residential</td>\n",
       "      <td>Wed May 21 00:00:00 EDT 2008</td>\n",
       "      <td>91002</td>\n",
       "      <td>38.535092</td>\n",
       "      <td>-121.481367</td>\n",
       "    </tr>\n",
       "    <tr>\n",
       "      <th>8</th>\n",
       "      <td>11150 TRINITY RIVER DR Unit 114</td>\n",
       "      <td>RANCHO CORDOVA</td>\n",
       "      <td>95670</td>\n",
       "      <td>CA</td>\n",
       "      <td>2</td>\n",
       "      <td>2</td>\n",
       "      <td>941</td>\n",
       "      <td>Condo</td>\n",
       "      <td>Wed May 21 00:00:00 EDT 2008</td>\n",
       "      <td>94905</td>\n",
       "      <td>38.621188</td>\n",
       "      <td>-121.270555</td>\n",
       "    </tr>\n",
       "    <tr>\n",
       "      <th>9</th>\n",
       "      <td>7325 10TH ST</td>\n",
       "      <td>RIO LINDA</td>\n",
       "      <td>95673</td>\n",
       "      <td>CA</td>\n",
       "      <td>3</td>\n",
       "      <td>2</td>\n",
       "      <td>1146</td>\n",
       "      <td>Residential</td>\n",
       "      <td>Wed May 21 00:00:00 EDT 2008</td>\n",
       "      <td>98937</td>\n",
       "      <td>38.700909</td>\n",
       "      <td>-121.442979</td>\n",
       "    </tr>\n",
       "    <tr>\n",
       "      <th>10</th>\n",
       "      <td>645 MORRISON AVE</td>\n",
       "      <td>SACRAMENTO</td>\n",
       "      <td>95838</td>\n",
       "      <td>CA</td>\n",
       "      <td>3</td>\n",
       "      <td>2</td>\n",
       "      <td>909</td>\n",
       "      <td>Residential</td>\n",
       "      <td>Wed May 21 00:00:00 EDT 2008</td>\n",
       "      <td>100309</td>\n",
       "      <td>38.637663</td>\n",
       "      <td>-121.451520</td>\n",
       "    </tr>\n",
       "    <tr>\n",
       "      <th>11</th>\n",
       "      <td>4085 FAWN CIR</td>\n",
       "      <td>SACRAMENTO</td>\n",
       "      <td>95823</td>\n",
       "      <td>CA</td>\n",
       "      <td>3</td>\n",
       "      <td>2</td>\n",
       "      <td>1289</td>\n",
       "      <td>Residential</td>\n",
       "      <td>Wed May 21 00:00:00 EDT 2008</td>\n",
       "      <td>106250</td>\n",
       "      <td>38.470746</td>\n",
       "      <td>-121.458918</td>\n",
       "    </tr>\n",
       "    <tr>\n",
       "      <th>12</th>\n",
       "      <td>2930 LA ROSA RD</td>\n",
       "      <td>SACRAMENTO</td>\n",
       "      <td>95815</td>\n",
       "      <td>CA</td>\n",
       "      <td>1</td>\n",
       "      <td>1</td>\n",
       "      <td>871</td>\n",
       "      <td>Residential</td>\n",
       "      <td>Wed May 21 00:00:00 EDT 2008</td>\n",
       "      <td>106852</td>\n",
       "      <td>38.618698</td>\n",
       "      <td>-121.435833</td>\n",
       "    </tr>\n",
       "    <tr>\n",
       "      <th>13</th>\n",
       "      <td>2113 KIRK WAY</td>\n",
       "      <td>SACRAMENTO</td>\n",
       "      <td>95822</td>\n",
       "      <td>CA</td>\n",
       "      <td>3</td>\n",
       "      <td>1</td>\n",
       "      <td>1020</td>\n",
       "      <td>Residential</td>\n",
       "      <td>Wed May 21 00:00:00 EDT 2008</td>\n",
       "      <td>107502</td>\n",
       "      <td>38.482215</td>\n",
       "      <td>-121.492603</td>\n",
       "    </tr>\n",
       "    <tr>\n",
       "      <th>14</th>\n",
       "      <td>4533 LOCH HAVEN WAY</td>\n",
       "      <td>SACRAMENTO</td>\n",
       "      <td>95842</td>\n",
       "      <td>CA</td>\n",
       "      <td>2</td>\n",
       "      <td>2</td>\n",
       "      <td>1022</td>\n",
       "      <td>Residential</td>\n",
       "      <td>Wed May 21 00:00:00 EDT 2008</td>\n",
       "      <td>108750</td>\n",
       "      <td>38.672914</td>\n",
       "      <td>-121.359340</td>\n",
       "    </tr>\n",
       "    <tr>\n",
       "      <th>15</th>\n",
       "      <td>7340 HAMDEN PL</td>\n",
       "      <td>SACRAMENTO</td>\n",
       "      <td>95842</td>\n",
       "      <td>CA</td>\n",
       "      <td>2</td>\n",
       "      <td>2</td>\n",
       "      <td>1134</td>\n",
       "      <td>Condo</td>\n",
       "      <td>Wed May 21 00:00:00 EDT 2008</td>\n",
       "      <td>110700</td>\n",
       "      <td>38.700051</td>\n",
       "      <td>-121.351278</td>\n",
       "    </tr>\n",
       "    <tr>\n",
       "      <th>16</th>\n",
       "      <td>6715 6TH ST</td>\n",
       "      <td>RIO LINDA</td>\n",
       "      <td>95673</td>\n",
       "      <td>CA</td>\n",
       "      <td>2</td>\n",
       "      <td>1</td>\n",
       "      <td>844</td>\n",
       "      <td>Residential</td>\n",
       "      <td>Wed May 21 00:00:00 EDT 2008</td>\n",
       "      <td>113263</td>\n",
       "      <td>38.689591</td>\n",
       "      <td>-121.452239</td>\n",
       "    </tr>\n",
       "    <tr>\n",
       "      <th>17</th>\n",
       "      <td>6236 LONGFORD DR Unit 1</td>\n",
       "      <td>CITRUS HEIGHTS</td>\n",
       "      <td>95621</td>\n",
       "      <td>CA</td>\n",
       "      <td>2</td>\n",
       "      <td>1</td>\n",
       "      <td>795</td>\n",
       "      <td>Condo</td>\n",
       "      <td>Wed May 21 00:00:00 EDT 2008</td>\n",
       "      <td>116250</td>\n",
       "      <td>38.679776</td>\n",
       "      <td>-121.314089</td>\n",
       "    </tr>\n",
       "    <tr>\n",
       "      <th>18</th>\n",
       "      <td>250 PERALTA AVE</td>\n",
       "      <td>SACRAMENTO</td>\n",
       "      <td>95833</td>\n",
       "      <td>CA</td>\n",
       "      <td>2</td>\n",
       "      <td>1</td>\n",
       "      <td>588</td>\n",
       "      <td>Residential</td>\n",
       "      <td>Wed May 21 00:00:00 EDT 2008</td>\n",
       "      <td>120000</td>\n",
       "      <td>38.612099</td>\n",
       "      <td>-121.469095</td>\n",
       "    </tr>\n",
       "    <tr>\n",
       "      <th>19</th>\n",
       "      <td>113 LEEWILL AVE</td>\n",
       "      <td>RIO LINDA</td>\n",
       "      <td>95673</td>\n",
       "      <td>CA</td>\n",
       "      <td>3</td>\n",
       "      <td>2</td>\n",
       "      <td>1356</td>\n",
       "      <td>Residential</td>\n",
       "      <td>Wed May 21 00:00:00 EDT 2008</td>\n",
       "      <td>121630</td>\n",
       "      <td>38.689999</td>\n",
       "      <td>-121.463220</td>\n",
       "    </tr>\n",
       "    <tr>\n",
       "      <th>20</th>\n",
       "      <td>6118 STONEHAND AVE</td>\n",
       "      <td>CITRUS HEIGHTS</td>\n",
       "      <td>95621</td>\n",
       "      <td>CA</td>\n",
       "      <td>3</td>\n",
       "      <td>2</td>\n",
       "      <td>1118</td>\n",
       "      <td>Residential</td>\n",
       "      <td>Wed May 21 00:00:00 EDT 2008</td>\n",
       "      <td>122000</td>\n",
       "      <td>38.707851</td>\n",
       "      <td>-121.320707</td>\n",
       "    </tr>\n",
       "    <tr>\n",
       "      <th>21</th>\n",
       "      <td>4882 BANDALIN WAY</td>\n",
       "      <td>SACRAMENTO</td>\n",
       "      <td>95823</td>\n",
       "      <td>CA</td>\n",
       "      <td>4</td>\n",
       "      <td>2</td>\n",
       "      <td>1329</td>\n",
       "      <td>Residential</td>\n",
       "      <td>Wed May 21 00:00:00 EDT 2008</td>\n",
       "      <td>122682</td>\n",
       "      <td>38.468173</td>\n",
       "      <td>-121.444071</td>\n",
       "    </tr>\n",
       "    <tr>\n",
       "      <th>22</th>\n",
       "      <td>7511 OAKVALE CT</td>\n",
       "      <td>NORTH HIGHLANDS</td>\n",
       "      <td>95660</td>\n",
       "      <td>CA</td>\n",
       "      <td>4</td>\n",
       "      <td>2</td>\n",
       "      <td>1240</td>\n",
       "      <td>Residential</td>\n",
       "      <td>Wed May 21 00:00:00 EDT 2008</td>\n",
       "      <td>123000</td>\n",
       "      <td>38.702792</td>\n",
       "      <td>-121.382210</td>\n",
       "    </tr>\n",
       "    <tr>\n",
       "      <th>23</th>\n",
       "      <td>9 PASTURE CT</td>\n",
       "      <td>SACRAMENTO</td>\n",
       "      <td>95834</td>\n",
       "      <td>CA</td>\n",
       "      <td>3</td>\n",
       "      <td>2</td>\n",
       "      <td>1601</td>\n",
       "      <td>Residential</td>\n",
       "      <td>Wed May 21 00:00:00 EDT 2008</td>\n",
       "      <td>124100</td>\n",
       "      <td>38.628631</td>\n",
       "      <td>-121.488097</td>\n",
       "    </tr>\n",
       "    <tr>\n",
       "      <th>24</th>\n",
       "      <td>3729 BAINBRIDGE DR</td>\n",
       "      <td>NORTH HIGHLANDS</td>\n",
       "      <td>95660</td>\n",
       "      <td>CA</td>\n",
       "      <td>3</td>\n",
       "      <td>2</td>\n",
       "      <td>901</td>\n",
       "      <td>Residential</td>\n",
       "      <td>Wed May 21 00:00:00 EDT 2008</td>\n",
       "      <td>125000</td>\n",
       "      <td>38.701499</td>\n",
       "      <td>-121.376220</td>\n",
       "    </tr>\n",
       "    <tr>\n",
       "      <th>25</th>\n",
       "      <td>3828 BLACKFOOT WAY</td>\n",
       "      <td>ANTELOPE</td>\n",
       "      <td>95843</td>\n",
       "      <td>CA</td>\n",
       "      <td>3</td>\n",
       "      <td>2</td>\n",
       "      <td>1088</td>\n",
       "      <td>Residential</td>\n",
       "      <td>Wed May 21 00:00:00 EDT 2008</td>\n",
       "      <td>126640</td>\n",
       "      <td>38.709740</td>\n",
       "      <td>-121.373770</td>\n",
       "    </tr>\n",
       "    <tr>\n",
       "      <th>26</th>\n",
       "      <td>4108 NORTON WAY</td>\n",
       "      <td>SACRAMENTO</td>\n",
       "      <td>95820</td>\n",
       "      <td>CA</td>\n",
       "      <td>3</td>\n",
       "      <td>1</td>\n",
       "      <td>963</td>\n",
       "      <td>Residential</td>\n",
       "      <td>Wed May 21 00:00:00 EDT 2008</td>\n",
       "      <td>127281</td>\n",
       "      <td>38.537526</td>\n",
       "      <td>-121.478315</td>\n",
       "    </tr>\n",
       "    <tr>\n",
       "      <th>27</th>\n",
       "      <td>1469 JANRICK AVE</td>\n",
       "      <td>SACRAMENTO</td>\n",
       "      <td>95832</td>\n",
       "      <td>CA</td>\n",
       "      <td>3</td>\n",
       "      <td>2</td>\n",
       "      <td>1119</td>\n",
       "      <td>Residential</td>\n",
       "      <td>Wed May 21 00:00:00 EDT 2008</td>\n",
       "      <td>129000</td>\n",
       "      <td>38.476472</td>\n",
       "      <td>-121.501711</td>\n",
       "    </tr>\n",
       "    <tr>\n",
       "      <th>28</th>\n",
       "      <td>9861 CULP WAY</td>\n",
       "      <td>SACRAMENTO</td>\n",
       "      <td>95827</td>\n",
       "      <td>CA</td>\n",
       "      <td>4</td>\n",
       "      <td>2</td>\n",
       "      <td>1380</td>\n",
       "      <td>Residential</td>\n",
       "      <td>Wed May 21 00:00:00 EDT 2008</td>\n",
       "      <td>131200</td>\n",
       "      <td>38.558423</td>\n",
       "      <td>-121.327948</td>\n",
       "    </tr>\n",
       "    <tr>\n",
       "      <th>29</th>\n",
       "      <td>7825 CREEK VALLEY CIR</td>\n",
       "      <td>SACRAMENTO</td>\n",
       "      <td>95828</td>\n",
       "      <td>CA</td>\n",
       "      <td>3</td>\n",
       "      <td>2</td>\n",
       "      <td>1248</td>\n",
       "      <td>Residential</td>\n",
       "      <td>Wed May 21 00:00:00 EDT 2008</td>\n",
       "      <td>132000</td>\n",
       "      <td>38.472122</td>\n",
       "      <td>-121.404199</td>\n",
       "    </tr>\n",
       "    <tr>\n",
       "      <th>...</th>\n",
       "      <td>...</td>\n",
       "      <td>...</td>\n",
       "      <td>...</td>\n",
       "      <td>...</td>\n",
       "      <td>...</td>\n",
       "      <td>...</td>\n",
       "      <td>...</td>\n",
       "      <td>...</td>\n",
       "      <td>...</td>\n",
       "      <td>...</td>\n",
       "      <td>...</td>\n",
       "      <td>...</td>\n",
       "    </tr>\n",
       "    <tr>\n",
       "      <th>955</th>\n",
       "      <td>2100 BEATTY WAY</td>\n",
       "      <td>ROSEVILLE</td>\n",
       "      <td>95747</td>\n",
       "      <td>CA</td>\n",
       "      <td>3</td>\n",
       "      <td>2</td>\n",
       "      <td>1371</td>\n",
       "      <td>Residential</td>\n",
       "      <td>Thu May 15 00:00:00 EDT 2008</td>\n",
       "      <td>208250</td>\n",
       "      <td>38.737882</td>\n",
       "      <td>-121.308142</td>\n",
       "    </tr>\n",
       "    <tr>\n",
       "      <th>956</th>\n",
       "      <td>6920 GILLINGHAM WAY</td>\n",
       "      <td>NORTH HIGHLANDS</td>\n",
       "      <td>95660</td>\n",
       "      <td>CA</td>\n",
       "      <td>3</td>\n",
       "      <td>1</td>\n",
       "      <td>1310</td>\n",
       "      <td>Residential</td>\n",
       "      <td>Thu May 15 00:00:00 EDT 2008</td>\n",
       "      <td>208318</td>\n",
       "      <td>38.694279</td>\n",
       "      <td>-121.373395</td>\n",
       "    </tr>\n",
       "    <tr>\n",
       "      <th>957</th>\n",
       "      <td>82 WILDFLOWER DR</td>\n",
       "      <td>GALT</td>\n",
       "      <td>95632</td>\n",
       "      <td>CA</td>\n",
       "      <td>3</td>\n",
       "      <td>2</td>\n",
       "      <td>1262</td>\n",
       "      <td>Residential</td>\n",
       "      <td>Thu May 15 00:00:00 EDT 2008</td>\n",
       "      <td>209347</td>\n",
       "      <td>38.259708</td>\n",
       "      <td>-121.311616</td>\n",
       "    </tr>\n",
       "    <tr>\n",
       "      <th>958</th>\n",
       "      <td>8652 BANTON CIR</td>\n",
       "      <td>ELK GROVE</td>\n",
       "      <td>95624</td>\n",
       "      <td>CA</td>\n",
       "      <td>4</td>\n",
       "      <td>2</td>\n",
       "      <td>1740</td>\n",
       "      <td>Residential</td>\n",
       "      <td>Thu May 15 00:00:00 EDT 2008</td>\n",
       "      <td>211500</td>\n",
       "      <td>38.444000</td>\n",
       "      <td>-121.370993</td>\n",
       "    </tr>\n",
       "    <tr>\n",
       "      <th>959</th>\n",
       "      <td>8428 MISTY PASS WAY</td>\n",
       "      <td>ANTELOPE</td>\n",
       "      <td>95843</td>\n",
       "      <td>CA</td>\n",
       "      <td>3</td>\n",
       "      <td>2</td>\n",
       "      <td>1517</td>\n",
       "      <td>Residential</td>\n",
       "      <td>Thu May 15 00:00:00 EDT 2008</td>\n",
       "      <td>212000</td>\n",
       "      <td>38.722959</td>\n",
       "      <td>-121.347115</td>\n",
       "    </tr>\n",
       "    <tr>\n",
       "      <th>960</th>\n",
       "      <td>7958 ROSEVIEW WAY</td>\n",
       "      <td>SACRAMENTO</td>\n",
       "      <td>95828</td>\n",
       "      <td>CA</td>\n",
       "      <td>3</td>\n",
       "      <td>2</td>\n",
       "      <td>1450</td>\n",
       "      <td>Residential</td>\n",
       "      <td>Thu May 15 00:00:00 EDT 2008</td>\n",
       "      <td>213000</td>\n",
       "      <td>38.467836</td>\n",
       "      <td>-121.410366</td>\n",
       "    </tr>\n",
       "    <tr>\n",
       "      <th>961</th>\n",
       "      <td>9020 LUKEN CT</td>\n",
       "      <td>ELK GROVE</td>\n",
       "      <td>95624</td>\n",
       "      <td>CA</td>\n",
       "      <td>3</td>\n",
       "      <td>2</td>\n",
       "      <td>1416</td>\n",
       "      <td>Residential</td>\n",
       "      <td>Thu May 15 00:00:00 EDT 2008</td>\n",
       "      <td>216000</td>\n",
       "      <td>38.451398</td>\n",
       "      <td>-121.366614</td>\n",
       "    </tr>\n",
       "    <tr>\n",
       "      <th>962</th>\n",
       "      <td>7809 VALLECITOS WAY</td>\n",
       "      <td>SACRAMENTO</td>\n",
       "      <td>95828</td>\n",
       "      <td>CA</td>\n",
       "      <td>3</td>\n",
       "      <td>1</td>\n",
       "      <td>888</td>\n",
       "      <td>Residential</td>\n",
       "      <td>Thu May 15 00:00:00 EDT 2008</td>\n",
       "      <td>216021</td>\n",
       "      <td>38.508217</td>\n",
       "      <td>-121.411207</td>\n",
       "    </tr>\n",
       "    <tr>\n",
       "      <th>963</th>\n",
       "      <td>8445 OLD AUBURN RD</td>\n",
       "      <td>CITRUS HEIGHTS</td>\n",
       "      <td>95610</td>\n",
       "      <td>CA</td>\n",
       "      <td>3</td>\n",
       "      <td>2</td>\n",
       "      <td>1882</td>\n",
       "      <td>Residential</td>\n",
       "      <td>Thu May 15 00:00:00 EDT 2008</td>\n",
       "      <td>219000</td>\n",
       "      <td>38.715423</td>\n",
       "      <td>-121.246743</td>\n",
       "    </tr>\n",
       "    <tr>\n",
       "      <th>964</th>\n",
       "      <td>10085 ATKINS DR</td>\n",
       "      <td>ELK GROVE</td>\n",
       "      <td>95757</td>\n",
       "      <td>CA</td>\n",
       "      <td>3</td>\n",
       "      <td>2</td>\n",
       "      <td>1302</td>\n",
       "      <td>Residential</td>\n",
       "      <td>Thu May 15 00:00:00 EDT 2008</td>\n",
       "      <td>219794</td>\n",
       "      <td>38.390893</td>\n",
       "      <td>-121.437821</td>\n",
       "    </tr>\n",
       "    <tr>\n",
       "      <th>965</th>\n",
       "      <td>9185 CERROLINDA CIR</td>\n",
       "      <td>ELK GROVE</td>\n",
       "      <td>95758</td>\n",
       "      <td>CA</td>\n",
       "      <td>3</td>\n",
       "      <td>2</td>\n",
       "      <td>1418</td>\n",
       "      <td>Residential</td>\n",
       "      <td>Thu May 15 00:00:00 EDT 2008</td>\n",
       "      <td>220000</td>\n",
       "      <td>38.424497</td>\n",
       "      <td>-121.426595</td>\n",
       "    </tr>\n",
       "    <tr>\n",
       "      <th>966</th>\n",
       "      <td>9197 CORTINA CIR</td>\n",
       "      <td>ROSEVILLE</td>\n",
       "      <td>95678</td>\n",
       "      <td>CA</td>\n",
       "      <td>3</td>\n",
       "      <td>2</td>\n",
       "      <td>0</td>\n",
       "      <td>Condo</td>\n",
       "      <td>Thu May 15 00:00:00 EDT 2008</td>\n",
       "      <td>220000</td>\n",
       "      <td>38.793152</td>\n",
       "      <td>-121.290025</td>\n",
       "    </tr>\n",
       "    <tr>\n",
       "      <th>967</th>\n",
       "      <td>5429 HESPER WAY</td>\n",
       "      <td>CARMICHAEL</td>\n",
       "      <td>95608</td>\n",
       "      <td>CA</td>\n",
       "      <td>4</td>\n",
       "      <td>2</td>\n",
       "      <td>1319</td>\n",
       "      <td>Residential</td>\n",
       "      <td>Thu May 15 00:00:00 EDT 2008</td>\n",
       "      <td>220000</td>\n",
       "      <td>38.665104</td>\n",
       "      <td>-121.315901</td>\n",
       "    </tr>\n",
       "    <tr>\n",
       "      <th>968</th>\n",
       "      <td>1178 WARMWOOD CT</td>\n",
       "      <td>GALT</td>\n",
       "      <td>95632</td>\n",
       "      <td>CA</td>\n",
       "      <td>4</td>\n",
       "      <td>2</td>\n",
       "      <td>1770</td>\n",
       "      <td>Residential</td>\n",
       "      <td>Thu May 15 00:00:00 EDT 2008</td>\n",
       "      <td>220000</td>\n",
       "      <td>38.289544</td>\n",
       "      <td>-121.284607</td>\n",
       "    </tr>\n",
       "    <tr>\n",
       "      <th>969</th>\n",
       "      <td>4900 ELUDE CT</td>\n",
       "      <td>SACRAMENTO</td>\n",
       "      <td>95842</td>\n",
       "      <td>CA</td>\n",
       "      <td>4</td>\n",
       "      <td>2</td>\n",
       "      <td>1627</td>\n",
       "      <td>Residential</td>\n",
       "      <td>Thu May 15 00:00:00 EDT 2008</td>\n",
       "      <td>223000</td>\n",
       "      <td>38.696740</td>\n",
       "      <td>-121.350519</td>\n",
       "    </tr>\n",
       "    <tr>\n",
       "      <th>970</th>\n",
       "      <td>3557 SODA WAY</td>\n",
       "      <td>SACRAMENTO</td>\n",
       "      <td>95834</td>\n",
       "      <td>CA</td>\n",
       "      <td>0</td>\n",
       "      <td>0</td>\n",
       "      <td>0</td>\n",
       "      <td>Residential</td>\n",
       "      <td>Thu May 15 00:00:00 EDT 2008</td>\n",
       "      <td>224000</td>\n",
       "      <td>38.631026</td>\n",
       "      <td>-121.501879</td>\n",
       "    </tr>\n",
       "    <tr>\n",
       "      <th>971</th>\n",
       "      <td>3528 SAINT GEORGE DR</td>\n",
       "      <td>SACRAMENTO</td>\n",
       "      <td>95821</td>\n",
       "      <td>CA</td>\n",
       "      <td>3</td>\n",
       "      <td>1</td>\n",
       "      <td>1040</td>\n",
       "      <td>Residential</td>\n",
       "      <td>Thu May 15 00:00:00 EDT 2008</td>\n",
       "      <td>224000</td>\n",
       "      <td>38.629468</td>\n",
       "      <td>-121.376445</td>\n",
       "    </tr>\n",
       "    <tr>\n",
       "      <th>972</th>\n",
       "      <td>7381 WASHBURN WAY</td>\n",
       "      <td>NORTH HIGHLANDS</td>\n",
       "      <td>95660</td>\n",
       "      <td>CA</td>\n",
       "      <td>3</td>\n",
       "      <td>1</td>\n",
       "      <td>960</td>\n",
       "      <td>Residential</td>\n",
       "      <td>Thu May 15 00:00:00 EDT 2008</td>\n",
       "      <td>224252</td>\n",
       "      <td>38.703550</td>\n",
       "      <td>-121.375103</td>\n",
       "    </tr>\n",
       "    <tr>\n",
       "      <th>973</th>\n",
       "      <td>2181 WINTERHAVEN CIR</td>\n",
       "      <td>CAMERON PARK</td>\n",
       "      <td>95682</td>\n",
       "      <td>CA</td>\n",
       "      <td>3</td>\n",
       "      <td>2</td>\n",
       "      <td>0</td>\n",
       "      <td>Residential</td>\n",
       "      <td>Thu May 15 00:00:00 EDT 2008</td>\n",
       "      <td>224500</td>\n",
       "      <td>38.697570</td>\n",
       "      <td>-120.995739</td>\n",
       "    </tr>\n",
       "    <tr>\n",
       "      <th>974</th>\n",
       "      <td>7540 HICKORY AVE</td>\n",
       "      <td>ORANGEVALE</td>\n",
       "      <td>95662</td>\n",
       "      <td>CA</td>\n",
       "      <td>3</td>\n",
       "      <td>1</td>\n",
       "      <td>1456</td>\n",
       "      <td>Residential</td>\n",
       "      <td>Thu May 15 00:00:00 EDT 2008</td>\n",
       "      <td>225000</td>\n",
       "      <td>38.703056</td>\n",
       "      <td>-121.235221</td>\n",
       "    </tr>\n",
       "    <tr>\n",
       "      <th>975</th>\n",
       "      <td>5024 CHAMBERLIN CIR</td>\n",
       "      <td>ELK GROVE</td>\n",
       "      <td>95757</td>\n",
       "      <td>CA</td>\n",
       "      <td>3</td>\n",
       "      <td>2</td>\n",
       "      <td>1450</td>\n",
       "      <td>Residential</td>\n",
       "      <td>Thu May 15 00:00:00 EDT 2008</td>\n",
       "      <td>228000</td>\n",
       "      <td>38.389756</td>\n",
       "      <td>-121.446246</td>\n",
       "    </tr>\n",
       "    <tr>\n",
       "      <th>976</th>\n",
       "      <td>2400 INVERNESS DR</td>\n",
       "      <td>LINCOLN</td>\n",
       "      <td>95648</td>\n",
       "      <td>CA</td>\n",
       "      <td>3</td>\n",
       "      <td>2</td>\n",
       "      <td>1358</td>\n",
       "      <td>Residential</td>\n",
       "      <td>Thu May 15 00:00:00 EDT 2008</td>\n",
       "      <td>229027</td>\n",
       "      <td>38.897814</td>\n",
       "      <td>-121.324691</td>\n",
       "    </tr>\n",
       "    <tr>\n",
       "      <th>977</th>\n",
       "      <td>5 BISHOPGATE CT</td>\n",
       "      <td>SACRAMENTO</td>\n",
       "      <td>95823</td>\n",
       "      <td>CA</td>\n",
       "      <td>4</td>\n",
       "      <td>2</td>\n",
       "      <td>1329</td>\n",
       "      <td>Residential</td>\n",
       "      <td>Thu May 15 00:00:00 EDT 2008</td>\n",
       "      <td>229500</td>\n",
       "      <td>38.467936</td>\n",
       "      <td>-121.445477</td>\n",
       "    </tr>\n",
       "    <tr>\n",
       "      <th>978</th>\n",
       "      <td>5601 REXLEIGH DR</td>\n",
       "      <td>SACRAMENTO</td>\n",
       "      <td>95823</td>\n",
       "      <td>CA</td>\n",
       "      <td>4</td>\n",
       "      <td>2</td>\n",
       "      <td>1715</td>\n",
       "      <td>Residential</td>\n",
       "      <td>Thu May 15 00:00:00 EDT 2008</td>\n",
       "      <td>230000</td>\n",
       "      <td>38.445342</td>\n",
       "      <td>-121.441504</td>\n",
       "    </tr>\n",
       "    <tr>\n",
       "      <th>979</th>\n",
       "      <td>1909 YARNELL WAY</td>\n",
       "      <td>ELK GROVE</td>\n",
       "      <td>95758</td>\n",
       "      <td>CA</td>\n",
       "      <td>3</td>\n",
       "      <td>2</td>\n",
       "      <td>1262</td>\n",
       "      <td>Residential</td>\n",
       "      <td>Thu May 15 00:00:00 EDT 2008</td>\n",
       "      <td>230000</td>\n",
       "      <td>38.417382</td>\n",
       "      <td>-121.484325</td>\n",
       "    </tr>\n",
       "    <tr>\n",
       "      <th>980</th>\n",
       "      <td>9169 GARLINGTON CT</td>\n",
       "      <td>SACRAMENTO</td>\n",
       "      <td>95829</td>\n",
       "      <td>CA</td>\n",
       "      <td>4</td>\n",
       "      <td>3</td>\n",
       "      <td>2280</td>\n",
       "      <td>Residential</td>\n",
       "      <td>Thu May 15 00:00:00 EDT 2008</td>\n",
       "      <td>232425</td>\n",
       "      <td>38.457679</td>\n",
       "      <td>-121.359620</td>\n",
       "    </tr>\n",
       "    <tr>\n",
       "      <th>981</th>\n",
       "      <td>6932 RUSKUT WAY</td>\n",
       "      <td>SACRAMENTO</td>\n",
       "      <td>95823</td>\n",
       "      <td>CA</td>\n",
       "      <td>3</td>\n",
       "      <td>2</td>\n",
       "      <td>1477</td>\n",
       "      <td>Residential</td>\n",
       "      <td>Thu May 15 00:00:00 EDT 2008</td>\n",
       "      <td>234000</td>\n",
       "      <td>38.499893</td>\n",
       "      <td>-121.458890</td>\n",
       "    </tr>\n",
       "    <tr>\n",
       "      <th>982</th>\n",
       "      <td>7933 DAFFODIL WAY</td>\n",
       "      <td>CITRUS HEIGHTS</td>\n",
       "      <td>95610</td>\n",
       "      <td>CA</td>\n",
       "      <td>3</td>\n",
       "      <td>2</td>\n",
       "      <td>1216</td>\n",
       "      <td>Residential</td>\n",
       "      <td>Thu May 15 00:00:00 EDT 2008</td>\n",
       "      <td>235000</td>\n",
       "      <td>38.708824</td>\n",
       "      <td>-121.256803</td>\n",
       "    </tr>\n",
       "    <tr>\n",
       "      <th>983</th>\n",
       "      <td>8304 RED FOX WAY</td>\n",
       "      <td>ELK GROVE</td>\n",
       "      <td>95758</td>\n",
       "      <td>CA</td>\n",
       "      <td>4</td>\n",
       "      <td>2</td>\n",
       "      <td>1685</td>\n",
       "      <td>Residential</td>\n",
       "      <td>Thu May 15 00:00:00 EDT 2008</td>\n",
       "      <td>235301</td>\n",
       "      <td>38.417000</td>\n",
       "      <td>-121.397424</td>\n",
       "    </tr>\n",
       "    <tr>\n",
       "      <th>984</th>\n",
       "      <td>3882 YELLOWSTONE LN</td>\n",
       "      <td>EL DORADO HILLS</td>\n",
       "      <td>95762</td>\n",
       "      <td>CA</td>\n",
       "      <td>3</td>\n",
       "      <td>2</td>\n",
       "      <td>1362</td>\n",
       "      <td>Residential</td>\n",
       "      <td>Thu May 15 00:00:00 EDT 2008</td>\n",
       "      <td>235738</td>\n",
       "      <td>38.655245</td>\n",
       "      <td>-121.075915</td>\n",
       "    </tr>\n",
       "  </tbody>\n",
       "</table>\n",
       "<p>985 rows × 12 columns</p>\n",
       "</div>"
      ],
      "text/plain": [
       "                              street             city    zip state  beds  \\\n",
       "0                       3526 HIGH ST       SACRAMENTO  95838    CA     2   \n",
       "1                        51 OMAHA CT       SACRAMENTO  95823    CA     3   \n",
       "2                     2796 BRANCH ST       SACRAMENTO  95815    CA     2   \n",
       "3                   2805 JANETTE WAY       SACRAMENTO  95815    CA     2   \n",
       "4                    6001 MCMAHON DR       SACRAMENTO  95824    CA     2   \n",
       "5                 5828 PEPPERMILL CT       SACRAMENTO  95841    CA     3   \n",
       "6                6048 OGDEN NASH WAY       SACRAMENTO  95842    CA     3   \n",
       "7                      2561 19TH AVE       SACRAMENTO  95820    CA     3   \n",
       "8    11150 TRINITY RIVER DR Unit 114   RANCHO CORDOVA  95670    CA     2   \n",
       "9                       7325 10TH ST        RIO LINDA  95673    CA     3   \n",
       "10                  645 MORRISON AVE       SACRAMENTO  95838    CA     3   \n",
       "11                     4085 FAWN CIR       SACRAMENTO  95823    CA     3   \n",
       "12                   2930 LA ROSA RD       SACRAMENTO  95815    CA     1   \n",
       "13                     2113 KIRK WAY       SACRAMENTO  95822    CA     3   \n",
       "14               4533 LOCH HAVEN WAY       SACRAMENTO  95842    CA     2   \n",
       "15                    7340 HAMDEN PL       SACRAMENTO  95842    CA     2   \n",
       "16                       6715 6TH ST        RIO LINDA  95673    CA     2   \n",
       "17           6236 LONGFORD DR Unit 1   CITRUS HEIGHTS  95621    CA     2   \n",
       "18                   250 PERALTA AVE       SACRAMENTO  95833    CA     2   \n",
       "19                   113 LEEWILL AVE        RIO LINDA  95673    CA     3   \n",
       "20                6118 STONEHAND AVE   CITRUS HEIGHTS  95621    CA     3   \n",
       "21                 4882 BANDALIN WAY       SACRAMENTO  95823    CA     4   \n",
       "22                   7511 OAKVALE CT  NORTH HIGHLANDS  95660    CA     4   \n",
       "23                      9 PASTURE CT       SACRAMENTO  95834    CA     3   \n",
       "24                3729 BAINBRIDGE DR  NORTH HIGHLANDS  95660    CA     3   \n",
       "25                3828 BLACKFOOT WAY         ANTELOPE  95843    CA     3   \n",
       "26                   4108 NORTON WAY       SACRAMENTO  95820    CA     3   \n",
       "27                  1469 JANRICK AVE       SACRAMENTO  95832    CA     3   \n",
       "28                     9861 CULP WAY       SACRAMENTO  95827    CA     4   \n",
       "29             7825 CREEK VALLEY CIR       SACRAMENTO  95828    CA     3   \n",
       "..                               ...              ...    ...   ...   ...   \n",
       "955                  2100 BEATTY WAY        ROSEVILLE  95747    CA     3   \n",
       "956              6920 GILLINGHAM WAY  NORTH HIGHLANDS  95660    CA     3   \n",
       "957                 82 WILDFLOWER DR             GALT  95632    CA     3   \n",
       "958                  8652 BANTON CIR        ELK GROVE  95624    CA     4   \n",
       "959              8428 MISTY PASS WAY         ANTELOPE  95843    CA     3   \n",
       "960                7958 ROSEVIEW WAY       SACRAMENTO  95828    CA     3   \n",
       "961                    9020 LUKEN CT        ELK GROVE  95624    CA     3   \n",
       "962              7809 VALLECITOS WAY       SACRAMENTO  95828    CA     3   \n",
       "963               8445 OLD AUBURN RD   CITRUS HEIGHTS  95610    CA     3   \n",
       "964                  10085 ATKINS DR        ELK GROVE  95757    CA     3   \n",
       "965              9185 CERROLINDA CIR        ELK GROVE  95758    CA     3   \n",
       "966                 9197 CORTINA CIR        ROSEVILLE  95678    CA     3   \n",
       "967                  5429 HESPER WAY       CARMICHAEL  95608    CA     4   \n",
       "968                 1178 WARMWOOD CT             GALT  95632    CA     4   \n",
       "969                    4900 ELUDE CT       SACRAMENTO  95842    CA     4   \n",
       "970                    3557 SODA WAY       SACRAMENTO  95834    CA     0   \n",
       "971             3528 SAINT GEORGE DR       SACRAMENTO  95821    CA     3   \n",
       "972                7381 WASHBURN WAY  NORTH HIGHLANDS  95660    CA     3   \n",
       "973             2181 WINTERHAVEN CIR     CAMERON PARK  95682    CA     3   \n",
       "974                 7540 HICKORY AVE       ORANGEVALE  95662    CA     3   \n",
       "975              5024 CHAMBERLIN CIR        ELK GROVE  95757    CA     3   \n",
       "976                2400 INVERNESS DR          LINCOLN  95648    CA     3   \n",
       "977                  5 BISHOPGATE CT       SACRAMENTO  95823    CA     4   \n",
       "978                 5601 REXLEIGH DR       SACRAMENTO  95823    CA     4   \n",
       "979                 1909 YARNELL WAY        ELK GROVE  95758    CA     3   \n",
       "980               9169 GARLINGTON CT       SACRAMENTO  95829    CA     4   \n",
       "981                  6932 RUSKUT WAY       SACRAMENTO  95823    CA     3   \n",
       "982                7933 DAFFODIL WAY   CITRUS HEIGHTS  95610    CA     3   \n",
       "983                 8304 RED FOX WAY        ELK GROVE  95758    CA     4   \n",
       "984              3882 YELLOWSTONE LN  EL DORADO HILLS  95762    CA     3   \n",
       "\n",
       "     baths  sq__ft         type                     sale_date   price  \\\n",
       "0        1     836  Residential  Wed May 21 00:00:00 EDT 2008   59222   \n",
       "1        1    1167  Residential  Wed May 21 00:00:00 EDT 2008   68212   \n",
       "2        1     796  Residential  Wed May 21 00:00:00 EDT 2008   68880   \n",
       "3        1     852  Residential  Wed May 21 00:00:00 EDT 2008   69307   \n",
       "4        1     797  Residential  Wed May 21 00:00:00 EDT 2008   81900   \n",
       "5        1    1122        Condo  Wed May 21 00:00:00 EDT 2008   89921   \n",
       "6        2    1104  Residential  Wed May 21 00:00:00 EDT 2008   90895   \n",
       "7        1    1177  Residential  Wed May 21 00:00:00 EDT 2008   91002   \n",
       "8        2     941        Condo  Wed May 21 00:00:00 EDT 2008   94905   \n",
       "9        2    1146  Residential  Wed May 21 00:00:00 EDT 2008   98937   \n",
       "10       2     909  Residential  Wed May 21 00:00:00 EDT 2008  100309   \n",
       "11       2    1289  Residential  Wed May 21 00:00:00 EDT 2008  106250   \n",
       "12       1     871  Residential  Wed May 21 00:00:00 EDT 2008  106852   \n",
       "13       1    1020  Residential  Wed May 21 00:00:00 EDT 2008  107502   \n",
       "14       2    1022  Residential  Wed May 21 00:00:00 EDT 2008  108750   \n",
       "15       2    1134        Condo  Wed May 21 00:00:00 EDT 2008  110700   \n",
       "16       1     844  Residential  Wed May 21 00:00:00 EDT 2008  113263   \n",
       "17       1     795        Condo  Wed May 21 00:00:00 EDT 2008  116250   \n",
       "18       1     588  Residential  Wed May 21 00:00:00 EDT 2008  120000   \n",
       "19       2    1356  Residential  Wed May 21 00:00:00 EDT 2008  121630   \n",
       "20       2    1118  Residential  Wed May 21 00:00:00 EDT 2008  122000   \n",
       "21       2    1329  Residential  Wed May 21 00:00:00 EDT 2008  122682   \n",
       "22       2    1240  Residential  Wed May 21 00:00:00 EDT 2008  123000   \n",
       "23       2    1601  Residential  Wed May 21 00:00:00 EDT 2008  124100   \n",
       "24       2     901  Residential  Wed May 21 00:00:00 EDT 2008  125000   \n",
       "25       2    1088  Residential  Wed May 21 00:00:00 EDT 2008  126640   \n",
       "26       1     963  Residential  Wed May 21 00:00:00 EDT 2008  127281   \n",
       "27       2    1119  Residential  Wed May 21 00:00:00 EDT 2008  129000   \n",
       "28       2    1380  Residential  Wed May 21 00:00:00 EDT 2008  131200   \n",
       "29       2    1248  Residential  Wed May 21 00:00:00 EDT 2008  132000   \n",
       "..     ...     ...          ...                           ...     ...   \n",
       "955      2    1371  Residential  Thu May 15 00:00:00 EDT 2008  208250   \n",
       "956      1    1310  Residential  Thu May 15 00:00:00 EDT 2008  208318   \n",
       "957      2    1262  Residential  Thu May 15 00:00:00 EDT 2008  209347   \n",
       "958      2    1740  Residential  Thu May 15 00:00:00 EDT 2008  211500   \n",
       "959      2    1517  Residential  Thu May 15 00:00:00 EDT 2008  212000   \n",
       "960      2    1450  Residential  Thu May 15 00:00:00 EDT 2008  213000   \n",
       "961      2    1416  Residential  Thu May 15 00:00:00 EDT 2008  216000   \n",
       "962      1     888  Residential  Thu May 15 00:00:00 EDT 2008  216021   \n",
       "963      2    1882  Residential  Thu May 15 00:00:00 EDT 2008  219000   \n",
       "964      2    1302  Residential  Thu May 15 00:00:00 EDT 2008  219794   \n",
       "965      2    1418  Residential  Thu May 15 00:00:00 EDT 2008  220000   \n",
       "966      2       0        Condo  Thu May 15 00:00:00 EDT 2008  220000   \n",
       "967      2    1319  Residential  Thu May 15 00:00:00 EDT 2008  220000   \n",
       "968      2    1770  Residential  Thu May 15 00:00:00 EDT 2008  220000   \n",
       "969      2    1627  Residential  Thu May 15 00:00:00 EDT 2008  223000   \n",
       "970      0       0  Residential  Thu May 15 00:00:00 EDT 2008  224000   \n",
       "971      1    1040  Residential  Thu May 15 00:00:00 EDT 2008  224000   \n",
       "972      1     960  Residential  Thu May 15 00:00:00 EDT 2008  224252   \n",
       "973      2       0  Residential  Thu May 15 00:00:00 EDT 2008  224500   \n",
       "974      1    1456  Residential  Thu May 15 00:00:00 EDT 2008  225000   \n",
       "975      2    1450  Residential  Thu May 15 00:00:00 EDT 2008  228000   \n",
       "976      2    1358  Residential  Thu May 15 00:00:00 EDT 2008  229027   \n",
       "977      2    1329  Residential  Thu May 15 00:00:00 EDT 2008  229500   \n",
       "978      2    1715  Residential  Thu May 15 00:00:00 EDT 2008  230000   \n",
       "979      2    1262  Residential  Thu May 15 00:00:00 EDT 2008  230000   \n",
       "980      3    2280  Residential  Thu May 15 00:00:00 EDT 2008  232425   \n",
       "981      2    1477  Residential  Thu May 15 00:00:00 EDT 2008  234000   \n",
       "982      2    1216  Residential  Thu May 15 00:00:00 EDT 2008  235000   \n",
       "983      2    1685  Residential  Thu May 15 00:00:00 EDT 2008  235301   \n",
       "984      2    1362  Residential  Thu May 15 00:00:00 EDT 2008  235738   \n",
       "\n",
       "      latitude   longitude  \n",
       "0    38.631913 -121.434879  \n",
       "1    38.478902 -121.431028  \n",
       "2    38.618305 -121.443839  \n",
       "3    38.616835 -121.439146  \n",
       "4    38.519470 -121.435768  \n",
       "5    38.662595 -121.327813  \n",
       "6    38.681659 -121.351705  \n",
       "7    38.535092 -121.481367  \n",
       "8    38.621188 -121.270555  \n",
       "9    38.700909 -121.442979  \n",
       "10   38.637663 -121.451520  \n",
       "11   38.470746 -121.458918  \n",
       "12   38.618698 -121.435833  \n",
       "13   38.482215 -121.492603  \n",
       "14   38.672914 -121.359340  \n",
       "15   38.700051 -121.351278  \n",
       "16   38.689591 -121.452239  \n",
       "17   38.679776 -121.314089  \n",
       "18   38.612099 -121.469095  \n",
       "19   38.689999 -121.463220  \n",
       "20   38.707851 -121.320707  \n",
       "21   38.468173 -121.444071  \n",
       "22   38.702792 -121.382210  \n",
       "23   38.628631 -121.488097  \n",
       "24   38.701499 -121.376220  \n",
       "25   38.709740 -121.373770  \n",
       "26   38.537526 -121.478315  \n",
       "27   38.476472 -121.501711  \n",
       "28   38.558423 -121.327948  \n",
       "29   38.472122 -121.404199  \n",
       "..         ...         ...  \n",
       "955  38.737882 -121.308142  \n",
       "956  38.694279 -121.373395  \n",
       "957  38.259708 -121.311616  \n",
       "958  38.444000 -121.370993  \n",
       "959  38.722959 -121.347115  \n",
       "960  38.467836 -121.410366  \n",
       "961  38.451398 -121.366614  \n",
       "962  38.508217 -121.411207  \n",
       "963  38.715423 -121.246743  \n",
       "964  38.390893 -121.437821  \n",
       "965  38.424497 -121.426595  \n",
       "966  38.793152 -121.290025  \n",
       "967  38.665104 -121.315901  \n",
       "968  38.289544 -121.284607  \n",
       "969  38.696740 -121.350519  \n",
       "970  38.631026 -121.501879  \n",
       "971  38.629468 -121.376445  \n",
       "972  38.703550 -121.375103  \n",
       "973  38.697570 -120.995739  \n",
       "974  38.703056 -121.235221  \n",
       "975  38.389756 -121.446246  \n",
       "976  38.897814 -121.324691  \n",
       "977  38.467936 -121.445477  \n",
       "978  38.445342 -121.441504  \n",
       "979  38.417382 -121.484325  \n",
       "980  38.457679 -121.359620  \n",
       "981  38.499893 -121.458890  \n",
       "982  38.708824 -121.256803  \n",
       "983  38.417000 -121.397424  \n",
       "984  38.655245 -121.075915  \n",
       "\n",
       "[985 rows x 12 columns]"
      ]
     },
     "execution_count": 79,
     "metadata": {},
     "output_type": "execute_result"
    }
   ],
   "source": [
    "data"
   ]
  },
  {
   "cell_type": "code",
   "execution_count": null,
   "metadata": {},
   "outputs": [],
   "source": []
  },
  {
   "cell_type": "code",
   "execution_count": null,
   "metadata": {},
   "outputs": [],
   "source": []
  },
  {
   "cell_type": "code",
   "execution_count": null,
   "metadata": {},
   "outputs": [],
   "source": []
  },
  {
   "cell_type": "code",
   "execution_count": null,
   "metadata": {},
   "outputs": [],
   "source": []
  },
  {
   "cell_type": "markdown",
   "metadata": {},
   "source": [
    "## Web Scraping using pandas"
   ]
  },
  {
   "cell_type": "markdown",
   "metadata": {},
   "source": [
    "> Spletna stran: https://www.fdic.gov/bank/individual/failed/banklist.html"
   ]
  },
  {
   "cell_type": "markdown",
   "metadata": {},
   "source": [
    "`pandas.read_html: ` Read HTML tables into a list of DataFrame objects. -> [Dokumentacija](https://pandas.pydata.org/pandas-docs/version/0.23.4/generated/pandas.read_html.html)\n",
    "\n"
   ]
  },
  {
   "cell_type": "code",
   "execution_count": 81,
   "metadata": {},
   "outputs": [],
   "source": [
    "#pandas read_html najbolj optimalno poskuša preparsat tabele na strani\n",
    "tables = pd.read_html('https://www.fdic.gov/bank/individual/failed/banklist.html')"
   ]
  },
  {
   "cell_type": "code",
   "execution_count": 82,
   "metadata": {},
   "outputs": [
    {
     "data": {
      "text/plain": [
       "1"
      ]
     },
     "execution_count": 82,
     "metadata": {},
     "output_type": "execute_result"
    }
   ],
   "source": [
    "len(tables)\n",
    "#len je enak 1, ker vse tabele shrani v 1 array"
   ]
  },
  {
   "cell_type": "code",
   "execution_count": 84,
   "metadata": {},
   "outputs": [
    {
     "name": "stdout",
     "output_type": "stream",
     "text": [
      "<class 'pandas.core.frame.DataFrame'>\n",
      "RangeIndex: 555 entries, 0 to 554\n",
      "Data columns (total 7 columns):\n",
      "Bank Name                555 non-null object\n",
      "City                     555 non-null object\n",
      "ST                       555 non-null object\n",
      "CERT                     555 non-null int64\n",
      "Acquiring Institution    555 non-null object\n",
      "Closing Date             555 non-null object\n",
      "Updated Date             555 non-null object\n",
      "dtypes: int64(1), object(6)\n",
      "memory usage: 30.4+ KB\n"
     ]
    }
   ],
   "source": [
    "banks = tables[0]\n",
    "banks.info() #zajame vse rezultate iz vseh strani"
   ]
  },
  {
   "cell_type": "code",
   "execution_count": 87,
   "metadata": {},
   "outputs": [
    {
     "data": {
      "text/plain": [
       "2010    157\n",
       "2009    140\n",
       "2011     92\n",
       "2012     51\n",
       "2008     25\n",
       "2013     24\n",
       "2014     18\n",
       "2002     11\n",
       "2017      8\n",
       "2015      8\n",
       "2016      5\n",
       "2004      4\n",
       "2001      4\n",
       "2007      3\n",
       "2003      3\n",
       "2000      2\n",
       "Name: Closing Date, dtype: int64"
      ]
     },
     "execution_count": 87,
     "metadata": {},
     "output_type": "execute_result"
    }
   ],
   "source": [
    "#koliko bank se je zaprlo po letih\n",
    "close_timestamps = pd.to_datetime(banks['Closing Date'])\n",
    "close_timestamps.dt.year.value_counts()"
   ]
  },
  {
   "cell_type": "code",
   "execution_count": null,
   "metadata": {},
   "outputs": [],
   "source": []
  },
  {
   "cell_type": "code",
   "execution_count": null,
   "metadata": {},
   "outputs": [],
   "source": []
  },
  {
   "cell_type": "code",
   "execution_count": null,
   "metadata": {},
   "outputs": [],
   "source": []
  },
  {
   "cell_type": "code",
   "execution_count": null,
   "metadata": {},
   "outputs": [],
   "source": []
  },
  {
   "cell_type": "markdown",
   "metadata": {},
   "source": [
    "## Primeri"
   ]
  },
  {
   "cell_type": "markdown",
   "metadata": {},
   "source": [
    "### Scraping and Visualizing IMDB Ratings"
   ]
  },
  {
   "cell_type": "markdown",
   "metadata": {},
   "source": [
    "Stran: http://www.imdb.com/title/tt0944947/episodes"
   ]
  },
  {
   "cell_type": "code",
   "execution_count": 88,
   "metadata": {},
   "outputs": [],
   "source": [
    "import requests\n",
    "from bs4 import BeautifulSoup\n",
    "url = 'http://www.imdb.com/title/tt0944947/episodes'"
   ]
  },
  {
   "cell_type": "code",
   "execution_count": null,
   "metadata": {},
   "outputs": [],
   "source": [
    "#radi bi za vseh 8 sezon dobili graf ocen za vsako epizodo\n",
    "#imamo 8 strani: 8krat bomo morali it na stram\n",
    "#s pythonom ne moreš \"klikat\", ampak moraš najti ustrezen url- vidimo, da ima vsaka stran drugačen parameter"
   ]
  },
  {
   "cell_type": "code",
   "execution_count": 89,
   "metadata": {},
   "outputs": [],
   "source": [
    "episodes = []\n",
    "rankings = []\n"
   ]
  },
  {
   "cell_type": "code",
   "execution_count": 94,
   "metadata": {},
   "outputs": [
    {
     "name": "stdout",
     "output_type": "stream",
     "text": [
      "1.1 <span class=\"ipl-rating-star__rating\">9.1</span>\n",
      "-------------------\n",
      "1.2 <span class=\"ipl-rating-star__rating\">8.8</span>\n",
      "-------------------\n",
      "1.3 <span class=\"ipl-rating-star__rating\">8.7</span>\n",
      "-------------------\n",
      "1.4 <span class=\"ipl-rating-star__rating\">8.8</span>\n",
      "-------------------\n",
      "1.5 <span class=\"ipl-rating-star__rating\">9.1</span>\n",
      "-------------------\n",
      "1.6 <span class=\"ipl-rating-star__rating\">9.2</span>\n",
      "-------------------\n",
      "1.7 <span class=\"ipl-rating-star__rating\">9.3</span>\n",
      "-------------------\n",
      "1.8 <span class=\"ipl-rating-star__rating\">9.1</span>\n",
      "-------------------\n",
      "1.9 <span class=\"ipl-rating-star__rating\">9.6</span>\n",
      "-------------------\n",
      "1.10 <span class=\"ipl-rating-star__rating\">9.5</span>\n",
      "-------------------\n",
      "2.1 <span class=\"ipl-rating-star__rating\">8.9</span>\n",
      "-------------------\n",
      "2.2 <span class=\"ipl-rating-star__rating\">8.6</span>\n",
      "-------------------\n",
      "2.3 <span class=\"ipl-rating-star__rating\">8.9</span>\n",
      "-------------------\n",
      "2.4 <span class=\"ipl-rating-star__rating\">8.9</span>\n",
      "-------------------\n",
      "2.5 <span class=\"ipl-rating-star__rating\">8.9</span>\n",
      "-------------------\n",
      "2.6 <span class=\"ipl-rating-star__rating\">9.1</span>\n",
      "-------------------\n",
      "2.7 <span class=\"ipl-rating-star__rating\">9.0</span>\n",
      "-------------------\n",
      "2.8 <span class=\"ipl-rating-star__rating\">8.9</span>\n",
      "-------------------\n",
      "2.9 <span class=\"ipl-rating-star__rating\">9.7</span>\n",
      "-------------------\n",
      "2.10 <span class=\"ipl-rating-star__rating\">9.5</span>\n",
      "-------------------\n",
      "3.1 <span class=\"ipl-rating-star__rating\">8.9</span>\n",
      "-------------------\n",
      "3.2 <span class=\"ipl-rating-star__rating\">8.7</span>\n",
      "-------------------\n",
      "3.3 <span class=\"ipl-rating-star__rating\">8.9</span>\n",
      "-------------------\n",
      "3.4 <span class=\"ipl-rating-star__rating\">9.6</span>\n",
      "-------------------\n",
      "3.5 <span class=\"ipl-rating-star__rating\">9.1</span>\n",
      "-------------------\n",
      "3.6 <span class=\"ipl-rating-star__rating\">8.9</span>\n",
      "-------------------\n",
      "3.7 <span class=\"ipl-rating-star__rating\">8.8</span>\n",
      "-------------------\n",
      "3.8 <span class=\"ipl-rating-star__rating\">9.1</span>\n",
      "-------------------\n",
      "3.9 <span class=\"ipl-rating-star__rating\">9.9</span>\n",
      "-------------------\n",
      "3.10 <span class=\"ipl-rating-star__rating\">9.2</span>\n",
      "-------------------\n",
      "4.1 <span class=\"ipl-rating-star__rating\">9.1</span>\n",
      "-------------------\n",
      "4.2 <span class=\"ipl-rating-star__rating\">9.7</span>\n",
      "-------------------\n",
      "4.3 <span class=\"ipl-rating-star__rating\">8.9</span>\n",
      "-------------------\n",
      "4.4 <span class=\"ipl-rating-star__rating\">8.9</span>\n",
      "-------------------\n",
      "4.5 <span class=\"ipl-rating-star__rating\">8.8</span>\n",
      "-------------------\n",
      "4.6 <span class=\"ipl-rating-star__rating\">9.7</span>\n",
      "-------------------\n",
      "4.7 <span class=\"ipl-rating-star__rating\">9.2</span>\n",
      "-------------------\n",
      "4.8 <span class=\"ipl-rating-star__rating\">9.7</span>\n",
      "-------------------\n",
      "4.9 <span class=\"ipl-rating-star__rating\">9.6</span>\n",
      "-------------------\n",
      "4.10 <span class=\"ipl-rating-star__rating\">9.7</span>\n",
      "-------------------\n",
      "5.1 <span class=\"ipl-rating-star__rating\">8.6</span>\n",
      "-------------------\n",
      "5.2 <span class=\"ipl-rating-star__rating\">8.6</span>\n",
      "-------------------\n",
      "5.3 <span class=\"ipl-rating-star__rating\">8.6</span>\n",
      "-------------------\n",
      "5.4 <span class=\"ipl-rating-star__rating\">8.8</span>\n",
      "-------------------\n",
      "5.5 <span class=\"ipl-rating-star__rating\">8.7</span>\n",
      "-------------------\n",
      "5.6 <span class=\"ipl-rating-star__rating\">8.1</span>\n",
      "-------------------\n",
      "5.7 <span class=\"ipl-rating-star__rating\">9.1</span>\n",
      "-------------------\n",
      "5.8 <span class=\"ipl-rating-star__rating\">9.9</span>\n",
      "-------------------\n",
      "5.9 <span class=\"ipl-rating-star__rating\">9.5</span>\n",
      "-------------------\n",
      "5.10 <span class=\"ipl-rating-star__rating\">9.1</span>\n",
      "-------------------\n",
      "6.1 <span class=\"ipl-rating-star__rating\">8.6</span>\n",
      "-------------------\n",
      "6.2 <span class=\"ipl-rating-star__rating\">9.4</span>\n",
      "-------------------\n",
      "6.3 <span class=\"ipl-rating-star__rating\">8.8</span>\n",
      "-------------------\n",
      "6.4 <span class=\"ipl-rating-star__rating\">9.2</span>\n",
      "-------------------\n",
      "6.5 <span class=\"ipl-rating-star__rating\">9.7</span>\n",
      "-------------------\n",
      "6.6 <span class=\"ipl-rating-star__rating\">8.5</span>\n",
      "-------------------\n",
      "6.7 <span class=\"ipl-rating-star__rating\">8.7</span>\n",
      "-------------------\n",
      "6.8 <span class=\"ipl-rating-star__rating\">8.5</span>\n",
      "-------------------\n",
      "6.9 <span class=\"ipl-rating-star__rating\">9.9</span>\n",
      "-------------------\n",
      "6.10 <span class=\"ipl-rating-star__rating\">9.9</span>\n",
      "-------------------\n",
      "7.1 <span class=\"ipl-rating-star__rating\">8.7</span>\n",
      "-------------------\n",
      "7.2 <span class=\"ipl-rating-star__rating\">9.0</span>\n",
      "-------------------\n",
      "7.3 <span class=\"ipl-rating-star__rating\">9.3</span>\n",
      "-------------------\n",
      "7.4 <span class=\"ipl-rating-star__rating\">9.8</span>\n",
      "-------------------\n",
      "7.5 <span class=\"ipl-rating-star__rating\">8.9</span>\n",
      "-------------------\n",
      "7.6 <span class=\"ipl-rating-star__rating\">9.1</span>\n",
      "-------------------\n",
      "7.7 <span class=\"ipl-rating-star__rating\">9.5</span>\n",
      "-------------------\n",
      "8.1 <span class=\"ipl-rating-star__rating\">7.7</span>\n",
      "-------------------\n",
      "8.2 <span class=\"ipl-rating-star__rating\">8.0</span>\n",
      "-------------------\n",
      "8.3 <span class=\"ipl-rating-star__rating\">7.6</span>\n",
      "-------------------\n",
      "8.4 <span class=\"ipl-rating-star__rating\">5.6</span>\n",
      "-------------------\n",
      "8.5 <span class=\"ipl-rating-star__rating\">6.2</span>\n",
      "-------------------\n",
      "8.6 <span class=\"ipl-rating-star__rating\">4.3</span>\n",
      "-------------------\n"
     ]
    }
   ],
   "source": [
    "for season in range(1,9): #sprehodimo se po sezonah, za vsako naredimo request na stran\n",
    "    r = requests.get(url, params= {'season': season}) #dodatni parameter za vsako sezono posebej\n",
    "    #if r.status_code == 200: #preverimo, če je bil request res narejen\n",
    "    soup = BeautifulSoup(r.text, 'html.parser')\n",
    "    listing = soup.find('div', class_ = 'eplist')\n",
    "    #sedaj se moramo sprehodit čez vse sezone in epizode\n",
    "    for epnr , div in enumerate(listing.find_all('div', recursive =False)): #ecursive - samo prvega poiščemo, nočemo, da gre naprej v \"globino\"\n",
    "        episode = f'{season}.{epnr + 1}'\n",
    "        rating_el = div.find(class_='ipl-rating-star__rating')        #rating\n",
    "        print(episode, rating_el)\n",
    "        print('-------------------')\n",
    "        rating = float(rating_el.get_text(strip=True))\n",
    "        episodes.append(episode)\n",
    "        rankings.append(rating)"
   ]
  },
  {
   "cell_type": "code",
   "execution_count": 96,
   "metadata": {},
   "outputs": [
    {
     "data": {
      "text/plain": [
       "<BarContainer object of 73 artists>"
      ]
     },
     "execution_count": 96,
     "metadata": {},
     "output_type": "execute_result"
    },
    {
     "data": {
      "image/png": "[encoded data removed]",
      "text/plain": [
       "<Figure size 432x288 with 1 Axes>"
      ]
     },
     "metadata": {
      "needs_background": "light"
     },
     "output_type": "display_data"
    }
   ],
   "source": [
    "#narišemo graf\n",
    "import matplotlib.pylab as plt\n",
    "plt.figure()\n",
    "positions = [a for a in range(len(rankings))]\n",
    "plt.bar(positions, rankings, align = 'center')"
   ]
  },
  {
   "cell_type": "code",
   "execution_count": null,
   "metadata": {},
   "outputs": [],
   "source": []
  },
  {
   "cell_type": "code",
   "execution_count": null,
   "metadata": {},
   "outputs": [],
   "source": []
  },
  {
   "cell_type": "code",
   "execution_count": null,
   "metadata": {},
   "outputs": [],
   "source": []
  },
  {
   "cell_type": "code",
   "execution_count": null,
   "metadata": {},
   "outputs": [],
   "source": []
  },
  {
   "cell_type": "markdown",
   "metadata": {},
   "source": [
    "### Scraping Fast Track data"
   ]
  },
  {
   "cell_type": "markdown",
   "metadata": {},
   "source": [
    "Stran: https://www.fasttrack.co.uk/league-tables/tech-track-100/league-table/"
   ]
  },
  {
   "cell_type": "code",
   "execution_count": 97,
   "metadata": {},
   "outputs": [],
   "source": [
    "# import libraries\n",
    "from bs4 import BeautifulSoup\n",
    "import requests\n",
    "import csv"
   ]
  },
  {
   "cell_type": "code",
   "execution_count": 98,
   "metadata": {},
   "outputs": [],
   "source": [
    "# specify the url\n",
    "urlpage =  'http://www.fasttrack.co.uk/league-tables/tech-track-100/league-table/'"
   ]
  },
  {
   "cell_type": "code",
   "execution_count": 99,
   "metadata": {},
   "outputs": [],
   "source": [
    "#naredimo request na stran\n",
    "page = requests.get(urlpage)"
   ]
  },
  {
   "cell_type": "code",
   "execution_count": 101,
   "metadata": {},
   "outputs": [],
   "source": [
    "soup = BeautifulSoup(page.text, 'html.parser')"
   ]
  },
  {
   "cell_type": "code",
   "execution_count": 102,
   "metadata": {},
   "outputs": [],
   "source": [
    "#poiščemo tabele\n",
    "table = soup.find('table', class_ = 'tableSorter')"
   ]
  },
  {
   "cell_type": "code",
   "execution_count": 103,
   "metadata": {},
   "outputs": [
    {
     "data": {
      "text/plain": [
       "3"
      ]
     },
     "execution_count": 103,
     "metadata": {},
     "output_type": "execute_result"
    }
   ],
   "source": [
    "len(table)"
   ]
  },
  {
   "cell_type": "code",
   "execution_count": 104,
   "metadata": {},
   "outputs": [],
   "source": [
    "results = table.find_all('tr')"
   ]
  },
  {
   "cell_type": "code",
   "execution_count": 105,
   "metadata": {},
   "outputs": [
    {
     "name": "stdout",
     "output_type": "stream",
     "text": [
      "number of rows:  101\n"
     ]
    }
   ],
   "source": [
    "print('number of rows: ', len(results))"
   ]
  },
  {
   "cell_type": "code",
   "execution_count": 106,
   "metadata": {},
   "outputs": [],
   "source": [
    "#imena stolpcev\n",
    "rows = []\n",
    "for row in results[0].find_all('th'):\n",
    "    rows.append(row.contents[0])"
   ]
  },
  {
   "cell_type": "code",
   "execution_count": 107,
   "metadata": {},
   "outputs": [
    {
     "data": {
      "text/plain": [
       "['Rank',\n",
       " 'Company',\n",
       " 'Location',\n",
       " 'Year end',\n",
       " 'Annual sales rise over 3 years',\n",
       " 'Latest sales £000s',\n",
       " 'Staff',\n",
       " 'Comment']"
      ]
     },
     "execution_count": 107,
     "metadata": {},
     "output_type": "execute_result"
    }
   ],
   "source": [
    "rows"
   ]
  },
  {
   "cell_type": "code",
   "execution_count": 109,
   "metadata": {},
   "outputs": [
    {
     "data": {
      "text/plain": [
       "[['Rank',\n",
       "  'Company Name',\n",
       "  'Webpage',\n",
       "  'Description',\n",
       "  'Location',\n",
       "  'Year end',\n",
       "  'Annual sales rise over 3 years',\n",
       "  'Sales £000s',\n",
       "  'Staff',\n",
       "  'Comment']]"
      ]
     },
     "execution_count": 109,
     "metadata": {},
     "output_type": "execute_result"
    }
   ],
   "source": [
    "#naredimo nov list, v katerega bomo dodali še nekaj dodatnih stolpcev\n",
    "rows = []\n",
    "rows.append(['Rank', 'Company Name', 'Webpage', 'Description', 'Location', \n",
    "            'Year end', 'Annual sales rise over 3 years','Sales £000s','Staff','Comment'])\n",
    "rows"
   ]
  },
  {
   "cell_type": "code",
   "execution_count": 110,
   "metadata": {},
   "outputs": [
    {
     "data": {
      "text/plain": [
       "[<td>100</td>,\n",
       " <td><a href=\"https://www.fasttrack.co.uk/company_profile/brompton-technology/\"><span class=\"company-name\">Brompton Technology</span></a>Video technology provider</td>,\n",
       " <td>West London</td>,\n",
       " <td>Aug-17</td>,\n",
       " <td style=\"text-align:right;\">50.17%</td>,\n",
       " <td style=\"text-align:right;\">*5,250</td>,\n",
       " <td style=\"text-align:right;\">27</td>,\n",
       " <td>Its technology is used in high-profile events such as the Oscars</td>]"
      ]
     },
     "execution_count": 110,
     "metadata": {},
     "output_type": "execute_result"
    }
   ],
   "source": [
    "for result in results:\n",
    "    data = result.find_all('td')\n",
    "    if len(data) == 0: #preverimo, če ima kaj podatkov, če ne, nadaljujemo z naslednjim\n",
    "        continue\n",
    "data       "
   ]
  },
  {
   "cell_type": "code",
   "execution_count": null,
   "metadata": {},
   "outputs": [],
   "source": []
  },
  {
   "cell_type": "code",
   "execution_count": null,
   "metadata": {},
   "outputs": [],
   "source": []
  },
  {
   "cell_type": "code",
   "execution_count": null,
   "metadata": {},
   "outputs": [],
   "source": []
  },
  {
   "cell_type": "code",
   "execution_count": 111,
   "metadata": {},
   "outputs": [],
   "source": [
    "#vzamemo tekst iz teh stolpcev\n",
    "# write columns to variables\n",
    "rank = data[0].getText()\n",
    "company = data[1].getText()\n",
    "location = data[2].getText()\n",
    "yearend = data[3].getText()\n",
    "salesrise = data[4].getText()\n",
    "sales = data[5].getText()\n",
    "staff = data[6].getText()\n",
    "comments = data[7].getText()"
   ]
  },
  {
   "cell_type": "code",
   "execution_count": 113,
   "metadata": {},
   "outputs": [
    {
     "data": {
      "text/plain": [
       "'Brompton TechnologyVideo technology provider'"
      ]
     },
     "execution_count": 113,
     "metadata": {},
     "output_type": "execute_result"
    }
   ],
   "source": [
    "company"
   ]
  },
  {
   "cell_type": "code",
   "execution_count": 119,
   "metadata": {},
   "outputs": [
    {
     "data": {
      "text/plain": [
       "'Video technology provider'"
      ]
     },
     "execution_count": 119,
     "metadata": {},
     "output_type": "execute_result"
    }
   ],
   "source": [
    "#radi bi razbili company na brompton Techonolgy (Company name) in na Video tecnology provider (Description)\n",
    "#ločeno je z atributom span\n",
    "companyname = data[1].find('span', class_ = 'company-name').getText()\n",
    "description = company.replace(companyname, '') #trik :)\n",
    "\n",
    "description"
   ]
  },
  {
   "cell_type": "code",
   "execution_count": 124,
   "metadata": {},
   "outputs": [
    {
     "data": {
      "text/plain": [
       "'5250'"
      ]
     },
     "execution_count": 124,
     "metadata": {},
     "output_type": "execute_result"
    }
   ],
   "source": [
    "#sales: želimo se znebit *  (*5,250' --> 5250)\n",
    "sales.strip('*').replace(',', '')\n"
   ]
  },
  {
   "cell_type": "code",
   "execution_count": 125,
   "metadata": {},
   "outputs": [
    {
     "data": {
      "text/plain": [
       "<td><a href=\"https://www.fasttrack.co.uk/company_profile/brompton-technology/\"><span class=\"company-name\">Brompton Technology</span></a>Video technology provider</td>"
      ]
     },
     "execution_count": 125,
     "metadata": {},
     "output_type": "execute_result"
    }
   ],
   "source": [
    "#Company website\n",
    "#companywebsite je na drugi strani, ki se naloži\n",
    "data[1]"
   ]
  },
  {
   "cell_type": "code",
   "execution_count": 126,
   "metadata": {},
   "outputs": [
    {
     "data": {
      "text/plain": [
       "'https://www.fasttrack.co.uk/company_profile/brompton-technology/'"
      ]
     },
     "execution_count": 126,
     "metadata": {},
     "output_type": "execute_result"
    }
   ],
   "source": [
    "#company website\n",
    "url = data[1].find('a').get('href')\n",
    "url"
   ]
  },
  {
   "cell_type": "code",
   "execution_count": 127,
   "metadata": {},
   "outputs": [],
   "source": [
    "page = requests.get(url)\n",
    "soup = BeautifulSoup(page.text, 'html.parser')"
   ]
  },
  {
   "cell_type": "code",
   "execution_count": 128,
   "metadata": {},
   "outputs": [],
   "source": [
    "#paziti moramo, ker nimajo vse strani website --> try\n",
    "try:\n",
    "    tableRow = soup.find('table') .find_all('tr')[-1]  #rabimo zadnji tr v table objektu\n",
    "    webpage = tableRow.find('a').get('href')\n",
    "except:\n",
    "    webpage = None"
   ]
  },
  {
   "cell_type": "code",
   "execution_count": 129,
   "metadata": {},
   "outputs": [
    {
     "data": {
      "text/plain": [
       "'http://www.bromptontech.com'"
      ]
     },
     "execution_count": 129,
     "metadata": {},
     "output_type": "execute_result"
    }
   ],
   "source": [
    "webpage"
   ]
  },
  {
   "cell_type": "code",
   "execution_count": null,
   "metadata": {},
   "outputs": [],
   "source": [
    "#na koncu vse damo v csv"
   ]
  },
  {
   "cell_type": "code",
   "execution_count": null,
   "metadata": {},
   "outputs": [],
   "source": []
  },
  {
   "cell_type": "code",
   "execution_count": null,
   "metadata": {},
   "outputs": [],
   "source": []
  },
  {
   "cell_type": "code",
   "execution_count": null,
   "metadata": {},
   "outputs": [],
   "source": []
  },
  {
   "cell_type": "markdown",
   "metadata": {},
   "source": [
    "#### Celotni program skupaj"
   ]
  },
  {
   "cell_type": "code",
   "execution_count": 130,
   "metadata": {},
   "outputs": [
    {
     "name": "stdout",
     "output_type": "stream",
     "text": [
      "number of rows:  101\n"
     ]
    }
   ],
   "source": [
    "# import libraries\n",
    "from bs4 import BeautifulSoup\n",
    "import requests\n",
    "import csv\n",
    "\n",
    "# specify the url\n",
    "urlpage =  'http://www.fasttrack.co.uk/league-tables/tech-track-100/league-table/'\n",
    "\n",
    "page = requests.get(urlpage)\n",
    "soup = BeautifulSoup(page.text, 'html.parser')\n",
    "\n",
    "#poiščemo tabelo\n",
    "table = soup.find('table', class_ = 'tableSorter')\n",
    "results = table.find_all('tr')\n",
    "print('number of rows: ', len(results))"
   ]
  },
  {
   "cell_type": "code",
   "execution_count": 132,
   "metadata": {},
   "outputs": [],
   "source": [
    "rows = []\n",
    "rows.append(['Rank', 'Company Name', 'Webpage', 'Description', 'Location', \n",
    "            'Year end', 'Annual sales rise over 3 years','Sales £000s','Staff','Comment'])"
   ]
  },
  {
   "cell_type": "code",
   "execution_count": 134,
   "metadata": {},
   "outputs": [
    {
     "name": "stdout",
     "output_type": "stream",
     "text": [
      "1  - Company is  Plan.com\n",
      "2  - Company is  PsiOxus\n",
      "3  - Company is  CensorNet\n",
      "4  - Company is  thoughtonomy\n",
      "5  - Company is  Perkbox\n",
      "6  - Company is  Ogury\n",
      "7  - Company is  Verve\n",
      "8  - Company is  goHenry\n",
      "9  - Company is  Darktrace\n",
      "10  - Company is  Bizuma\n",
      "11  - Company is  Depop\n",
      "12  - Company is  Laser Wire Solutions\n",
      "13  - Company is  Bought By Many\n",
      "14  - Company is  Optal\n",
      "15  - Company is  Infinox\n",
      "16  - Company is  Oakbrook\n",
      "17  - Company is  Carwow\n",
      "18  - Company is  Receipt Bank\n",
      "19  - Company is  dB Broadcast\n",
      "20  - Company is  The Car Buying Group\n",
      "21  - Company is  Festicket\n",
      "22  - Company is  Planixs\n",
      "23  - Company is  Gigaclear\n",
      "24  - Company is  TransferWise\n",
      "25  - Company is  PatSnap\n",
      "26  - Company is  Hyperoptic\n",
      "27  - Company is  GoCardless\n",
      "28  - Company is  Purple\n",
      "29  - Company is  Trustpay Global\n",
      "30  - Company is  iwoca\n",
      "31  - Company is  LADBible Group\n",
      "32  - Company is  Threads Styling\n",
      "33  - Company is  Prodigy Finance\n",
      "34  - Company is  Azimo\n",
      "35  - Company is  Chameleon\n",
      "36  - Company is  SuperAwesome\n",
      "37  - Company is  Gousto\n",
      "38  - Company is  Vizolution\n",
      "39  - Company is  MoveGB\n",
      "40  - Company is  BBOXX\n",
      "41  - Company is  Funding Circle\n",
      "42  - Company is  LoopMe\n",
      "43  - Company is  Kano\n",
      "44  - Company is  Capital on Tap\n",
      "45  - Company is  Hutch\n",
      "46  - Company is  ENSEK\n",
      "47  - Company is  MiQ\n",
      "48  - Company is  StarLeaf\n",
      "49  - Company is  BigChange\n",
      "50  - Company is  The Lead Agency\n",
      "51  - Company is  UNiDAYS\n",
      "52  - Company is  Farfetch\n",
      "53  - Company is  Assetz Capital\n",
      "54  - Company is  iPulse\n",
      "55  - Company is  Giacom\n",
      "56  - Company is  Arcus Global\n",
      "57  - Company is  disguise\n",
      "58  - Company is  Tech21\n",
      "59  - Company is  Victor\n",
      "60  - Company is  Cinesite\n",
      "61  - Company is  Biosite Systems\n",
      "62  - Company is  Ecometrica\n",
      "63  - Company is  Qualasept Pharmaxo\n",
      "64  - Company is  Edesix\n",
      "65  - Company is  LendInvest\n",
      "66  - Company is  E3D Online\n",
      "67  - Company is  Lyst\n",
      "68  - Company is  Diaceutics\n",
      "69  - Company is  Amplience\n",
      "70  - Company is  GlucoRx\n",
      "71  - Company is  Love Energy Savings\n",
      "72  - Company is  Creative Virtual\n",
      "73  - Company is  Ebury\n",
      "74  - Company is  ZappiStore\n",
      "75  - Company is  Blis\n",
      "76  - Company is  BookingBug\n",
      "77  - Company is  Egress\n",
      "78  - Company is  Contis Group\n",
      "79  - Company is  PM Connect\n",
      "80  - Company is  Zopa\n",
      "81  - Company is  WorldRemit\n",
      "82  - Company is  Dianomi\n",
      "83  - Company is  Liberis\n",
      "84  - Company is  Currencycloud\n",
      "85  - Company is  Featurespace\n",
      "86  - Company is  Cloud Technology Solutions\n",
      "87  - Company is  Leisure Pass Group\n",
      "88  - Company is  rradar\n",
      "89  - Company is  Converge TS\n",
      "90  - Company is  Kimble Applications\n",
      "91  - Company is  Paymentsense\n",
      "92  - Company is  Godel Technologies\n",
      "93  - Company is  Secret Escapes\n",
      "94  - Company is  Neuven\n",
      "95  - Company is  CitNOW\n",
      "96  - Company is  geo\n",
      "97  - Company is  Vision RT\n",
      "98  - Company is  Thread\n",
      "99  - Company is  The Media Image\n",
      "100  - Company is  Brompton Technology\n"
     ]
    }
   ],
   "source": [
    "for num, result in enumerate(results):\n",
    "    data = result.find_all('td')\n",
    "    if len(data) == 0: #preverimo, če ima kaj podatkov, če ne, nadaljujemo z naslednjim\n",
    "        continue\n",
    "        \n",
    "    rank = data[0].getText()\n",
    "    company = data[1].getText()\n",
    "    location = data[2].getText()\n",
    "    yearend = data[3].getText()\n",
    "    salesrise = data[4].getText()\n",
    "    sales = data[5].getText()\n",
    "    staff = data[6].getText()\n",
    "    comments = data[7].getText()\n",
    "    \n",
    "    companyname = data[1].find('span', class_ = 'company-name').getText()\n",
    "    description = company.replace(companyname, '') #trik :)\n",
    "    \n",
    "    print(num, ' - Company is ', companyname)\n",
    "    \n",
    "    sales = sales.strip('*').replace(',', '')\n",
    "    \n",
    "    url = data[1].find('a').get('href')\n",
    "    page = requests.get(url)\n",
    "    soup = BeautifulSoup(page.text, 'html.parser')\n",
    "    \n",
    "    try:\n",
    "        tableRow = soup.find('table') .find_all('tr')[-1]  #rabimo zadnji tr v table objektu\n",
    "        webpage = tableRow.find('a').get('href')\n",
    "    except:\n",
    "        webpage = None\n",
    "        \n",
    "    rows.append([rank, companyname, webpage, description, location, yearend, salesrise, sales, \n",
    "                staff, comments])"
   ]
  },
  {
   "cell_type": "code",
   "execution_count": 135,
   "metadata": {},
   "outputs": [],
   "source": [
    "#damo v csv\n",
    "with open('OUT_companies.csv', 'w', newline = '') as f_output:\n",
    "    csv_output = csv.writer(f_output)\n",
    "    csv_output.writerows(rows)"
   ]
  },
  {
   "cell_type": "code",
   "execution_count": 136,
   "metadata": {},
   "outputs": [],
   "source": [
    "#damo v data frame\n",
    "df = pd.read_csv('OUT_companies.csv')"
   ]
  },
  {
   "cell_type": "code",
   "execution_count": 137,
   "metadata": {},
   "outputs": [
    {
     "data": {
      "text/html": [
       "<div>\n",
       "<style scoped>\n",
       "    .dataframe tbody tr th:only-of-type {\n",
       "        vertical-align: middle;\n",
       "    }\n",
       "\n",
       "    .dataframe tbody tr th {\n",
       "        vertical-align: top;\n",
       "    }\n",
       "\n",
       "    .dataframe thead th {\n",
       "        text-align: right;\n",
       "    }\n",
       "</style>\n",
       "<table border=\"1\" class=\"dataframe\">\n",
       "  <thead>\n",
       "    <tr style=\"text-align: right;\">\n",
       "      <th></th>\n",
       "      <th>Rank</th>\n",
       "      <th>Company Name</th>\n",
       "      <th>Webpage</th>\n",
       "      <th>Description</th>\n",
       "      <th>Location</th>\n",
       "      <th>Year end</th>\n",
       "      <th>Annual sales rise over 3 years</th>\n",
       "      <th>Sales £000s</th>\n",
       "      <th>Staff</th>\n",
       "      <th>Comment</th>\n",
       "    </tr>\n",
       "  </thead>\n",
       "  <tbody>\n",
       "    <tr>\n",
       "      <th>0</th>\n",
       "      <td>1</td>\n",
       "      <td>Plan.com</td>\n",
       "      <td>http://www.plan.com</td>\n",
       "      <td>Communications provider</td>\n",
       "      <td>Isle of Man</td>\n",
       "      <td>Sep-17</td>\n",
       "      <td>364.38%</td>\n",
       "      <td>35418</td>\n",
       "      <td>90</td>\n",
       "      <td>About 650 partners use its telecoms platform t...</td>\n",
       "    </tr>\n",
       "    <tr>\n",
       "      <th>1</th>\n",
       "      <td>2</td>\n",
       "      <td>PsiOxus</td>\n",
       "      <td>http://www.psioxus.com</td>\n",
       "      <td>Biotechnology developer</td>\n",
       "      <td>Oxfordshire</td>\n",
       "      <td>Dec-17</td>\n",
       "      <td>311.67%</td>\n",
       "      <td>53136</td>\n",
       "      <td>54</td>\n",
       "      <td>Received a $15m milestone payment from its dev...</td>\n",
       "    </tr>\n",
       "    <tr>\n",
       "      <th>2</th>\n",
       "      <td>3</td>\n",
       "      <td>CensorNet</td>\n",
       "      <td>http://www.censornet.com</td>\n",
       "      <td>Cloud security software developer</td>\n",
       "      <td>Basingstoke</td>\n",
       "      <td>Dec-17</td>\n",
       "      <td>210.17%</td>\n",
       "      <td>7535</td>\n",
       "      <td>77</td>\n",
       "      <td>Has more than 4,000 customers, including McDon...</td>\n",
       "    </tr>\n",
       "    <tr>\n",
       "      <th>3</th>\n",
       "      <td>4</td>\n",
       "      <td>thoughtonomy</td>\n",
       "      <td>http://www.thoughtonomy.com</td>\n",
       "      <td>Automation software developer</td>\n",
       "      <td>East London</td>\n",
       "      <td>May-18</td>\n",
       "      <td>205.20%</td>\n",
       "      <td>16916</td>\n",
       "      <td>100</td>\n",
       "      <td>It sells to 28 countries and 50% of revenue is...</td>\n",
       "    </tr>\n",
       "  </tbody>\n",
       "</table>\n",
       "</div>"
      ],
      "text/plain": [
       "   Rank  Company Name                      Webpage  \\\n",
       "0     1      Plan.com          http://www.plan.com   \n",
       "1     2       PsiOxus       http://www.psioxus.com   \n",
       "2     3     CensorNet     http://www.censornet.com   \n",
       "3     4  thoughtonomy  http://www.thoughtonomy.com   \n",
       "\n",
       "                         Description     Location Year end  \\\n",
       "0            Communications provider  Isle of Man   Sep-17   \n",
       "1            Biotechnology developer  Oxfordshire   Dec-17   \n",
       "2  Cloud security software developer  Basingstoke   Dec-17   \n",
       "3      Automation software developer  East London   May-18   \n",
       "\n",
       "  Annual sales rise over 3 years Sales £000s Staff  \\\n",
       "0                        364.38%       35418    90   \n",
       "1                        311.67%       53136    54   \n",
       "2                        210.17%        7535    77   \n",
       "3                        205.20%       16916   100   \n",
       "\n",
       "                                             Comment  \n",
       "0  About 650 partners use its telecoms platform t...  \n",
       "1  Received a $15m milestone payment from its dev...  \n",
       "2  Has more than 4,000 customers, including McDon...  \n",
       "3  It sells to 28 countries and 50% of revenue is...  "
      ]
     },
     "execution_count": 137,
     "metadata": {},
     "output_type": "execute_result"
    }
   ],
   "source": [
    "df.head(4)"
   ]
  },
  {
   "cell_type": "code",
   "execution_count": null,
   "metadata": {},
   "outputs": [],
   "source": []
  },
  {
   "cell_type": "code",
   "execution_count": null,
   "metadata": {},
   "outputs": [],
   "source": []
  },
  {
   "cell_type": "code",
   "execution_count": null,
   "metadata": {},
   "outputs": [],
   "source": []
  },
  {
   "cell_type": "code",
   "execution_count": null,
   "metadata": {},
   "outputs": [],
   "source": []
  },
  {
   "cell_type": "code",
   "execution_count": null,
   "metadata": {},
   "outputs": [],
   "source": []
  },
  {
   "cell_type": "code",
   "execution_count": null,
   "metadata": {},
   "outputs": [],
   "source": []
  },
  {
   "cell_type": "code",
   "execution_count": null,
   "metadata": {},
   "outputs": [],
   "source": []
  }
 ],
 "metadata": {
  "kernelspec": {
   "display_name": "Python 3",
   "language": "python",
   "name": "python3"
  },
  "language_info": {
   "codemirror_mode": {
    "name": "ipython",
    "version": 3
   },
   "file_extension": ".py",
   "mimetype": "text/x-python",
   "name": "python",
   "nbconvert_exporter": "python",
   "pygments_lexer": "ipython3",
   "version": "3.7.3"
  }
 },
 "nbformat": 4,
 "nbformat_minor": 2
}
