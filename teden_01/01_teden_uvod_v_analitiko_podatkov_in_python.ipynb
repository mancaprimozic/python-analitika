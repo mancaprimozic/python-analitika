{
 "cells": [
  {
   "cell_type": "markdown",
   "metadata": {},
   "source": [
    "# Uvod v tečaj: IoT Fundamentals: Analitika podatkov v Python-u\n",
    "\n",
    "### Vsebina\n",
    "- Teden 1 (15.4.): Uvod v analitiko podatkov in Python\n",
    "- Teden 2 (17.4. - sreda): Uvod v Numpy\n",
    "- Rezerven termin 6.5.2019\n",
    "- Teden 3 (13.5.):  Uvod v Pandas\n",
    "- Teden 4 (20.5.): Shranjevanje podatkov\n",
    "- Teden 5 (22.5. - sreda): Web scraping - pridobivanje podatkov s spleta\n",
    "- Teden 6 (27.5.): Prikazovanje podatkov - Matplotlib\n",
    "- Teden 7 (29.5. - sreda): Obdelava podatkov 1.del\n",
    "- Teden 8 (3.6.): Obdelava podatkov 2.del\n",
    "- Teden 9 (5.6.-sreda): Izpit\n",
    "\n",
    "\n",
    "### Cilji\n",
    "- uporabiti programski jezik Python pri obdelavi in prikazovanju podatkov\n",
    "- Spoznati korake podatkovne analize na praktičnih primerih z uporabo različnih Python knjižnic (pandas, NumPy, matplotlib…)\n",
    "\n",
    "### Ciljna skupina\n",
    "- vsi, ki jih zanima področje obdelave podatkov in Big Data\n",
    "- vsi, ki želijo razviti kariero na področju obdelave podatkov\n",
    "\n",
    "### Priporočeno predznanje\n",
    "Udeležba na tečaju Osnove programiranja: Python oz. poznavanje programskega jezika Python (podatkovni tipi, operatorji, for, while, if stavki, funkcije, errors, principi objektnega programiranja).\n",
    "\n",
    "### Ocenjevanje\n",
    "- **+ 20%** Domače naloge (dodatne točke) \n",
    "- **30%** Teoretičen del izpita\n",
    "- **70%** Praktičen del\n",
    "\n",
    "Meja za uspešno opravljen tečaj je 80%\n",
    "\n",
    "\n"
   ]
  },
  {
   "cell_type": "markdown",
   "metadata": {},
   "source": [
    "# Priprava okolja"
   ]
  },
  {
   "cell_type": "markdown",
   "metadata": {},
   "source": [
    "## Namestitev VirtualBox in OS\n",
    "\n",
    "- Prenesemo VitualBox -> https://www.virtualbox.org/\n",
    "- Prenesemo operacijski sistem Ubuntu -> https://www.ubuntu.com/download/desktop\n",
    "- Namestimo VirtualBox -> sledimo navdilom na zaslonu in sprejmemo privzete nastavitve\n",
    "- Odpremo VirtualBox\n",
    "    - Izberemo New\n",
    "    - Name, Type (Linux), Version (Ubuntu 64-bit) – vklop Intel VT-x or AMD-v v BIOS-u\n",
    "    - Memory size: priporočljivo med 4 in 8 GB, glede na količino RAMa v računalniku\n",
    "    - Hard Disk: Create a virtual hard disk now, VDI, Fixed size, 20-40GB\n",
    "    - Izberemo Create\n",
    "- Izberemo naš OS, desni klik, izberemo Nastavitve\n",
    "- System -> Processor Tab -> Procesors -> max. Zelenega\n",
    "- Display -> Screen -> Video Memory -> 80 MB, enable 3D acceleration\n",
    "- Dvokliknemo na naš virtualen OS\n",
    "- Izberemo start-up disk (naš Ubuntu sistem) -> Start\n",
    "- Sledimo namestitvi Ubuntu sistema\n",
    "- Install Ubuntu\n",
    "- Tipkovnica: po želji\n",
    "- Izberemo: Downloads updates while install Ubuntu -> Continue\n",
    "- Erase Disk and install Ubuntu -> Install Now -> Continue\n",
    "- Izberemo želene nastavitve sistema\n",
    "- Ponovni zagon"
   ]
  },
  {
   "cell_type": "markdown",
   "metadata": {},
   "source": [
    "# Learning the basics of the Unix shell"
   ]
  },
  {
   "cell_type": "markdown",
   "metadata": {},
   "source": [
    "### Dodatni viri\n",
    "\n",
    "- [Linux tutorial](https://ryanstutorials.net/linuxtutorial/)\n",
    "- [Learn the shell interactively](http://www.learnshell.org/)\n",
    "- [Brezplačen on-line tečaj: NDG Linux Unhatched](http://www.ict-academy.eu/sl/blog/brezplacen-on-line-tecaj-ndg-linux-unhatched-cisco-networking-academy)"
   ]
  },
  {
   "cell_type": "markdown",
   "metadata": {},
   "source": [
    "# Python in Linux\n",
    "\n",
    "## Zakaj Python?"
   ]
  },
  {
   "cell_type": "markdown",
   "metadata": {},
   "source": [
    "# Anaconda"
   ]
  },
  {
   "cell_type": "markdown",
   "metadata": {},
   "source": [
    "# Jupyter Notebooks"
   ]
  },
  {
   "cell_type": "markdown",
   "metadata": {},
   "source": [
    "## Starting the Jupyter Notebook Server\n",
    "\n",
    "`$ jupyter notebook`\n"
   ]
  },
  {
   "cell_type": "markdown",
   "metadata": {},
   "source": [
    "# Osnove"
   ]
  },
  {
   "cell_type": "markdown",
   "metadata": {},
   "source": [
    "**krepko**"
   ]
  },
  {
   "cell_type": "markdown",
   "metadata": {},
   "source": [
    "# Naslov1\n",
    "## Naslov2"
   ]
  },
  {
   "cell_type": "markdown",
   "metadata": {},
   "source": [
    "- seznam1\n",
    "     - seznam"
   ]
  },
  {
   "cell_type": "markdown",
   "metadata": {},
   "source": [
    "`mkdir nova mapa`"
   ]
  },
  {
   "cell_type": "markdown",
   "metadata": {},
   "source": [
    "\n",
    "```python\n",
    "print(\"dscds\")\n",
    "```"
   ]
  },
  {
   "cell_type": "code",
   "execution_count": 5,
   "metadata": {},
   "outputs": [],
   "source": [
    "x=[1,2,3]"
   ]
  },
  {
   "cell_type": "code",
   "execution_count": 6,
   "metadata": {},
   "outputs": [
    {
     "data": {
      "text/plain": [
       "[1, 2, 3]"
      ]
     },
     "execution_count": 6,
     "metadata": {},
     "output_type": "execute_result"
    }
   ],
   "source": [
    "x\n"
   ]
  },
  {
   "cell_type": "code",
   "execution_count": 7,
   "metadata": {},
   "outputs": [],
   "source": [
    "import numpy as np"
   ]
  },
  {
   "cell_type": "code",
   "execution_count": 11,
   "metadata": {},
   "outputs": [],
   "source": [
    "xx = np.array(33)\n"
   ]
  },
  {
   "cell_type": "code",
   "execution_count": 12,
   "metadata": {},
   "outputs": [
    {
     "data": {
      "text/plain": [
       "array(33)"
      ]
     },
     "execution_count": 12,
     "metadata": {},
     "output_type": "execute_result"
    }
   ],
   "source": [
    "xx\n"
   ]
  },
  {
   "cell_type": "markdown",
   "metadata": {},
   "source": [
    "# Magic commands"
   ]
  },
  {
   "cell_type": "code",
   "execution_count": null,
   "metadata": {},
   "outputs": [],
   "source": [
    "\n",
    "\n",
    "%lsmagic"
   ]
  },
  {
   "cell_type": "code",
   "execution_count": 14,
   "metadata": {},
   "outputs": [
    {
     "name": "stdout",
     "output_type": "stream",
     "text": [
      "CPU times: user 5 µs, sys: 1 µs, total: 6 µs\n",
      "Wall time: 9.06 µs\n"
     ]
    }
   ],
   "source": [
    "%time x = range(100)"
   ]
  },
  {
   "cell_type": "code",
   "execution_count": 18,
   "metadata": {},
   "outputs": [
    {
     "name": "stdout",
     "output_type": "stream",
     "text": [
      "6.63 µs ± 72.1 ns per loop (mean ± std. dev. of 7 runs, 100000 loops each)\n"
     ]
    }
   ],
   "source": [
    "%%timeit x = range(100)\n",
    "max(x)"
   ]
  },
  {
   "cell_type": "code",
   "execution_count": 35,
   "metadata": {},
   "outputs": [],
   "source": [
    "? range"
   ]
  },
  {
   "cell_type": "markdown",
   "metadata": {},
   "source": [
    "# Profiling\n"
   ]
  },
  {
   "cell_type": "code",
   "execution_count": 21,
   "metadata": {},
   "outputs": [
    {
     "data": {
      "text/plain": [
       "1.6449240667982423"
      ]
     },
     "execution_count": 21,
     "metadata": {},
     "output_type": "execute_result"
    }
   ],
   "source": [
    "n = 100000\n",
    "sum([1./i **2 for i in range(1,n)])"
   ]
  },
  {
   "cell_type": "code",
   "execution_count": 22,
   "metadata": {},
   "outputs": [
    {
     "name": "stdout",
     "output_type": "stream",
     "text": [
      "63.6 ms ± 1.05 ms per loop (mean ± std. dev. of 7 runs, 10 loops each)\n"
     ]
    }
   ],
   "source": [
    "%%timeit\n",
    "sum([1./i **2 for i in range(1,n)])"
   ]
  },
  {
   "cell_type": "code",
   "execution_count": 26,
   "metadata": {},
   "outputs": [
    {
     "name": "stdout",
     "output_type": "stream",
     "text": [
      "64.7 ms ± 355 µs per loop (mean ± std. dev. of 7 runs, 10 loops each)\n"
     ]
    }
   ],
   "source": [
    "%%timeit\n",
    "x=0\n",
    "for i in range(1,n):\n",
    "    x+= 1./ i**2"
   ]
  },
  {
   "cell_type": "code",
   "execution_count": 29,
   "metadata": {},
   "outputs": [],
   "source": [
    "%load_ext memory_profiler"
   ]
  },
  {
   "cell_type": "markdown",
   "metadata": {},
   "source": [
    "Iz Jupyter-ja direktno shraniš funkcijo v file:"
   ]
  },
  {
   "cell_type": "code",
   "execution_count": 30,
   "metadata": {},
   "outputs": [
    {
     "name": "stdout",
     "output_type": "stream",
     "text": [
      "Writing memscript.py\n"
     ]
    }
   ],
   "source": [
    "%%writefile memscript.py\n",
    "def my_func():\n",
    "    a = [1]*10000\n",
    "    b = [2]* 9000\n",
    "    del b\n",
    "    return a"
   ]
  },
  {
   "cell_type": "code",
   "execution_count": 34,
   "metadata": {},
   "outputs": [
    {
     "name": "stdout",
     "output_type": "stream",
     "text": [
      "\n",
      "\n",
      "*** Profile printout saved to text file mprof0. \n"
     ]
    }
   ],
   "source": [
    "from memscript import my_func\n",
    "%mprun -T mprof0 -f my_func my_func()"
   ]
  },
  {
   "cell_type": "markdown",
   "metadata": {},
   "source": [
    "[]# Uporabne strani\n",
    "\n",
    "- Stack Overflow\n",
    "- [kaggle](https://www.kaggle.com/datasets)\n",
    "- [Dataquest Blog](https://www.dataquest.io/blog/)\n",
    "- [Data Flair Blog](https://data-flair.training/blogs/)\n",
    "- [Towards Data Science](https://towardsdatascience.com/)\n",
    "- [DataCamp](https://www.datacamp.com/community/tutorials)"
   ]
  },
  {
   "cell_type": "markdown",
   "metadata": {},
   "source": [
    "[Python Data Science Handbook](https://github.com/jakevdp/PythonDataScienceHandbook)"
   ]
  }
 ],
 "metadata": {
  "kernelspec": {
   "display_name": "Python 3",
   "language": "python",
   "name": "python3"
  },
  "language_info": {
   "codemirror_mode": {
    "name": "ipython",
    "version": 3
   },
   "file_extension": ".py",
   "mimetype": "text/x-python",
   "name": "python",
   "nbconvert_exporter": "python",
   "pygments_lexer": "ipython3",
   "version": "3.7.3"
  }
 },
 "nbformat": 4,
 "nbformat_minor": 2
}
