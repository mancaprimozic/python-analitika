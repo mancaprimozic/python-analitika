{
 "cells": [
  {
   "cell_type": "markdown",
   "metadata": {},
   "source": [
    "# NumPy"
   ]
  },
  {
   "cell_type": "markdown",
   "metadata": {},
   "source": [
    "## Understanding Data Types in Python"
   ]
  },
  {
   "cell_type": "markdown",
   "metadata": {},
   "source": [
    "\n",
    "```C\n",
    "/* C code */\n",
    "int result = 0;\n",
    "for(int i=0; i<100; i++){\n",
    "    result += i;\n",
    "}\n",
    "```\n",
    "\n",
    "While in Python the equivalent operation could be written this way:\n",
    "```python\n",
    "# Python code\n",
    "result = 0\n",
    "for i in range(100):\n",
    "    result += i\n",
    "```\n"
   ]
  },
  {
   "cell_type": "code",
   "execution_count": 1,
   "metadata": {},
   "outputs": [],
   "source": [
    "x = 4 "
   ]
  },
  {
   "cell_type": "code",
   "execution_count": 2,
   "metadata": {},
   "outputs": [],
   "source": [
    "x = 'four'"
   ]
  },
  {
   "cell_type": "raw",
   "metadata": {},
   "source": [
    "x = True"
   ]
  },
  {
   "cell_type": "markdown",
   "metadata": {},
   "source": [
    "```C\n",
    "/* C code */\n",
    "int x = 4;\n",
    "x = \"four\";  // FAILS\n",
    "```"
   ]
  },
  {
   "cell_type": "markdown",
   "metadata": {},
   "source": [
    "### A Python Integer Is More Than Just an Integer\n",
    "\n",
    "```C\n",
    "struct _longobject {\n",
    "    long ob_refcnt;\n",
    "    PyTypeObject *ob_type;\n",
    "    size_t ob_size;\n",
    "    long ob_digit[1];\n",
    "};\n",
    "```\n",
    "\n",
    "A single integer in Python 3.4 actually contains four pieces:\n",
    "- ob_refcnt, a reference count that helps Python silently handle memory allocation and deallocation\n",
    "- ob_type, which encodes the type of the variable\n",
    "- ob_size, which specifies the size of the following data members\n",
    "- ob_digit, which contains the actual integer value that we expect the Python variable to represent.\n",
    "\n",
    "<img src=\"https://jakevdp.github.io/PythonDataScienceHandbook/figures/cint_vs_pyint.png\" alt=\"Integer Memory Layout\">"
   ]
  },
  {
   "cell_type": "markdown",
   "metadata": {},
   "source": [
    "### A Python List Is More Than Just a List\n"
   ]
  },
  {
   "cell_type": "code",
   "execution_count": 6,
   "metadata": {},
   "outputs": [
    {
     "data": {
      "text/plain": [
       "[0, 1, 2, 3, 4, 5, 6, 7, 8, 9]"
      ]
     },
     "execution_count": 6,
     "metadata": {},
     "output_type": "execute_result"
    }
   ],
   "source": [
    "l = list(range(10))\n",
    "l"
   ]
  },
  {
   "cell_type": "code",
   "execution_count": 7,
   "metadata": {},
   "outputs": [
    {
     "data": {
      "text/plain": [
       "list"
      ]
     },
     "execution_count": 7,
     "metadata": {},
     "output_type": "execute_result"
    }
   ],
   "source": [
    "type(l)"
   ]
  },
  {
   "cell_type": "code",
   "execution_count": 8,
   "metadata": {},
   "outputs": [
    {
     "data": {
      "text/plain": [
       "['0', '1', '2', '3', '4', '5', '6', '7', '8', '9']"
      ]
     },
     "execution_count": 8,
     "metadata": {},
     "output_type": "execute_result"
    }
   ],
   "source": [
    "l2 = [str(c) for c in l]\n",
    "l2"
   ]
  },
  {
   "cell_type": "markdown",
   "metadata": {},
   "source": [
    "List ima lahko elemente, ki so raazličnih tipov:\n",
    "Za vsak element se shrani en kup dodatnih informacij zraven:"
   ]
  },
  {
   "cell_type": "code",
   "execution_count": 9,
   "metadata": {},
   "outputs": [
    {
     "data": {
      "text/plain": [
       "[1, 'kk', True]"
      ]
     },
     "execution_count": 9,
     "metadata": {},
     "output_type": "execute_result"
    }
   ],
   "source": [
    "l3 = [1, \"kk\", True]\n",
    "l3"
   ]
  },
  {
   "cell_type": "code",
   "execution_count": null,
   "metadata": {},
   "outputs": [],
   "source": []
  },
  {
   "cell_type": "code",
   "execution_count": null,
   "metadata": {},
   "outputs": [],
   "source": []
  },
  {
   "cell_type": "markdown",
   "metadata": {},
   "source": [
    "Numpy naredi en objekt, ki samo enkrat shrani podatke, ne za vsak element posebej, zato je bolj učinkovit in hitrejši. \n",
    "Slabost tega je, da v numpy lahko shranjujemo samo eleemente istega tipa, ne morejo biti v listu elementi različnega tipa."
   ]
  },
  {
   "cell_type": "markdown",
   "metadata": {},
   "source": [
    "\n",
    "<img src=\"https://jakevdp.github.io/PythonDataScienceHandbook/figures/array_vs_list.png\" alt=\"Array Memory Layout\">"
   ]
  },
  {
   "cell_type": "markdown",
   "metadata": {},
   "source": [
    "### Fixed-Type Arrays in Python\n"
   ]
  },
  {
   "cell_type": "code",
   "execution_count": null,
   "metadata": {},
   "outputs": [],
   "source": []
  },
  {
   "cell_type": "code",
   "execution_count": null,
   "metadata": {},
   "outputs": [],
   "source": []
  },
  {
   "cell_type": "markdown",
   "metadata": {},
   "source": [
    "# vektorizacija"
   ]
  },
  {
   "cell_type": "markdown",
   "metadata": {},
   "source": [
    "Kako pohitrimo kodo. pri pythonu nimamo vpogleda v memory, lahko pa hitreje pišemo program. Pri C ju je ravno obratno, več časa porabiš za pisanje, imaš pa dober vpogled v program. Numpy nam nudi hitro pisanje (ker smo v pythonu) in vpogled v memory. To je vektorizacija."
   ]
  },
  {
   "cell_type": "markdown",
   "metadata": {},
   "source": [
    "## How Vectorization Makes Code Faster\n",
    "\n",
    "\n",
    "\n",
    "<p><img alt=\"Translating Python code to bytecode\" src=\"https://s3.amazonaws.com/dq-content/289/bytecode.svg\"></p>\n",
    "\n",
    "\n",
    "<table>\n",
    "<thead>\n",
    "<tr>\n",
    "<th>Language Type</th>\n",
    "<th>Example</th>\n",
    "<th>Time taken to write program</th>\n",
    "<th>Control over program performance</th>\n",
    "</tr>\n",
    "</thead>\n",
    "<tbody>\n",
    "<tr>\n",
    "<td>High-Level</td>\n",
    "<td>Python</td>\n",
    "<td>Low</td>\n",
    "<td>Low</td>\n",
    "</tr>\n",
    "<tr>\n",
    "<td>Low-Level</td>\n",
    "<td>C</td>\n",
    "<td>High</td>\n",
    "<td>High</td>\n",
    "</tr>\n",
    "</tbody>\n",
    "</table>\n",
    "\n"
   ]
  },
  {
   "cell_type": "markdown",
   "metadata": {},
   "source": [
    "<p><img alt=\"For loop to sum rows\" src=\"https://s3.amazonaws.com/dq-content/289/for_loop.svg\"></p>"
   ]
  },
  {
   "cell_type": "markdown",
   "metadata": {},
   "source": [
    "PRIMER: Seštevamo elemente v listu listov. Python si za vsako zanko vzame čas, sešteva element po element."
   ]
  },
  {
   "cell_type": "code",
   "execution_count": 13,
   "metadata": {},
   "outputs": [
    {
     "name": "stdout",
     "output_type": "stream",
     "text": [
      "[11, 4, 11]\n"
     ]
    }
   ],
   "source": [
    "my_numbers = [[6,5],[1,3],[5,6]]\n",
    "sums = []\n",
    "for row in my_numbers:\n",
    "    row_sum= row[0] + row[1]\n",
    "    sums.append(row_sum)\n",
    "    \n",
    "print(sums)"
   ]
  },
  {
   "cell_type": "markdown",
   "metadata": {},
   "source": [
    "pri vektorizcaiji pa vse opareacije lahko izvajamo hkrati (ne le eno po eno). SIMD je okrajšava za vektorizacijo\n",
    "Vektorizacija je že implementirana v numpy knjižnico, zato je numpy veliko hitrejši od same python kode.\n",
    "NUMPY pomeni numerical pyhoon, uporablja se za numerično računanje v pythonu.\n",
    "Numpy je osnova za ostale knjižnce (pandas npr. recimo temelji na numpy-u)."
   ]
  },
  {
   "cell_type": "markdown",
   "metadata": {},
   "source": [
    "\n",
    "<p><img alt=\"Unvectorized operation\" src=\"https://s3.amazonaws.com/dq-content/289/unvectorized.svg\"></p>"
   ]
  },
  {
   "cell_type": "code",
   "execution_count": null,
   "metadata": {},
   "outputs": [],
   "source": []
  },
  {
   "cell_type": "code",
   "execution_count": null,
   "metadata": {},
   "outputs": [],
   "source": []
  },
  {
   "cell_type": "markdown",
   "metadata": {},
   "source": [
    "<p><img alt=\"Vectorized operation\" src=\"https://s3.amazonaws.com/dq-content/289/vectorized.svg\"></p>\n",
    "\n"
   ]
  },
  {
   "cell_type": "markdown",
   "metadata": {},
   "source": [
    "## Numpy"
   ]
  },
  {
   "cell_type": "markdown",
   "metadata": {},
   "source": [
    "Numpy vseuje orodje za linerno algebro, branje, generiranje random števil,...\n",
    "generiran je bil za obdelovanje velikega števila podatkov. operacije so več desetkrat hitrejše kot v samem pythonu in porabije veliko manj RAMa.\n",
    "ima zelo dobro dokumentacijo."
   ]
  },
  {
   "cell_type": "code",
   "execution_count": 16,
   "metadata": {},
   "outputs": [],
   "source": [
    "#najprej moramo uvoziti numpy knjižnico, da jo lahko uporabljamo\n",
    "import numpy as np"
   ]
  },
  {
   "cell_type": "markdown",
   "metadata": {},
   "source": [
    "ndarray: večdimenzionalni array\n"
   ]
  },
  {
   "cell_type": "markdown",
   "metadata": {},
   "source": [
    "### NumPy ndarrays"
   ]
  },
  {
   "cell_type": "markdown",
   "metadata": {},
   "source": [
    "\n",
    "\n",
    "<p><img alt=\"Dimensional Arrays\" src=\"https://s3.amazonaws.com/dq-content/289/dimensional_arrays.svg\"></p>\n",
    "\n"
   ]
  },
  {
   "cell_type": "markdown",
   "metadata": {},
   "source": [
    "#### Create an array\n",
    "\n"
   ]
  },
  {
   "cell_type": "code",
   "execution_count": 19,
   "metadata": {},
   "outputs": [
    {
     "name": "stdout",
     "output_type": "stream",
     "text": [
      "[ 6.   7.4  8.  56.  77. ]\n"
     ]
    }
   ],
   "source": [
    "#naredimo array\n",
    "list1 = [6,7.4,8,56,77]\n",
    "\n",
    "#spremenimo v numpy array\n",
    "arr1 = np.array(list1)\n",
    "print(arr1)"
   ]
  },
  {
   "cell_type": "markdown",
   "metadata": {},
   "source": [
    "vsi elementi ndarraya morajo bii enakega tipa. Če imamo npr. integer in en decimal, bo vse spremenil v decimal."
   ]
  },
  {
   "cell_type": "code",
   "execution_count": 21,
   "metadata": {},
   "outputs": [
    {
     "data": {
      "text/plain": [
       "list"
      ]
     },
     "execution_count": 21,
     "metadata": {},
     "output_type": "execute_result"
    }
   ],
   "source": [
    "type(list1)"
   ]
  },
  {
   "cell_type": "code",
   "execution_count": 22,
   "metadata": {},
   "outputs": [
    {
     "data": {
      "text/plain": [
       "numpy.ndarray"
      ]
     },
     "execution_count": 22,
     "metadata": {},
     "output_type": "execute_result"
    }
   ],
   "source": [
    "type(arr1)"
   ]
  },
  {
   "cell_type": "code",
   "execution_count": 23,
   "metadata": {},
   "outputs": [
    {
     "name": "stdout",
     "output_type": "stream",
     "text": [
      "[[2.  4.  5.6]\n",
      " [3.  7.  9. ]]\n"
     ]
    }
   ],
   "source": [
    "#večdimenzionalni ndarray\n",
    "data2 = [[2,4,5.6],[3,7,9]]\n",
    "arr2 = np.array(data2)\n",
    "print(arr2)"
   ]
  },
  {
   "cell_type": "markdown",
   "metadata": {},
   "source": [
    "imamo veliko načinov za definiranje novih ndarrayev:"
   ]
  },
  {
   "cell_type": "code",
   "execution_count": 25,
   "metadata": {},
   "outputs": [
    {
     "data": {
      "text/plain": [
       "array([[1., 1., 1., 1., 1.],\n",
       "       [1., 1., 1., 1., 1.],\n",
       "       [1., 1., 1., 1., 1.]])"
      ]
     },
     "execution_count": 25,
     "metadata": {},
     "output_type": "execute_result"
    }
   ],
   "source": [
    "#ones - naredi matriko enic velikosti (n,m)\n",
    "np.ones((3,5))"
   ]
  },
  {
   "cell_type": "code",
   "execution_count": 27,
   "metadata": {},
   "outputs": [
    {
     "data": {
      "text/plain": [
       "array([ 0,  4,  8, 12, 16])"
      ]
     },
     "execution_count": 27,
     "metadata": {},
     "output_type": "execute_result"
    }
   ],
   "source": [
    "#Arange: podobna je funkciji arrange v pythonu\n",
    "np.arange(0,20,4)"
   ]
  },
  {
   "cell_type": "code",
   "execution_count": 30,
   "metadata": {},
   "outputs": [
    {
     "data": {
      "text/plain": [
       "array([[0., 0., 0., 0., 0.],\n",
       "       [0., 0., 0., 0., 0.],\n",
       "       [0., 0., 0., 0., 0.]])"
      ]
     },
     "execution_count": 30,
     "metadata": {},
     "output_type": "execute_result"
    }
   ],
   "source": [
    "# zeros\n",
    "#enodimenzionalni array:\n",
    "np.zeros((10)) \n",
    "#dvodimenzionalni ndarray\n",
    "np.zeros((3,5) )"
   ]
  },
  {
   "cell_type": "code",
   "execution_count": 34,
   "metadata": {},
   "outputs": [
    {
     "data": {
      "text/plain": [
       "array([0.  , 0.25, 0.5 , 0.75, 1.  ])"
      ]
     },
     "execution_count": 34,
     "metadata": {},
     "output_type": "execute_result"
    }
   ],
   "source": [
    "#linspace : definiramo interval in povemo na koliko delov želimo, da ga razdeli\n",
    "np.linspace(0,1,5)"
   ]
  },
  {
   "cell_type": "code",
   "execution_count": 40,
   "metadata": {},
   "outputs": [
    {
     "data": {
      "text/plain": [
       "array([[5, 3, 7, 2],\n",
       "       [9, 4, 2, 5],\n",
       "       [4, 4, 6, 0],\n",
       "       [9, 8, 0, 4]])"
      ]
     },
     "execution_count": 40,
     "metadata": {},
     "output_type": "execute_result"
    }
   ],
   "source": [
    "#random: števla od 1 do 10, velikost matrike je 4x4\n",
    "np.random.randint(0,10,(4,4))"
   ]
  },
  {
   "cell_type": "code",
   "execution_count": 43,
   "metadata": {},
   "outputs": [
    {
     "data": {
      "text/plain": [
       "array([[0.94205927, 0.04114966, 0.29969938],\n",
       "       [0.76715343, 0.70233411, 0.68278897],\n",
       "       [0.47694932, 0.87846478, 0.55794307]])"
      ]
     },
     "execution_count": 43,
     "metadata": {},
     "output_type": "execute_result"
    }
   ],
   "source": [
    "#random.random: random števila med 0 in 1, velikosti 3 x3\n",
    "np.random.random((3,3))"
   ]
  },
  {
   "cell_type": "code",
   "execution_count": 44,
   "metadata": {},
   "outputs": [
    {
     "data": {
      "text/plain": [
       "array([[1., 0., 0., 0.],\n",
       "       [0., 1., 0., 0.],\n",
       "       [0., 0., 1., 0.],\n",
       "       [0., 0., 0., 1.]])"
      ]
     },
     "execution_count": 44,
     "metadata": {},
     "output_type": "execute_result"
    }
   ],
   "source": [
    "#eye: po diagonali da enice\n",
    "np.eye(4)"
   ]
  },
  {
   "cell_type": "code",
   "execution_count": 45,
   "metadata": {},
   "outputs": [
    {
     "data": {
      "text/plain": [
       "array([[7, 7, 7, 7, 7],\n",
       "       [7, 7, 7, 7, 7]])"
      ]
     },
     "execution_count": 45,
     "metadata": {},
     "output_type": "execute_result"
    }
   ],
   "source": [
    "#full: zgenerira velikost matrike s konstantno vrednostjo\n",
    "np.full((2,5),7)"
   ]
  },
  {
   "cell_type": "code",
   "execution_count": 49,
   "metadata": {},
   "outputs": [
    {
     "data": {
      "text/plain": [
       "array([[1., 0., 0., 0.],\n",
       "       [0., 1., 0., 0.],\n",
       "       [0., 0., 1., 0.],\n",
       "       [0., 0., 0., 1.]])"
      ]
     },
     "execution_count": 49,
     "metadata": {},
     "output_type": "execute_result"
    }
   ],
   "source": [
    "#empty: če ima kje shranjeno matriko te velikosti, vrne vrednosti, \n",
    "#ki so trenutno v tej matriki, če nima, vrne enice po diagonali\n",
    "np.empty((4,4))"
   ]
  },
  {
   "cell_type": "code",
   "execution_count": 50,
   "metadata": {},
   "outputs": [
    {
     "data": {
      "text/plain": [
       "array([[0.94205927, 0.04114966, 0.29969938],\n",
       "       [0.76715343, 0.70233411, 0.68278897],\n",
       "       [0.47694932, 0.87846478, 0.55794307]])"
      ]
     },
     "execution_count": 50,
     "metadata": {},
     "output_type": "execute_result"
    }
   ],
   "source": [
    "np.empty((3,3))"
   ]
  },
  {
   "cell_type": "code",
   "execution_count": null,
   "metadata": {},
   "outputs": [],
   "source": []
  },
  {
   "cell_type": "markdown",
   "metadata": {},
   "source": [
    "#### Understanding NumPy ndarrays"
   ]
  },
  {
   "cell_type": "code",
   "execution_count": 56,
   "metadata": {},
   "outputs": [
    {
     "name": "stdout",
     "output_type": "stream",
     "text": [
      "[[1 9 9 9 4 1 0]\n",
      " [7 2 5 9 4 2 0]\n",
      " [7 5 4 0 7 8 9]\n",
      " [8 7 9 2 6 4 0]]\n"
     ]
    }
   ],
   "source": [
    "data3 = np.random.randint(0,10,(4,7))\n",
    "print(data3)"
   ]
  },
  {
   "cell_type": "code",
   "execution_count": 53,
   "metadata": {},
   "outputs": [
    {
     "data": {
      "text/plain": [
       "2"
      ]
     },
     "execution_count": 53,
     "metadata": {},
     "output_type": "execute_result"
    }
   ],
   "source": [
    "#ndim: število dimenzij nd arraya\n",
    "data3.ndim"
   ]
  },
  {
   "cell_type": "code",
   "execution_count": 54,
   "metadata": {},
   "outputs": [
    {
     "data": {
      "text/plain": [
       "(4, 7)"
      ]
     },
     "execution_count": 54,
     "metadata": {},
     "output_type": "execute_result"
    }
   ],
   "source": [
    "#shape: pove veikost in dimenzijo (= toliko kot je števil v tuple-u)\n",
    "data3.shape"
   ]
  },
  {
   "cell_type": "code",
   "execution_count": 59,
   "metadata": {},
   "outputs": [
    {
     "data": {
      "text/plain": [
       "28"
      ]
     },
     "execution_count": 59,
     "metadata": {},
     "output_type": "execute_result"
    }
   ],
   "source": [
    "#size: število vseh elementov v arrayu\n",
    "data3.size"
   ]
  },
  {
   "cell_type": "code",
   "execution_count": 63,
   "metadata": {},
   "outputs": [
    {
     "data": {
      "text/plain": [
       "8"
      ]
     },
     "execution_count": 63,
     "metadata": {},
     "output_type": "execute_result"
    }
   ],
   "source": [
    "#itemsize: pove koliko prostora zavazem ene elemnt v pomnilniku\n",
    "data3.itemsize"
   ]
  },
  {
   "cell_type": "code",
   "execution_count": 62,
   "metadata": {},
   "outputs": [
    {
     "data": {
      "text/plain": [
       "224"
      ]
     },
     "execution_count": 62,
     "metadata": {},
     "output_type": "execute_result"
    }
   ],
   "source": [
    "#število bytov, ki jih zavzame array\n",
    "data3.nbytes"
   ]
  },
  {
   "cell_type": "markdown",
   "metadata": {},
   "source": [
    "#### Selecting and Slicing Rows and Items from ndarrays\n",
    "\n",
    "<p><img alt=\"Selecting rows from a 2D ndarray\" src=\"https://s3.amazonaws.com/dq-content/289/selection_rows.svg\"></p>\n",
    "\n",
    "\n",
    "\n",
    "This is how we select a single item from a 2D ndarray:\n",
    "\n",
    "<p><img alt=\"Selecting a single item from a 2D ndarray\" src=\"https://s3.amazonaws.com/dq-content/289/selection_item.svg\"></p>\n"
   ]
  },
  {
   "cell_type": "code",
   "execution_count": null,
   "metadata": {},
   "outputs": [],
   "source": [
    "# ndarray[n, m]: izberemo elemnt v n-ti vrstici in m-tem stolpcu"
   ]
  },
  {
   "cell_type": "markdown",
   "metadata": {},
   "source": [
    "Načini izbiranja elementov:\n",
    "- int 5\n",
    "- slice 0:5, 5:\n",
    "- :\n",
    "- [1,5,8]\n",
    "- boolean array"
   ]
  },
  {
   "cell_type": "code",
   "execution_count": 66,
   "metadata": {},
   "outputs": [
    {
     "data": {
      "text/plain": [
       "array([[8, 9, 7, 2, 6],\n",
       "       [5, 9, 0, 7, 5],\n",
       "       [3, 8, 0, 6, 1],\n",
       "       [7, 9, 6, 0, 4],\n",
       "       [0, 3, 3, 5, 2]])"
      ]
     },
     "execution_count": 66,
     "metadata": {},
     "output_type": "execute_result"
    }
   ],
   "source": [
    "test_array = np.random.randint(10, size = (5,5))\n",
    "test_array"
   ]
  },
  {
   "cell_type": "code",
   "execution_count": 77,
   "metadata": {},
   "outputs": [
    {
     "data": {
      "text/plain": [
       "array([8, 9, 7, 2, 6])"
      ]
     },
     "execution_count": 77,
     "metadata": {},
     "output_type": "execute_result"
    }
   ],
   "source": [
    "#izberemo prvo vrstico\n",
    "first_row = test_array[0]\n",
    "first_row"
   ]
  },
  {
   "cell_type": "code",
   "execution_count": 78,
   "metadata": {},
   "outputs": [
    {
     "data": {
      "text/plain": [
       "array([0, 3, 3, 5, 2])"
      ]
     },
     "execution_count": 78,
     "metadata": {},
     "output_type": "execute_result"
    }
   ],
   "source": [
    "#izberemo zadnjo vrstico\n",
    "last_row = test_array[-1]\n",
    "last_row"
   ]
  },
  {
   "cell_type": "code",
   "execution_count": 82,
   "metadata": {},
   "outputs": [
    {
     "data": {
      "text/plain": [
       "array([[5, 9, 0, 7, 5]])"
      ]
     },
     "execution_count": 82,
     "metadata": {},
     "output_type": "execute_result"
    }
   ],
   "source": [
    "# 2. in 3. vrstica\n",
    "test_array[[1,2]]\n",
    "test_array[1:2]"
   ]
  },
  {
   "cell_type": "code",
   "execution_count": 83,
   "metadata": {},
   "outputs": [
    {
     "data": {
      "text/plain": [
       "array([[5, 9, 0, 7, 5],\n",
       "       [3, 8, 0, 6, 1],\n",
       "       [7, 9, 6, 0, 4],\n",
       "       [0, 3, 3, 5, 2]])"
      ]
     },
     "execution_count": 83,
     "metadata": {},
     "output_type": "execute_result"
    }
   ],
   "source": [
    "#vrstica 2 do konca\n",
    "test_array[1:]"
   ]
  },
  {
   "cell_type": "raw",
   "metadata": {},
   "source": []
  },
  {
   "cell_type": "markdown",
   "metadata": {},
   "source": [
    "#### Selecting Columns and Custom Slicing ndarrays\n",
    "\n",
    "Let's continue by learning how to select one or more columns of data:\n",
    "\n",
    "<p><img alt=\"Selecting columns from a 2D ndarray\" src=\"https://s3.amazonaws.com/dq-content/289/selection_columns.svg\"></p>\n",
    "\n",
    "\n",
    "\n",
    "If we wanted to select a partial 1D slice of a row or column, we can combine a single value for one dimension with a slice for the other dimension:\n",
    "\n",
    "<p><img alt=\"Selecting partial 1D slices from a 2D ndarray\" src=\"https://s3.amazonaws.com/dq-content/289/selection_1darray.svg\"></p>\n",
    "\n",
    "Lastly, if we wanted to select a 2D slice, we can use slices for both dimensions:\n",
    "\n",
    "<p><img alt=\"Selecting a 2D slice from a 2D ndarray\" src=\"https://s3.amazonaws.com/dq-content/289/selection_2darray.svg\"></p>\n",
    "\n"
   ]
  },
  {
   "cell_type": "code",
   "execution_count": 84,
   "metadata": {},
   "outputs": [
    {
     "data": {
      "text/plain": [
       "array([[1, 2, 4, 7, 7],\n",
       "       [2, 7, 4, 5, 3],\n",
       "       [6, 8, 6, 5, 3],\n",
       "       [5, 4, 4, 7, 9],\n",
       "       [0, 0, 6, 8, 7]])"
      ]
     },
     "execution_count": 84,
     "metadata": {},
     "output_type": "execute_result"
    }
   ],
   "source": [
    "test_array2 = np.random.randint(10, size = (5,5))\n",
    "test_array2"
   ]
  },
  {
   "cell_type": "code",
   "execution_count": 85,
   "metadata": {},
   "outputs": [
    {
     "data": {
      "text/plain": [
       "array([2, 7, 8, 4, 0])"
      ]
     },
     "execution_count": 85,
     "metadata": {},
     "output_type": "execute_result"
    }
   ],
   "source": [
    "#stolpec 2\n",
    "test_array2[:,1]"
   ]
  },
  {
   "cell_type": "code",
   "execution_count": 87,
   "metadata": {},
   "outputs": [
    {
     "data": {
      "text/plain": [
       "array([[1, 2],\n",
       "       [2, 7],\n",
       "       [6, 8],\n",
       "       [5, 4],\n",
       "       [0, 0]])"
      ]
     },
     "execution_count": 87,
     "metadata": {},
     "output_type": "execute_result"
    }
   ],
   "source": [
    "# prvi in drugi stolpec\n",
    "test_array2[:, 0:2]\n",
    "test_array2[:, :2]"
   ]
  },
  {
   "cell_type": "code",
   "execution_count": 89,
   "metadata": {},
   "outputs": [
    {
     "data": {
      "text/plain": [
       "array([[2, 7, 7],\n",
       "       [7, 5, 3],\n",
       "       [8, 5, 3],\n",
       "       [4, 7, 9],\n",
       "       [0, 8, 7]])"
      ]
     },
     "execution_count": 89,
     "metadata": {},
     "output_type": "execute_result"
    }
   ],
   "source": [
    "# stolpec 2,4,5\n",
    "test_array2[:, [1,3,4]]"
   ]
  },
  {
   "cell_type": "code",
   "execution_count": 94,
   "metadata": {},
   "outputs": [
    {
     "data": {
      "text/plain": [
       "array([8, 6])"
      ]
     },
     "execution_count": 94,
     "metadata": {},
     "output_type": "execute_result"
    }
   ],
   "source": [
    "#vrstica 3, stolpec elementi 2 do 4\n",
    "test_array2[2, 1:3]"
   ]
  },
  {
   "cell_type": "code",
   "execution_count": null,
   "metadata": {},
   "outputs": [],
   "source": [
    "#elemente v vrstici od 1???\n",
    "test_array2[]"
   ]
  },
  {
   "cell_type": "markdown",
   "metadata": {},
   "source": [
    "#### Modify values in ndarray\n",
    "\n"
   ]
  },
  {
   "cell_type": "code",
   "execution_count": 95,
   "metadata": {},
   "outputs": [
    {
     "data": {
      "text/plain": [
       "array([[1, 2, 4, 7, 7],\n",
       "       [2, 7, 4, 5, 3],\n",
       "       [6, 8, 6, 5, 3],\n",
       "       [5, 4, 4, 7, 9],\n",
       "       [0, 0, 6, 8, 7]])"
      ]
     },
     "execution_count": 95,
     "metadata": {},
     "output_type": "execute_result"
    }
   ],
   "source": [
    "test_array2"
   ]
  },
  {
   "cell_type": "code",
   "execution_count": 97,
   "metadata": {},
   "outputs": [
    {
     "data": {
      "text/plain": [
       "array([[  1,   2,   4,   7,   7],\n",
       "       [  2, 125,   4,   5,   3],\n",
       "       [  6,   8,   6,   5,   3],\n",
       "       [  5,   4,   4,   7,   9],\n",
       "       [  0,   0,   6,   8,   7]])"
      ]
     },
     "execution_count": 97,
     "metadata": {},
     "output_type": "execute_result"
    }
   ],
   "source": [
    "# spremenimo element na mestu (1,1)\n",
    "test_array2[1,1] = 125\n",
    "test_array2"
   ]
  },
  {
   "cell_type": "code",
   "execution_count": 102,
   "metadata": {},
   "outputs": [
    {
     "data": {
      "text/plain": [
       "array([[  1,  16,   4,   7,   7],\n",
       "       [  2, 125,   4,   5,   3],\n",
       "       [  6,   8,   6,   5,   3],\n",
       "       [  5,   4,   4,   7,   9],\n",
       "       [  0,   0,   6,   8,   7]])"
      ]
     },
     "execution_count": 102,
     "metadata": {},
     "output_type": "execute_result"
    }
   ],
   "source": [
    "#PAZI: ker imamo array integerjev, mu bo, če mu spremenimo en element v decimal, odrezal decimalna mesta\n",
    "#numpy array ima samo en fiksni tip, ki ga določimo ob generiranju arraya\n",
    "test_array2[0,1] = 16.544\n",
    "test_array2"
   ]
  },
  {
   "cell_type": "code",
   "execution_count": null,
   "metadata": {},
   "outputs": [],
   "source": []
  },
  {
   "cell_type": "markdown",
   "metadata": {},
   "source": [
    "#### Datatypes\n",
    "\n",
    "[Več o datatypes](https://docs.scipy.org/doc/numpy/reference/arrays.dtypes.html)\n",
    "\n",
    "[List of scalars](https://docs.scipy.org/doc/numpy/reference/arrays.scalars.html#arrays-scalars-built-in)"
   ]
  },
  {
   "cell_type": "code",
   "execution_count": 101,
   "metadata": {},
   "outputs": [],
   "source": [
    "#preberi si o datatipih numpy"
   ]
  },
  {
   "cell_type": "code",
   "execution_count": 103,
   "metadata": {},
   "outputs": [
    {
     "name": "stdout",
     "output_type": "stream",
     "text": [
      "int64\n"
     ]
    }
   ],
   "source": [
    "x = np.array([1,2])\n",
    "print(x.dtype) #dtype nam pove, kateri numpy type je uporabljen"
   ]
  },
  {
   "cell_type": "code",
   "execution_count": 104,
   "metadata": {},
   "outputs": [
    {
     "name": "stdout",
     "output_type": "stream",
     "text": [
      "float64\n"
     ]
    }
   ],
   "source": [
    "x = np.array([1.0,2.6])\n",
    "print(x.dtype)"
   ]
  },
  {
   "cell_type": "code",
   "execution_count": 105,
   "metadata": {},
   "outputs": [
    {
     "data": {
      "text/plain": [
       "array([0., 0., 0., 0., 0., 0., 0., 0., 0., 0.])"
      ]
     },
     "execution_count": 105,
     "metadata": {},
     "output_type": "execute_result"
    }
   ],
   "source": [
    "np.zeros(10) #ndefault aredi float"
   ]
  },
  {
   "cell_type": "code",
   "execution_count": 108,
   "metadata": {},
   "outputs": [
    {
     "data": {
      "text/plain": [
       "array([0, 0, 0, 0, 0, 0, 0, 0, 0, 0], dtype=int16)"
      ]
     },
     "execution_count": 108,
     "metadata": {},
     "output_type": "execute_result"
    }
   ],
   "source": [
    "#definiramo podatkovni tip elementov v arrayu\n",
    "np.zeros(10, dtype = np.int16)\n",
    "np.zeros(10, dtype= 'int16')"
   ]
  },
  {
   "cell_type": "code",
   "execution_count": null,
   "metadata": {},
   "outputs": [],
   "source": []
  },
  {
   "cell_type": "code",
   "execution_count": null,
   "metadata": {},
   "outputs": [],
   "source": []
  },
  {
   "cell_type": "markdown",
   "metadata": {},
   "source": [
    "<div class=\"text_cell_render border-box-sizing rendered_html\">\n",
    "<table>\n",
    "<thead><tr>\n",
    "<th>Data type</th>\n",
    "<th>Description</th>\n",
    "</tr>\n",
    "</thead>\n",
    "<tbody>\n",
    "<tr>\n",
    "<td><code>bool_</code></td>\n",
    "<td>Boolean (True or False) stored as a byte</td>\n",
    "</tr>\n",
    "<tr>\n",
    "<td><code>int_</code></td>\n",
    "<td>Default integer type (same as C <code>long</code>; normally either <code>int64</code> or <code>int32</code>)</td>\n",
    "</tr>\n",
    "<tr>\n",
    "<td><code>intc</code></td>\n",
    "<td>Identical to C <code>int</code> (normally <code>int32</code> or <code>int64</code>)</td>\n",
    "</tr>\n",
    "<tr>\n",
    "<td><code>intp</code></td>\n",
    "<td>Integer used for indexing (same as C <code>ssize_t</code>; normally either <code>int32</code> or <code>int64</code>)</td>\n",
    "</tr>\n",
    "<tr>\n",
    "<td><code>int8</code></td>\n",
    "<td>Byte (-128 to 127)</td>\n",
    "</tr>\n",
    "<tr>\n",
    "<td><code>int16</code></td>\n",
    "<td>Integer (-32768 to 32767)</td>\n",
    "</tr>\n",
    "<tr>\n",
    "<td><code>int32</code></td>\n",
    "<td>Integer (-2147483648 to 2147483647)</td>\n",
    "</tr>\n",
    "<tr>\n",
    "<td><code>int64</code></td>\n",
    "<td>Integer (-9223372036854775808 to 9223372036854775807)</td>\n",
    "</tr>\n",
    "<tr>\n",
    "<td><code>uint8</code></td>\n",
    "<td>Unsigned integer (0 to 255)</td>\n",
    "</tr>\n",
    "<tr>\n",
    "<td><code>uint16</code></td>\n",
    "<td>Unsigned integer (0 to 65535)</td>\n",
    "</tr>\n",
    "<tr>\n",
    "<td><code>uint32</code></td>\n",
    "<td>Unsigned integer (0 to 4294967295)</td>\n",
    "</tr>\n",
    "<tr>\n",
    "<td><code>uint64</code></td>\n",
    "<td>Unsigned integer (0 to 18446744073709551615)</td>\n",
    "</tr>\n",
    "<tr>\n",
    "<td><code>float_</code></td>\n",
    "<td>Shorthand for <code>float64</code>.</td>\n",
    "</tr>\n",
    "<tr>\n",
    "<td><code>float16</code></td>\n",
    "<td>Half precision float: sign bit, 5 bits exponent, 10 bits mantissa</td>\n",
    "</tr>\n",
    "<tr>\n",
    "<td><code>float32</code></td>\n",
    "<td>Single precision float: sign bit, 8 bits exponent, 23 bits mantissa</td>\n",
    "</tr>\n",
    "<tr>\n",
    "<td><code>float64</code></td>\n",
    "<td>Double precision float: sign bit, 11 bits exponent, 52 bits mantissa</td>\n",
    "</tr>\n",
    "<tr>\n",
    "<td><code>complex_</code></td>\n",
    "<td>Shorthand for <code>complex128</code>.</td>\n",
    "</tr>\n",
    "<tr>\n",
    "<td><code>complex64</code></td>\n",
    "<td>Complex number, represented by two 32-bit floats</td>\n",
    "</tr>\n",
    "<tr>\n",
    "<td><code>complex128</code></td>\n",
    "<td>Complex number, represented by two 64-bit floats</td>\n",
    "</tr>\n",
    "</tbody>\n",
    "</table>\n",
    "\n",
    "</div>"
   ]
  },
  {
   "cell_type": "markdown",
   "metadata": {},
   "source": [
    "### Computation on NumPy Arrays: Universal Functions\n"
   ]
  },
  {
   "cell_type": "markdown",
   "metadata": {},
   "source": [
    "#### The Slowness of Loops\n",
    "\n"
   ]
  },
  {
   "cell_type": "code",
   "execution_count": null,
   "metadata": {},
   "outputs": [],
   "source": []
  },
  {
   "cell_type": "code",
   "execution_count": null,
   "metadata": {},
   "outputs": [],
   "source": []
  },
  {
   "cell_type": "code",
   "execution_count": null,
   "metadata": {},
   "outputs": [],
   "source": []
  },
  {
   "cell_type": "code",
   "execution_count": null,
   "metadata": {},
   "outputs": [],
   "source": []
  },
  {
   "cell_type": "code",
   "execution_count": null,
   "metadata": {},
   "outputs": [],
   "source": []
  },
  {
   "cell_type": "code",
   "execution_count": null,
   "metadata": {},
   "outputs": [],
   "source": []
  },
  {
   "cell_type": "code",
   "execution_count": null,
   "metadata": {},
   "outputs": [],
   "source": []
  },
  {
   "cell_type": "markdown",
   "metadata": {},
   "source": [
    "#### Introducing UFuncs (Universal functions)\n",
    "\n",
    "[Docs](https://docs.scipy.org/doc/numpy/reference/ufuncs.html())\n",
    "\n"
   ]
  },
  {
   "cell_type": "code",
   "execution_count": null,
   "metadata": {},
   "outputs": [],
   "source": []
  },
  {
   "cell_type": "code",
   "execution_count": null,
   "metadata": {},
   "outputs": [],
   "source": []
  },
  {
   "cell_type": "code",
   "execution_count": null,
   "metadata": {},
   "outputs": [],
   "source": []
  },
  {
   "cell_type": "code",
   "execution_count": null,
   "metadata": {},
   "outputs": [],
   "source": []
  },
  {
   "cell_type": "code",
   "execution_count": null,
   "metadata": {},
   "outputs": [],
   "source": []
  },
  {
   "cell_type": "markdown",
   "metadata": {},
   "source": [
    "### Uvoz realnih podatkov\n"
   ]
  },
  {
   "cell_type": "code",
   "execution_count": null,
   "metadata": {},
   "outputs": [],
   "source": []
  },
  {
   "cell_type": "code",
   "execution_count": null,
   "metadata": {},
   "outputs": [],
   "source": []
  },
  {
   "cell_type": "code",
   "execution_count": null,
   "metadata": {},
   "outputs": [],
   "source": []
  },
  {
   "cell_type": "code",
   "execution_count": null,
   "metadata": {},
   "outputs": [],
   "source": []
  },
  {
   "cell_type": "code",
   "execution_count": null,
   "metadata": {},
   "outputs": [],
   "source": []
  },
  {
   "cell_type": "code",
   "execution_count": null,
   "metadata": {},
   "outputs": [],
   "source": []
  },
  {
   "cell_type": "markdown",
   "metadata": {},
   "source": [
    "- Row 1 is RatecodeID\n",
    "- Row 2 is PULocationID\n",
    "- Row 3 is DOLocationID\n",
    "- Row 4 is passenger_count\n",
    "- Row 5 is trip_distance\n",
    "- Row 6 is fare_amount\n",
    "- Row 7 is extra\n",
    "- Row 8 is mta_tax\n",
    "- Row 9 is tip_amount\n",
    "- Row 10 is tolls_amount\n",
    "- Row 11 is improvement_surcharge\n",
    "- Row 12 is total_amount\n",
    "- Row 13 is payment_type\n",
    "- Row 14 is trip_type"
   ]
  },
  {
   "cell_type": "markdown",
   "metadata": {},
   "source": [
    "### Vector Math\n",
    "\n"
   ]
  },
  {
   "cell_type": "code",
   "execution_count": null,
   "metadata": {},
   "outputs": [],
   "source": []
  },
  {
   "cell_type": "code",
   "execution_count": null,
   "metadata": {},
   "outputs": [],
   "source": []
  },
  {
   "cell_type": "code",
   "execution_count": null,
   "metadata": {},
   "outputs": [],
   "source": []
  },
  {
   "cell_type": "code",
   "execution_count": null,
   "metadata": {},
   "outputs": [],
   "source": []
  },
  {
   "cell_type": "code",
   "execution_count": null,
   "metadata": {},
   "outputs": [],
   "source": []
  },
  {
   "cell_type": "markdown",
   "metadata": {},
   "source": [
    "\n",
    "Here's what happened behind the scenes:\n",
    "\n",
    "<p><img alt=\"Vectorized Addition\" src=\"https://s3.amazonaws.com/dq-content/289/vectorized_addition.svg\"></p>\n",
    "\n",
    "\n",
    "- `vector_a + vector_b` - Addition\n",
    "- `vector_a - vector_b7` - Subtraction\n",
    "- `vector_a * vector_b` - Multiplication (this is unrelated to the vector multiplication used in linear algebra).\n",
    "- `vector_a / vector_b` - Division\n",
    "- `vector_a % vector_b` - Modulus (find the remainder when vector_a is divided by vector_b)\n",
    "- `vector_a ** vector_b` - Exponent (raise vector_a to the power of vector_b)\n",
    "- `vector_a // vector_b` - Floor Division (divide vector_a by vector_b, rounding down to the nearest integer)"
   ]
  },
  {
   "cell_type": "code",
   "execution_count": null,
   "metadata": {},
   "outputs": [],
   "source": []
  },
  {
   "cell_type": "code",
   "execution_count": null,
   "metadata": {},
   "outputs": [],
   "source": []
  },
  {
   "cell_type": "code",
   "execution_count": null,
   "metadata": {},
   "outputs": [],
   "source": []
  },
  {
   "cell_type": "code",
   "execution_count": null,
   "metadata": {},
   "outputs": [],
   "source": []
  },
  {
   "cell_type": "code",
   "execution_count": null,
   "metadata": {},
   "outputs": [],
   "source": []
  },
  {
   "cell_type": "markdown",
   "metadata": {},
   "source": [
    "\n",
    "<div class=\"inner_cell\">\n",
    "<div class=\"text_cell_render border-box-sizing rendered_html\">\n",
    "<p>The following table lists the arithmetic operators implemented in NumPy:</p>\n",
    "<table>\n",
    "<thead><tr>\n",
    "<th>Operator</th>\n",
    "<th>Equivalent ufunc</th>\n",
    "<th>Description</th>\n",
    "</tr>\n",
    "</thead>\n",
    "<tbody>\n",
    "<tr>\n",
    "<td><code>+</code></td>\n",
    "<td><code>np.add</code></td>\n",
    "<td>Addition (e.g., <code>1 + 1 = 2</code>)</td>\n",
    "</tr>\n",
    "<tr>\n",
    "<td><code>-</code></td>\n",
    "<td><code>np.subtract</code></td>\n",
    "<td>Subtraction (e.g., <code>3 - 2 = 1</code>)</td>\n",
    "</tr>\n",
    "<tr>\n",
    "<td><code>-</code></td>\n",
    "<td><code>np.negative</code></td>\n",
    "<td>Unary negation (e.g., <code>-2</code>)</td>\n",
    "</tr>\n",
    "<tr>\n",
    "<td><code>*</code></td>\n",
    "<td><code>np.multiply</code></td>\n",
    "<td>Multiplication (e.g., <code>2 * 3 = 6</code>)</td>\n",
    "</tr>\n",
    "<tr>\n",
    "<td><code>/</code></td>\n",
    "<td><code>np.divide</code></td>\n",
    "<td>Division (e.g., <code>3 / 2 = 1.5</code>)</td>\n",
    "</tr>\n",
    "<tr>\n",
    "<td><code>//</code></td>\n",
    "<td><code>np.floor_divide</code></td>\n",
    "<td>Floor division (e.g., <code>3 // 2 = 1</code>)</td>\n",
    "</tr>\n",
    "<tr>\n",
    "<td><code>**</code></td>\n",
    "<td><code>np.power</code></td>\n",
    "<td>Exponentiation (e.g., <code>2 ** 3 = 8</code>)</td>\n",
    "</tr>\n",
    "<tr>\n",
    "<td><code>%</code></td>\n",
    "<td><code>np.mod</code></td>\n",
    "<td>Modulus/remainder (e.g., <code>9 % 4 = 1</code>)</td>\n",
    "</tr>\n",
    "</tbody>\n",
    "</table>\n",
    "<p>Additionally there are Boolean/bitwise operators; we will explore these in <a href=\"02.06-boolean-arrays-and-masks.html\">Comparisons, Masks, and Boolean Logic</a>.</p>\n",
    "\n",
    "</div>\n",
    "</div>\n",
    "\n",
    "[Mathematical expressions](https://docs.scipy.org/doc/numpy-1.14.0/reference/routines.math.html#arithmetic-operations)"
   ]
  },
  {
   "cell_type": "markdown",
   "metadata": {},
   "source": [
    "### Calculating Statistics For 1D ndarrays\n",
    "\n"
   ]
  },
  {
   "cell_type": "code",
   "execution_count": null,
   "metadata": {},
   "outputs": [],
   "source": []
  },
  {
   "cell_type": "code",
   "execution_count": null,
   "metadata": {},
   "outputs": [],
   "source": []
  },
  {
   "cell_type": "code",
   "execution_count": null,
   "metadata": {},
   "outputs": [],
   "source": []
  },
  {
   "cell_type": "code",
   "execution_count": null,
   "metadata": {},
   "outputs": [],
   "source": []
  },
  {
   "cell_type": "code",
   "execution_count": null,
   "metadata": {},
   "outputs": [],
   "source": []
  },
  {
   "cell_type": "code",
   "execution_count": null,
   "metadata": {},
   "outputs": [],
   "source": []
  },
  {
   "cell_type": "markdown",
   "metadata": {},
   "source": [
    "### Calculating Statistics For 2D ndarrays\n",
    "\n",
    "For now, we're going to look at how we can calculate statistics for two-dimensional ndarrays. If we use the arrays without additional parameters, they will return a single value, just like they do with a 1D array:\n",
    "\n",
    "<p><img alt=\"Array method without axis parameter\" src=\"https://s3.amazonaws.com/dq-content/289/array_method_axis_none.svg\"></p>\n",
    "\n",
    "But what if we wanted to find the maximum value of each row? For that, we need to use the axis parameter, and specify a value of 1, which indicates we want to calculate values for each row.\n",
    "\n",
    "<p><img alt=\"Array method without axis 1\" src=\"https://s3.amazonaws.com/dq-content/289/array_method_axis_1.svg\"></p>\n",
    "\n",
    "If we want to find the maximum value of each column, we use an axis value of 0:\n",
    "\n",
    "<p><img alt=\"Array method without axis 1\" src=\"https://s3.amazonaws.com/dq-content/289/array_method_axis_0.svg\"></p>\n",
    "\n",
    "To help you remember which is which, you can think of the first axis as rows, and the second axis as columns, just in the same way as when we're indexing a 2D NumPy array we use ndarray[row,column]. Then you think about which axis you want to apply the method along. The tricky part is to remember that when you apply the method along one axis, you get results in the other axis. Here is an illustration of that:\n",
    "\n",
    "<p><img alt=\"The axis parameter\" src=\"https://s3.amazonaws.com/dq-content/289/axis_param.svg\"></p>\n",
    "\n"
   ]
  },
  {
   "cell_type": "code",
   "execution_count": null,
   "metadata": {},
   "outputs": [],
   "source": []
  },
  {
   "cell_type": "code",
   "execution_count": null,
   "metadata": {},
   "outputs": [],
   "source": []
  },
  {
   "cell_type": "code",
   "execution_count": null,
   "metadata": {},
   "outputs": [],
   "source": []
  },
  {
   "cell_type": "code",
   "execution_count": null,
   "metadata": {},
   "outputs": [],
   "source": []
  },
  {
   "cell_type": "code",
   "execution_count": null,
   "metadata": {},
   "outputs": [],
   "source": []
  },
  {
   "cell_type": "code",
   "execution_count": null,
   "metadata": {},
   "outputs": [],
   "source": []
  },
  {
   "cell_type": "code",
   "execution_count": null,
   "metadata": {},
   "outputs": [],
   "source": []
  },
  {
   "cell_type": "code",
   "execution_count": null,
   "metadata": {},
   "outputs": [],
   "source": []
  },
  {
   "cell_type": "code",
   "execution_count": null,
   "metadata": {},
   "outputs": [],
   "source": []
  },
  {
   "cell_type": "markdown",
   "metadata": {},
   "source": [
    "### Adding Rows and Columns to ndarrays\n"
   ]
  },
  {
   "cell_type": "code",
   "execution_count": null,
   "metadata": {},
   "outputs": [],
   "source": []
  },
  {
   "cell_type": "code",
   "execution_count": null,
   "metadata": {},
   "outputs": [],
   "source": []
  },
  {
   "cell_type": "code",
   "execution_count": null,
   "metadata": {},
   "outputs": [],
   "source": []
  },
  {
   "cell_type": "code",
   "execution_count": null,
   "metadata": {},
   "outputs": [],
   "source": []
  },
  {
   "cell_type": "markdown",
   "metadata": {},
   "source": [
    "### Sorting ndarrays\n"
   ]
  },
  {
   "cell_type": "code",
   "execution_count": null,
   "metadata": {},
   "outputs": [],
   "source": []
  },
  {
   "cell_type": "code",
   "execution_count": null,
   "metadata": {},
   "outputs": [],
   "source": []
  },
  {
   "cell_type": "code",
   "execution_count": null,
   "metadata": {},
   "outputs": [],
   "source": []
  },
  {
   "cell_type": "code",
   "execution_count": null,
   "metadata": {},
   "outputs": [],
   "source": []
  },
  {
   "cell_type": "code",
   "execution_count": null,
   "metadata": {},
   "outputs": [],
   "source": []
  },
  {
   "cell_type": "code",
   "execution_count": null,
   "metadata": {},
   "outputs": [],
   "source": []
  },
  {
   "cell_type": "code",
   "execution_count": null,
   "metadata": {},
   "outputs": [],
   "source": []
  },
  {
   "cell_type": "code",
   "execution_count": null,
   "metadata": {},
   "outputs": [],
   "source": []
  },
  {
   "cell_type": "markdown",
   "metadata": {},
   "source": [
    "###  Reading CSV files with NumPy"
   ]
  },
  {
   "cell_type": "code",
   "execution_count": null,
   "metadata": {},
   "outputs": [],
   "source": []
  },
  {
   "cell_type": "code",
   "execution_count": null,
   "metadata": {},
   "outputs": [],
   "source": []
  },
  {
   "cell_type": "code",
   "execution_count": null,
   "metadata": {},
   "outputs": [],
   "source": []
  },
  {
   "cell_type": "code",
   "execution_count": null,
   "metadata": {},
   "outputs": [],
   "source": []
  },
  {
   "cell_type": "code",
   "execution_count": null,
   "metadata": {},
   "outputs": [],
   "source": []
  },
  {
   "cell_type": "markdown",
   "metadata": {},
   "source": [
    "###  Boolean Arrays\n",
    "\n",
    "\n",
    "\n"
   ]
  },
  {
   "cell_type": "code",
   "execution_count": null,
   "metadata": {},
   "outputs": [],
   "source": []
  },
  {
   "cell_type": "code",
   "execution_count": null,
   "metadata": {},
   "outputs": [],
   "source": []
  },
  {
   "cell_type": "code",
   "execution_count": null,
   "metadata": {},
   "outputs": [],
   "source": []
  },
  {
   "cell_type": "code",
   "execution_count": null,
   "metadata": {},
   "outputs": [],
   "source": []
  },
  {
   "cell_type": "code",
   "execution_count": null,
   "metadata": {},
   "outputs": [],
   "source": []
  },
  {
   "cell_type": "markdown",
   "metadata": {},
   "source": [
    "A similar pattern occurs– the 'less than five' operation is applied to each value in the array. The diagram below shows this step by step:\n",
    "\n",
    "<p><img alt=\"Vectorized boolean operation\" src=\"https://s3.amazonaws.com/dq-content/290/vectorized_bool.svg\"></p>"
   ]
  },
  {
   "cell_type": "markdown",
   "metadata": {},
   "source": [
    "### Boolean Indexing with 1D ndarrays"
   ]
  },
  {
   "cell_type": "markdown",
   "metadata": {},
   "source": [
    "\n",
    "\n",
    "\n",
    "<p><img alt=\"Boolean indexing 1D ndarrays 1\" src=\"https://s3.amazonaws.com/dq-content/290/1d_bool_1.svg\"></p>\n",
    "\n",
    "\n",
    "\n",
    "<p><img alt=\"Boolean indexing 1D ndarrays 2\" src=\"https://s3.amazonaws.com/dq-content/290/1d_bool_2.svg\"></p>\n",
    "\n",
    "\n"
   ]
  },
  {
   "cell_type": "code",
   "execution_count": null,
   "metadata": {},
   "outputs": [],
   "source": []
  },
  {
   "cell_type": "code",
   "execution_count": null,
   "metadata": {},
   "outputs": [],
   "source": []
  },
  {
   "cell_type": "code",
   "execution_count": null,
   "metadata": {},
   "outputs": [],
   "source": []
  },
  {
   "cell_type": "code",
   "execution_count": null,
   "metadata": {},
   "outputs": [],
   "source": []
  },
  {
   "cell_type": "code",
   "execution_count": null,
   "metadata": {},
   "outputs": [],
   "source": []
  },
  {
   "cell_type": "markdown",
   "metadata": {},
   "source": [
    "### Boolean Indexing with 2D ndarrays\n",
    "\n",
    "\n",
    "<p><img alt=\"Boolean indexing 1D ndarrays 2\" src=\"https://s3.amazonaws.com/dq-content/290/bool_dims.svg\"></p>\n"
   ]
  },
  {
   "cell_type": "code",
   "execution_count": null,
   "metadata": {},
   "outputs": [],
   "source": []
  },
  {
   "cell_type": "code",
   "execution_count": null,
   "metadata": {},
   "outputs": [],
   "source": []
  },
  {
   "cell_type": "code",
   "execution_count": null,
   "metadata": {},
   "outputs": [],
   "source": []
  },
  {
   "cell_type": "code",
   "execution_count": null,
   "metadata": {},
   "outputs": [],
   "source": []
  },
  {
   "cell_type": "code",
   "execution_count": null,
   "metadata": {},
   "outputs": [],
   "source": []
  },
  {
   "cell_type": "code",
   "execution_count": null,
   "metadata": {},
   "outputs": [],
   "source": []
  },
  {
   "cell_type": "code",
   "execution_count": null,
   "metadata": {},
   "outputs": [],
   "source": []
  },
  {
   "cell_type": "markdown",
   "metadata": {},
   "source": [
    "### Assigning Values in ndarrays"
   ]
  },
  {
   "cell_type": "code",
   "execution_count": null,
   "metadata": {},
   "outputs": [],
   "source": []
  },
  {
   "cell_type": "code",
   "execution_count": null,
   "metadata": {},
   "outputs": [],
   "source": []
  },
  {
   "cell_type": "code",
   "execution_count": null,
   "metadata": {},
   "outputs": [],
   "source": []
  },
  {
   "cell_type": "code",
   "execution_count": null,
   "metadata": {},
   "outputs": [],
   "source": []
  },
  {
   "cell_type": "code",
   "execution_count": null,
   "metadata": {},
   "outputs": [],
   "source": []
  },
  {
   "cell_type": "markdown",
   "metadata": {},
   "source": [
    "### Subarrays as no-copy views\n",
    "\n"
   ]
  },
  {
   "cell_type": "code",
   "execution_count": null,
   "metadata": {},
   "outputs": [],
   "source": []
  },
  {
   "cell_type": "code",
   "execution_count": null,
   "metadata": {},
   "outputs": [],
   "source": []
  },
  {
   "cell_type": "code",
   "execution_count": null,
   "metadata": {},
   "outputs": [],
   "source": []
  },
  {
   "cell_type": "code",
   "execution_count": null,
   "metadata": {},
   "outputs": [],
   "source": []
  },
  {
   "cell_type": "code",
   "execution_count": null,
   "metadata": {},
   "outputs": [],
   "source": []
  },
  {
   "cell_type": "markdown",
   "metadata": {},
   "source": [
    "### Copying Data\n"
   ]
  },
  {
   "cell_type": "code",
   "execution_count": null,
   "metadata": {},
   "outputs": [],
   "source": []
  },
  {
   "cell_type": "code",
   "execution_count": null,
   "metadata": {},
   "outputs": [],
   "source": []
  },
  {
   "cell_type": "code",
   "execution_count": null,
   "metadata": {},
   "outputs": [],
   "source": []
  }
 ],
 "metadata": {
  "kernelspec": {
   "display_name": "Python 3",
   "language": "python",
   "name": "python3"
  },
  "language_info": {
   "codemirror_mode": {
    "name": "ipython",
    "version": 3
   },
   "file_extension": ".py",
   "mimetype": "text/x-python",
   "name": "python",
   "nbconvert_exporter": "python",
   "pygments_lexer": "ipython3",
   "version": "3.7.3"
  }
 },
 "nbformat": 4,
 "nbformat_minor": 2
}
